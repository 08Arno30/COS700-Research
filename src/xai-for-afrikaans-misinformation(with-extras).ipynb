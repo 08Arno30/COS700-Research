{
 "cells": [
  {
   "cell_type": "markdown",
   "metadata": {},
   "source": [
    "This notebook is a raw version of the cleaned notebook named `xai-for-afrikaans-misinformation`. This notebook does include additional code that was used to compare translation models, where the resulting scores were visualised in the research report. The parallel corpora used in this notebook (i.e. NLLB, CCMatrix) can be found [here](https://opus.nlpl.eu/), while the Autshumato data can be found [here](https://sourceforge.net/projects/autshumato/). Note the Afrikaans-to-English translations were used and these datasets were only used for experiment purposes.\n",
    "\n",
    "To run this notebook, please use a Kaggle environment by uploading this notebook to Kaggle."
   ]
  },
  {
   "cell_type": "code",
   "execution_count": null,
   "metadata": {
    "execution": {
     "iopub.execute_input": "2024-10-17T10:04:08.281763Z",
     "iopub.status.busy": "2024-10-17T10:04:08.281090Z",
     "iopub.status.idle": "2024-10-17T10:05:01.034537Z",
     "shell.execute_reply": "2024-10-17T10:05:01.033591Z",
     "shell.execute_reply.started": "2024-10-17T10:04:08.281730Z"
    },
    "executionInfo": {
     "elapsed": 5144,
     "status": "ok",
     "timestamp": 1720526035357,
     "user": {
      "displayName": "Arno Jooste",
      "userId": "05752115645354869392"
     },
     "user_tz": -120
    },
    "id": "GUUL-HdjQFUj",
    "outputId": "1f1cb4c7-c97b-4218-ea91-4538ee7d314f",
    "trusted": true
   },
   "outputs": [],
   "source": [
    "# Installs\n",
    "! pip install pandas\n",
    "! pip install sacremoses\n",
    "\n",
    "! pip install -U nltk\n",
    "# ! pip install nltk==3.2.4\n",
    "!unzip /usr/share/nltk_data/corpora/wordnet.zip -d /usr/share/nltk_data/corpora/\n",
    "!pip install lime"
   ]
  },
  {
   "cell_type": "code",
   "execution_count": null,
   "metadata": {
    "execution": {
     "iopub.execute_input": "2024-10-17T10:05:01.036815Z",
     "iopub.status.busy": "2024-10-17T10:05:01.036526Z",
     "iopub.status.idle": "2024-10-17T10:05:08.952178Z",
     "shell.execute_reply": "2024-10-17T10:05:08.950901Z",
     "shell.execute_reply.started": "2024-10-17T10:05:01.036787Z"
    },
    "trusted": true
   },
   "outputs": [],
   "source": [
    "# Imports\n",
    "from nltk.translate.bleu_score import sentence_bleu, SmoothingFunction\n",
    "from nltk.translate.meteor_score import meteor_score\n",
    "from nltk import word_tokenize\n",
    "import torch\n",
    "import os\n",
    "import numpy as np\n",
    "import matplotlib.pyplot as plt\n",
    "import plotly.express as px\n",
    "from collections import Counter\n",
    "import pandas as pd\n",
    "import re\n",
    "from transformers import MBartForConditionalGeneration, MBart50TokenizerFast\n",
    "from transformers import AutoTokenizer, AutoModelForSeq2SeqLM\n",
    "from collections import Counter\n",
    "import nltk\n",
    "nltk.download('punkt_tab')\n",
    "from transformers import BertModel, BertTokenizerFast\n",
    "import torch.nn.functional as F\n",
    "from wordcloud import WordCloud\n",
    "from sklearn.preprocessing import LabelEncoder, OneHotEncoder\n",
    "from imblearn.over_sampling import SMOTE\n",
    "from sklearn.svm import SVC\n",
    "from sklearn.preprocessing import StandardScaler\n",
    "from sklearn.linear_model import LogisticRegression\n",
    "from sklearn.pipeline import make_pipeline\n",
    "from sklearn.ensemble import RandomForestClassifier\n",
    "from sklearn.metrics import classification_report, accuracy_score\n",
    "from collections import Counter\n",
    "from lime.lime_text import LimeTextExplainer\n",
    "from sklearn.base import BaseEstimator, TransformerMixin"
   ]
  },
  {
   "cell_type": "code",
   "execution_count": null,
   "metadata": {
    "execution": {
     "iopub.execute_input": "2024-10-17T10:05:08.954372Z",
     "iopub.status.busy": "2024-10-17T10:05:08.953713Z",
     "iopub.status.idle": "2024-10-17T10:05:08.959435Z",
     "shell.execute_reply": "2024-10-17T10:05:08.958236Z",
     "shell.execute_reply.started": "2024-10-17T10:05:08.954338Z"
    },
    "trusted": true
   },
   "outputs": [],
   "source": [
    "# Set seed\n",
    "seed = 42"
   ]
  },
  {
   "cell_type": "markdown",
   "metadata": {
    "id": "DNskmjKka7T9"
   },
   "source": [
    "# Evaluation of different models using BLEU scores"
   ]
  },
  {
   "cell_type": "markdown",
   "metadata": {
    "id": "TTLQiS5edHIB"
   },
   "source": [
    "## Parallel Corpora\n",
    "\n",
    "This notebook acknowledges and uses corpora which can be found at the [OPUS collection](https://opus.nlpl.eu/).\n",
    "\n",
    "<hr>\n",
    "\n",
    "### **CCMatrix**\n",
    "\n",
    "**Latest Release:**\n",
    "- v1\n",
    "\n",
    "This corpus has been extracted from web crawls using the margin-based bitext mining techniques described at [LASER GitHub](https://github.com/facebookresearch/LASER/tree/master/tasks/CCMatrix).\n",
    "\n",
    "<hr>\n",
    "\n",
    "### **NLLB**\n",
    "\n",
    "**Latest Release:**\n",
    "- v1\n",
    "\n",
    "**License:**\n",
    "- ODC-By\n",
    "\n",
    "This dataset was developed from metadata for mined bitext provided by Meta AI. It includes bitext for 148 English-centric and 1465 non-English-centric language pairs, utilizing the stopes mining library and LASER3 encoders (Heffernan et al., 2022). The total size of the dataset is approximately 450GB. This release is based on data packages available at Hugging Face and AllenAI. Detailed information about instances for each language pair in the original data is available in the `dataset_infos.json` file. Data filtering was done based on language identification, emoji filtering, and for some high-resource languages, a language model. For more details on data filtering, see Section 5.2 (NLLB Team et al., 2022). Mappings between the original NLLB language IDs and OPUS language IDs are available in this table. Sentence alignments include LASER3 scores (refer to XCES align files), language ID scores, source information, and URLs from where the data was extracted (refer to language XML files).\n",
    "\n",
    "<hr>\n",
    "\n",
    "**Papers cited:**\n",
    "\n",
    "- Holger Schwenk, Guillaume Wenzek, Sergey Edunov, Edouard Grave, Armand Joulin, and Angela Fan. *CCMatrix: Mining Billions of High-Quality Parallel Sentences on the WEB.*\n",
    "- Angela Fan, Shruti Bhosale, Holger Schwenk, Zhiyi Ma, Ahmed El-Kishky, Siddharth Goyal, Mandeep Baines, Onur Celebi, Guillaume Wenzek, Vishrav Chaudhary, Naman Goyal, Tom Birch, Vitaliy Liptchinsky, Sergey Edunov, Edouard Grave, Michael Auli, and Armand Joulin. *Beyond English-Centric Multilingual Machine Translation.*\n",
    "\n",
    "Additionally, we acknowledge OPUS for the service provided here by citing:\n",
    "\n",
    "- Jörg Tiedemann. *Parallel Data, Tools and Interfaces in OPUS.*\n",
    "\n",
    "<hr>\n",
    "\n",
    "**BIBTEX citation:**\n",
    "\n",
    "```bibtex\n",
    "@inproceedings{tiedemann-2012-parallel,\n",
    "    title = \"Parallel Data, Tools and Interfaces in {OPUS}\",\n",
    "    author = {Tiedemann, J{\\\"o}rg},\n",
    "    editor = \"Calzolari, Nicoletta  and\n",
    "      Choukri, Khalid  and\n",
    "      Declerck, Thierry  and\n",
    "      Do{\\u{g}}an, Mehmet U{\\u{g}}ur  and\n",
    "      Maegaard, Bente  and\n",
    "      Mariani, Joseph  and\n",
    "      Moreno, Asuncion  and\n",
    "      Odijk, Jan  and\n",
    "      Piperidis, Stelios\",\n",
    "    booktitle = \"Proceedings of the Eighth International Conference on Language Resources and Evaluation ({LREC}'12)\",\n",
    "    month = may,\n",
    "    year = \"2012\",\n",
    "    address = \"Istanbul, Turkey\",\n",
    "    publisher = \"European Language Resources Association (ELRA)\",\n",
    "    url = \"http://www.lrec-conf.org/proceedings/lrec2012/pdf/463_Paper.pdf\",\n",
    "    pages = \"2214--2218\",\n",
    "    abstract = \"This paper presents the current status of OPUS, a growing language resource of parallel corpora and related tools. The focus in OPUS is to provide freely available data sets in various formats together with basic annotation to be useful for applications in computational linguistics, translation studies and cross-linguistic corpus studies. In this paper, we report about new data sets and their features, additional annotation tools and models provided from the website and essential interfaces and on-line services included in the project.\",\n",
    "}\n",
    "```"
   ]
  },
  {
   "cell_type": "markdown",
   "metadata": {
    "id": "2X_HfyFlhpFk"
   },
   "source": [
    "### Load parallel corpus"
   ]
  },
  {
   "cell_type": "code",
   "execution_count": null,
   "metadata": {
    "executionInfo": {
     "elapsed": 47525,
     "status": "ok",
     "timestamp": 1720526100242,
     "user": {
      "displayName": "Arno Jooste",
      "userId": "05752115645354869392"
     },
     "user_tz": -120
    },
    "id": "2XPZiAASdGtG",
    "trusted": true
   },
   "outputs": [],
   "source": [
    "# def load_parallel_corpus(src_path, tgt_path):\n",
    "#     with open(src_path, 'r', encoding='utf-8') as src_file:\n",
    "#         source_texts = src_file.readlines()\n",
    "#         if len(source_texts) > 10000:\n",
    "#             source_texts = source_texts[:10000]\n",
    "\n",
    "#     with open(tgt_path, 'r', encoding='utf-8') as tgt_file:\n",
    "#         target_texts = tgt_file.readlines()\n",
    "#         if len(target_texts) > 10000:\n",
    "#             target_texts = target_texts[:10000]\n",
    "\n",
    "#     return source_texts, target_texts\n",
    "\n",
    "# def clean_data(source_texts, target_texts):\n",
    "#     cleaned_source_texts = []\n",
    "#     cleaned_target_texts = []\n",
    "#     pattern = \"<Doc\"\n",
    "\n",
    "#     for source, target in zip(source_texts, target_texts):\n",
    "#         if not re.search(pattern, source) and not re.search(pattern, target):\n",
    "#             cleaned_source_texts.append(source)\n",
    "#             cleaned_target_texts.append(target)\n",
    "\n",
    "#     return cleaned_source_texts, cleaned_target_texts\n",
    "\n",
    "# # Paths to your parallel corpus files\n",
    "# # src_path = '/kaggle/input/ccmatrix/CCMatrix.af-en.en'\n",
    "# # tgt_path = '/kaggle/input/ccmatrix/CCMatrix.af-en.af'\n",
    "# src_path = '/kaggle/input/opus-nllb/NLLB.af-en.en'\n",
    "# tgt_path = '/kaggle/input/opus-nllb/NLLB.af-en.af'\n",
    "# # src_path = '/kaggle/input/autshumato/Autshumato.EvaluationSet.English.Translator1.txt'\n",
    "# # tgt_path = '/kaggle/input/autshumato/Autshumato.EvaluationSet.Afrikaans.Translator1.txt'\n",
    "\n",
    "# # Load the parallel corpus\n",
    "# source_texts, target_texts = load_parallel_corpus(src_path, tgt_path)\n",
    "\n",
    "# # print(f'Source text before cleaning: {source_texts[:2]}')\n",
    "# # print(f'Target text before cleaning: {target_texts[:2]}')\n",
    "\n",
    "# # # Clean the data\n",
    "# # source_texts, target_texts = clean_data(source_texts, target_texts)\n",
    "\n",
    "# # print(f'Source text after cleaning: {source_texts[:2]}')\n",
    "# # print(f'Target text after cleaning: {target_texts[:2]}')\n",
    "\n",
    "# # # Combine Autshumato files into one file for source and one for target\n",
    "# # # First file\n",
    "# # src_one_path = '/kaggle/input/autshumato/Autshumato.EvaluationSet.English.Translator1.txt'\n",
    "# # tgt_one_path = '/kaggle/input/autshumato/Autshumato.EvaluationSet.Afrikaans.Translator1.txt'\n",
    "# # # Second file\n",
    "# # src_two_path = '/kaggle/input/autshumato/Autshumato.EvaluationSet.English.Translator2.txt'\n",
    "# # tgt_two_path = '/kaggle/input/autshumato/Autshumato.EvaluationSet.Afrikaans.Translator2.txt'\n",
    "# # # Third file\n",
    "# # src_three_path = '/kaggle/input/autshumato/Autshumato.EvaluationSet.English.Translator3.txt'\n",
    "# # tgt_three_path = '/kaggle/input/autshumato/Autshumato.EvaluationSet.Afrikaans.Translator3.txt'\n",
    "# # # Fourth file\n",
    "# # src_four_path = '/kaggle/input/autshumato/Autshumato.EvaluationSet.English.Translator4.txt'\n",
    "# # tgt_four_path = '/kaggle/input/autshumato/Autshumato.EvaluationSet.Afrikaans.Translator4.txt'\n",
    "\n",
    "# # src_paths = [src_one_path, src_two_path, src_three_path, src_four_path]\n",
    "# # tgt_paths = [tgt_one_path, tgt_two_path, tgt_three_path, tgt_four_path]\n",
    "\n",
    "# # source_texts = []\n",
    "# # target_texts = []\n",
    "\n",
    "# # for src_path, tgt_path in zip(src_paths, tgt_paths):\n",
    "# #     new_source, new_target = load_parallel_corpus(src_path, tgt_path)\n",
    "    \n",
    "# #     source_texts.extend(new_source)\n",
    "# #     target_texts.extend(new_target)\n",
    "\n",
    "# # Batch size for translation\n",
    "# batch_size = 8\n",
    "\n",
    "# # Define sample size\n",
    "# sample_size = 10000 # currently we set it to the full sample (we only read the first 10000 lines in the function above)"
   ]
  },
  {
   "cell_type": "markdown",
   "metadata": {},
   "source": [
    "## Analysis on data"
   ]
  },
  {
   "cell_type": "code",
   "execution_count": null,
   "metadata": {
    "trusted": true
   },
   "outputs": [],
   "source": [
    "# # Extract sentence lengths (in words) into list\n",
    "# source_sentence_lengths = [len(sentence.split()) for sentence in source_texts]\n",
    "# target_sentence_lengths = [len(sentence.split()) for sentence in target_texts]\n",
    "\n",
    "# # Calculate frequency distributions\n",
    "# source_length_counts = Counter(source_sentence_lengths)\n",
    "# target_length_counts = Counter(target_sentence_lengths)\n",
    "\n",
    "# # Sort the lengths for consistent plotting\n",
    "# sorted_source_lengths = sorted(source_length_counts.keys())\n",
    "# sorted_source_counts = [source_length_counts[length] for length in sorted_source_lengths]\n",
    "\n",
    "# sorted_target_lengths = sorted(target_length_counts.keys())\n",
    "# sorted_target_counts = [target_length_counts[length] for length in sorted_target_lengths]\n",
    "\n",
    "# plt.figure(figsize=(10,10))\n",
    "\n",
    "# # 1st plot - Box plot for source sentence lengths\n",
    "# plt.subplot(2, 2, 1)\n",
    "# plt.boxplot(source_sentence_lengths, vert=False, patch_artist=True,\n",
    "#             boxprops=dict(facecolor='skyblue', color='blue', alpha=0.7),\n",
    "#             medianprops=dict(color='red'))\n",
    "# plt.title('Box Plot of Sentence Lengths (in words) for Source Text')\n",
    "# plt.xlabel('Sentence Length (number of words)')\n",
    "# plt.yticks([])\n",
    "\n",
    "# # 2nd plot - Bar plot for source sentence lengths\n",
    "# plt.subplot(2, 2, 2)\n",
    "# plt.bar(sorted_source_lengths, sorted_source_counts, color='blue', alpha=0.7)\n",
    "# plt.title('Distribution of Sentence Lengths (in words) for Source Text')\n",
    "# plt.xlabel('Sentence Length (number of words)')\n",
    "# plt.ylabel('Number of Occurrences')\n",
    "\n",
    "# # 3rd plot - Box plot for target sentence lengths\n",
    "# plt.subplot(2, 2, 3)\n",
    "# plt.boxplot(target_sentence_lengths, vert=False, patch_artist=True,\n",
    "#             boxprops=dict(facecolor='lightgreen', color='green', alpha=0.7),\n",
    "#             medianprops=dict(color='red'))\n",
    "# plt.title('Box Plot of Sentence Lengths (in words) for Target Text')\n",
    "# plt.xlabel('Sentence Length (number of words)')\n",
    "# plt.yticks([])\n",
    "\n",
    "# # 4th plot - Bar plot for target sentence lengths\n",
    "# plt.subplot(2, 2, 4)\n",
    "# plt.bar(sorted_target_lengths, sorted_target_counts, color='green', alpha=0.7)\n",
    "# plt.title('Distribution of Sentence Lengths (in words) for Target Text')\n",
    "# plt.xlabel('Sentence Length (number of words)')\n",
    "# plt.ylabel('Number of Occurrences')\n",
    "\n",
    "# # Adjust layout to prevent overlapping\n",
    "# plt.tight_layout()\n",
    "\n",
    "# # Show plot\n",
    "# plt.show()"
   ]
  },
  {
   "cell_type": "code",
   "execution_count": null,
   "metadata": {
    "trusted": true
   },
   "outputs": [],
   "source": [
    "# # IQR\n",
    "# source_Q1 = np.percentile(source_sentence_lengths, 25, method='midpoint')\n",
    "# source_Q3 = np.percentile(source_sentence_lengths, 75, method='midpoint')\n",
    "# source_IQR = source_Q3 - source_Q1\n",
    "# print(source_IQR)\n",
    "\n",
    "# # Above Upper bound\n",
    "# upper_bound = source_Q3+1.5*source_IQR\n",
    "# upper_array = np.array(source_sentence_lengths >= upper_bound)\n",
    "# print(\"Upper Bound:\", upper_bound)\n",
    "# print(upper_array.sum())\n",
    "\n",
    "# # Below Lower bound\n",
    "# lower_bound = source_Q1-1.5*source_IQR\n",
    "# lower_array = np.array(source_sentence_lengths <= lower_bound)\n",
    "# print(\"Lower Bound:\", lower_bound)\n",
    "# print(lower_array.sum())\n",
    "\n",
    "# # Remove outliers\n",
    "# filtered_source_texts = []\n",
    "# filtered_target_texts = []\n",
    "\n",
    "# for source_sentence, target_sentence, length in zip(source_texts, target_texts, source_sentence_lengths):\n",
    "#     if lower_bound <= length <= upper_bound:\n",
    "#         filtered_source_texts.append(source_sentence)\n",
    "#         filtered_target_texts.append(target_sentence)\n",
    "\n",
    "# # Extract sentence lengths (in words) into list\n",
    "# source_sentence_lengths = [len(sentence.split()) for sentence in filtered_source_texts]\n",
    "# target_sentence_lengths = [len(sentence.split()) for sentence in filtered_target_texts]\n",
    "\n",
    "# # Calculate frequency distributions\n",
    "# source_length_counts = Counter(source_sentence_lengths)\n",
    "# target_length_counts = Counter(target_sentence_lengths)\n",
    "\n",
    "# # Sort the lengths for consistent plotting\n",
    "# sorted_source_lengths = sorted(source_length_counts.keys())\n",
    "# sorted_source_counts = [source_length_counts[length] for length in sorted_source_lengths]\n",
    "\n",
    "# sorted_target_lengths = sorted(target_length_counts.keys())\n",
    "# sorted_target_counts = [target_length_counts[length] for length in sorted_target_lengths]\n",
    "\n",
    "# plt.figure(figsize=(10,10))\n",
    "\n",
    "# # 1st plot - Box plot for source sentence lengths\n",
    "# plt.subplot(2, 2, 1)\n",
    "# plt.boxplot(source_sentence_lengths, vert=False, patch_artist=True,\n",
    "#             boxprops=dict(facecolor='skyblue', color='blue', alpha=0.7),\n",
    "#             medianprops=dict(color='red'))\n",
    "# plt.title('Box Plot of Sentence Lengths (in words) for Filtered Source Text')\n",
    "# plt.xlabel('Sentence Length (number of words)')\n",
    "# plt.yticks([])\n",
    "\n",
    "# # 2nd plot - Bar plot for source sentence lengths\n",
    "# plt.subplot(2, 2, 2)\n",
    "# plt.bar(sorted_source_lengths, sorted_source_counts, color='blue', alpha=0.7)\n",
    "# plt.title('Distribution of Sentence Lengths (in words) for Filtered Source Text')\n",
    "# plt.xlabel('Sentence Length (number of words)')\n",
    "# plt.ylabel('Number of Occurrences')\n",
    "\n",
    "# # 3rd plot - Box plot for target sentence lengths\n",
    "# plt.subplot(2, 2, 3)\n",
    "# plt.boxplot(target_sentence_lengths, vert=False, patch_artist=True,\n",
    "#             boxprops=dict(facecolor='lightgreen', color='green', alpha=0.7),\n",
    "#             medianprops=dict(color='red'))\n",
    "# plt.title('Box Plot of Sentence Lengths (in words) for Filtered Target Text')\n",
    "# plt.xlabel('Sentence Length (number of words)')\n",
    "# plt.yticks([])\n",
    "\n",
    "# # 4th plot - Bar plot for target sentence lengths\n",
    "# plt.subplot(2, 2, 4)\n",
    "# plt.bar(sorted_target_lengths, sorted_target_counts, color='green', alpha=0.7)\n",
    "# plt.title('Distribution of Sentence Lengths (in words) for Filtered Target Text')\n",
    "# plt.xlabel('Sentence Length (number of words)')\n",
    "# plt.ylabel('Number of Occurrences')\n",
    "\n",
    "# # Adjust layout to prevent overlapping\n",
    "# plt.tight_layout()\n",
    "\n",
    "# # Show plot\n",
    "# plt.show()"
   ]
  },
  {
   "cell_type": "code",
   "execution_count": null,
   "metadata": {
    "execution": {
     "iopub.execute_input": "2024-10-17T10:05:08.962222Z",
     "iopub.status.busy": "2024-10-17T10:05:08.961735Z",
     "iopub.status.idle": "2024-10-17T10:05:08.999604Z",
     "shell.execute_reply": "2024-10-17T10:05:08.998661Z",
     "shell.execute_reply.started": "2024-10-17T10:05:08.962173Z"
    },
    "executionInfo": {
     "elapsed": 21968,
     "status": "ok",
     "timestamp": 1720525537460,
     "user": {
      "displayName": "Arno Jooste",
      "userId": "05752115645354869392"
     },
     "user_tz": -120
    },
    "id": "3nYxiAdGiRez",
    "trusted": true
   },
   "outputs": [],
   "source": [
    "# Function to translate text from one language to another\n",
    "def translate_texts(texts, src_lang, tgt_lang, model_name):\n",
    "    if 'mbart' in model_name.lower():\n",
    "        # mBART-50-MM settings\n",
    "        tokenizer.src_lang = src_lang\n",
    "        encoded_texts = tokenizer(texts, return_tensors=\"pt\", padding=True, truncation=True).to(device)\n",
    "        generated_tokens = model.generate(\n",
    "            **encoded_texts,\n",
    "            forced_bos_token_id=tokenizer.lang_code_to_id[tgt_lang],\n",
    "            max_length=512,\n",
    "            num_beams=4,\n",
    "            early_stopping=True\n",
    "        )\n",
    "    elif 'helsinki' in model_name.lower():\n",
    "        # Helsinki settings\n",
    "        encoded_texts = tokenizer(texts, return_tensors=\"pt\", padding=True, truncation=True).to(device)\n",
    "        generated_tokens = model.generate(\n",
    "            **encoded_texts,\n",
    "            max_length=512,\n",
    "            num_beams=4,\n",
    "            early_stopping=True\n",
    "        )\n",
    "    else:\n",
    "        raise ValueError(\"Unsupported model name. Please use 'mbart' or 'helsinki' in the model name.\")\n",
    "    \n",
    "    return tokenizer.batch_decode(generated_tokens, skip_special_tokens=True)\n",
    "\n",
    "def translate_texts_in_batches(text_from_source, text_from_target=None, src_lang='en_XX', tgt_lang='af_ZA', batch_size=8, model_name='helsinki'):\n",
    "    translated_texts = []\n",
    "    reference_texts = []\n",
    "\n",
    "    # Translate texts in batches\n",
    "    for i in range(0, len(text_from_source), batch_size):\n",
    "        batch_source_texts = text_from_source[i:i+batch_size]\n",
    "        if text_from_target is not None:\n",
    "            batch_target_texts = text_from_target[i:i+batch_size]\n",
    "\n",
    "        # Translate the batch of source texts\n",
    "        translated_batch = translate_texts([text.strip() for text in batch_source_texts], src_lang, tgt_lang, model_name)  # English-to-Afrikaans\n",
    "\n",
    "        # Store the translated and reference texts\n",
    "        translated_texts.extend([text.split() for text in translated_batch])\n",
    "        if text_from_target is not None:\n",
    "            reference_texts.extend([[text.strip().split()] for text in batch_target_texts])\n",
    "\n",
    "        # Clear GPU cache\n",
    "        torch.cuda.empty_cache()\n",
    "\n",
    "    if text_from_target is not None:\n",
    "        return translated_texts, reference_texts\n",
    "    else:\n",
    "        return translated_texts\n",
    "\n",
    "def calculate_bleu_scores(translated_texts, reference_texts):\n",
    "    # Use smoothing function\n",
    "    smooth_fn = SmoothingFunction().method7\n",
    "\n",
    "    # Calculate BLEU scores with smoothing\n",
    "    bleu_scores = [sentence_bleu(ref, trans, smoothing_function=smooth_fn) for ref, trans in zip(reference_texts, translated_texts)]\n",
    "    average_bleu_score = sum(bleu_scores) / len(bleu_scores)\n",
    "\n",
    "    print(f\"Average BLEU score with smoothing: {average_bleu_score}\")\n",
    "    return bleu_scores\n",
    "    \n",
    "def calculate_meteor_scores(translated_texts, reference_texts):\n",
    "    # Calculate METEOR scores\n",
    "    meteor_scores = [meteor_score([word_tokenize(\" \".join(trans))], word_tokenize(\" \".join(ref[0]))) for trans, ref in zip(translated_texts, reference_texts)]\n",
    "    average_meteor_score = sum(meteor_scores) / len(meteor_scores)\n",
    "\n",
    "    print(f\"Average METEOR score: {average_meteor_score}\\n\")\n",
    "    return meteor_scores\n",
    "\n",
    "def plot_sentence_length_comparison(categories, avg_bleu_scores, avg_meteor_scores):\n",
    "    x = range(len(categories))\n",
    "    plt.figure(figsize=(10, 5))\n",
    "    \n",
    "    plt.plot(x, avg_bleu_scores, label='BLEU', marker='o', linestyle='--', color='blue')\n",
    "    plt.plot(x, avg_meteor_scores, label='METEOR', marker='s', linestyle='--', color='green')\n",
    "    \n",
    "    plt.xticks(x, categories)\n",
    "    plt.xlabel(\"Sentence Length Range\")\n",
    "    plt.ylabel(\"Scores\")\n",
    "    plt.title(\"BLEU and METEOR Scores by Sentence Length Range\")\n",
    "    plt.legend()\n",
    "    plt.grid(True)\n",
    "    plt.figtext(0.5, -0.1, \"Note: Sentence length is measured in the number of words\", wrap=True, horizontalalignment='center', fontsize=10)\n",
    "    plt.show()\n",
    "\n",
    "def compare_scores_by_length(translated_texts, reference_texts):\n",
    "    # Get scores\n",
    "    bleu_scores = calculate_bleu_scores(translated_texts, reference_texts)\n",
    "    meteor_scores = calculate_meteor_scores(translated_texts, reference_texts)\n",
    "\n",
    "    # Initialise categories for sentence lengths (number of words)\n",
    "    length_categories = {\n",
    "        '(0,10]': (0, 10),\n",
    "        '(10,20]': (10, 20),\n",
    "        '(20,30]': (20, 30),\n",
    "        '(30,+∞]': (30, float('inf'))\n",
    "#         '(30,40]': (30, 40),\n",
    "#         '(40,50]': (40, 50),\n",
    "#         '(50,+∞]': (50, float('inf'))\n",
    "    }\n",
    "    \n",
    "    length_bleu_scores = {category: [] for category in length_categories}\n",
    "    length_meteor_scores = {category: [] for category in length_categories}\n",
    "    \n",
    "    for trans, ref, bleu, meteor in zip(translated_texts, reference_texts, bleu_scores, meteor_scores):\n",
    "        length = len(trans)\n",
    "        for category, (min_len, max_len) in length_categories.items():\n",
    "            if min_len <= length < max_len:\n",
    "                length_bleu_scores[category].append(bleu)\n",
    "                length_meteor_scores[category].append(meteor)\n",
    "                break\n",
    "\n",
    "    avg_bleu_scores = []\n",
    "    avg_meteor_scores = []\n",
    "    categories = []\n",
    "\n",
    "    for category in length_categories:\n",
    "        avg_bleu = sum(length_bleu_scores[category]) / len(length_bleu_scores[category]) if length_bleu_scores[category] else 0\n",
    "        avg_meteor = sum(length_meteor_scores[category]) / len(length_meteor_scores[category]) if length_meteor_scores[category] else 0\n",
    "        avg_bleu_scores.append(avg_bleu)\n",
    "        avg_meteor_scores.append(avg_meteor)\n",
    "        categories.append(category)\n",
    "        print(f\"Average BLEU score for {category} sentences: {avg_bleu}\")\n",
    "        print(f\"Average METEOR score for {category} sentences: {avg_meteor}\")\n",
    "\n",
    "    plot_sentence_length_comparison(categories, avg_bleu_scores, avg_meteor_scores)\n",
    "    \n",
    "def plot_comparison_across_different_sample_sizes(sample_sizes, all_avg_bleu_scores, all_avg_meteor_scores):\n",
    "    x = range(len(sample_sizes))\n",
    "    plt.figure(figsize=(10, 5))\n",
    "    \n",
    "    plt.plot(x, all_avg_bleu_scores, label='BLEU', marker='o', linestyle='--', color='blue')\n",
    "    plt.plot(x, all_avg_meteor_scores, label='METEOR', marker='s', linestyle='--', color='green')\n",
    "    \n",
    "    plt.xticks(x, sample_sizes)\n",
    "    plt.xlabel(\"Sample Size Used\")\n",
    "    plt.ylabel(\"Average Scores\")\n",
    "    plt.title(\"Average BLEU and METEOR Scores by Sample Sizes\")\n",
    "    plt.legend()\n",
    "    plt.grid(True)\n",
    "    plt.show()\n",
    "    \n",
    "def compare_scores_across_different_sample_sizes(source_texts, target_texts, sample_sizes, src_lang, tgt_lang, batch_size, model_name):\n",
    "    all_avg_bleu_scores = []\n",
    "    all_avg_meteor_scores = []\n",
    "    \n",
    "    for sample_size in sample_sizes:\n",
    "        model_source_texts = source_texts[:sample_size]\n",
    "        model_target_texts = target_texts[:sample_size]\n",
    "        # Translate texts in batches\n",
    "        translated_texts, reference_texts = translate_texts_in_batches(model_source_texts, model_target_texts, src_lang, tgt_lang, batch_size, model_name)\n",
    "    \n",
    "        # Get scores\n",
    "        bleu_scores = calculate_bleu_scores(translated_texts, reference_texts)\n",
    "        meteor_scores = calculate_meteor_scores(translated_texts, reference_texts)\n",
    "        \n",
    "        # Get averages\n",
    "        average_bleu_score = sum(bleu_scores) / len(bleu_scores)\n",
    "        average_meteor_score = sum(meteor_scores) / len(meteor_scores)\n",
    "        \n",
    "        # Append scores\n",
    "        all_avg_bleu_scores.append(average_bleu_score)\n",
    "        all_avg_meteor_scores.append(average_meteor_score)\n",
    "    \n",
    "\n",
    "    plot_comparison_across_different_sample_sizes(sample_sizes, all_avg_bleu_scores, all_avg_meteor_scores)\n",
    "\n",
    "def calculate_precision_recall_f1_scores(translated_text_tokens, reference_text_tokens):\n",
    "    # Count the tokens in both the translated text and the reference text\n",
    "    translated_counts = Counter(translated_text_tokens)\n",
    "    reference_counts = Counter(reference_text_tokens)\n",
    "    \n",
    "    # Calculate true positives, false positives, and false negatives\n",
    "    tp = sum((translated_counts & reference_counts).values())\n",
    "    fp = sum((translated_counts - reference_counts).values())\n",
    "    fn = sum((reference_counts - translated_counts).values())\n",
    "    \n",
    "    # Calculate scores\n",
    "    precision = tp / (tp + fp) if (tp + fp) > 0 else 0\n",
    "    recall = tp / (tp + fn) if (tp + fn) > 0 else 0\n",
    "    f1_score = 2 * (precision * recall) / (precision + recall) if (precision + recall) > 0 else 0\n",
    "    \n",
    "    return precision, recall, f1_score\n",
    "\n",
    "def flatten_list(nested_list):\n",
    "    return [item for sublist in nested_list for item in sublist]\n",
    "\n",
    "def calculate_average_metrics(translated, reference):\n",
    "    precisions = []\n",
    "    recalls = []\n",
    "    f1_scores = []\n",
    "\n",
    "    for translated_sentence, reference_sentence in zip(translated, reference):\n",
    "        translated_tokens = flatten_list([translated_sentence])\n",
    "        reference_tokens = flatten_list(reference_sentence)\n",
    "        \n",
    "        precision, recall, f1_score = calculate_precision_recall_f1_scores(translated_tokens, reference_tokens)\n",
    "        \n",
    "        precisions.append(precision)\n",
    "        recalls.append(recall)\n",
    "        f1_scores.append(f1_score)\n",
    "    \n",
    "    avg_precision = sum(precisions) / len(precisions) if precisions else 0\n",
    "    avg_recall = sum(recalls) / len(recalls) if recalls else 0\n",
    "    avg_f1_score = sum(f1_scores) / len(f1_scores) if f1_scores else 0\n",
    "\n",
    "    return avg_precision, avg_recall, avg_f1_score"
   ]
  },
  {
   "cell_type": "markdown",
   "metadata": {
    "id": "H5WktI0WbmLH"
   },
   "source": [
    "## First Model: mBART-50 many to many multilingual machine translation\n",
    "Source: https://huggingface.co/facebook/mbart-large-50-many-to-many-mmt\n",
    "\n",
    "### Acknowledgements _(the text below can also be found on the source page)_\n",
    "\n",
    "This model is inspired by the work of Yuqing Tang, Chau Tran, Xian Li, Peng-Jen Chen, Naman Goyal, Vishrav Chaudhary, Jiatao Gu, and Angela Fan. Their model is a refined version of mBART-large-50, specifically optimized for multilingual machine translation. Detailed in the paper, [Multilingual Translation with Extensible Multilingual Pretraining and Finetuning](https://arxiv.org/abs/2008.00401), the mBART-large-50-many-to-many-mmt model supports translation between any two of 50 languages. To ensure the translation outputs the target language correctly, the target language ID is set as the initial token. This is achieved by using the forced_bos_token_id parameter in the generate method.\n",
    "\n",
    "```bibtex\n",
    "@article{tang2020multilingual,\n",
    "title={Multilingual Translation with Extensible Multilingual Pretraining and Finetuning},\n",
    "author={Yuqing Tang, Chau Tran, Xian Li, Peng-Jen Chen, Naman Goyal, Vishrav Chaudhary, Jiatao Gu, Angela Fan},\n",
    "year={2020},\n",
    "eprint={2008.00401},\n",
    "archivePrefix={arXiv},\n",
    "primaryClass={cs.CL}\n",
    "}\n",
    "```"
   ]
  },
  {
   "cell_type": "code",
   "execution_count": null,
   "metadata": {
    "id": "vGQ1o-N5bBMP",
    "trusted": true
   },
   "outputs": [],
   "source": [
    "# model = MBartForConditionalGeneration.from_pretrained(\"facebook/mbart-large-50-many-to-many-mmt\")\n",
    "# tokenizer = MBart50TokenizerFast.from_pretrained(\"facebook/mbart-large-50-many-to-many-mmt\")\n",
    "\n",
    "# # Move model to GPU if available\n",
    "# device = torch.device('cuda' if torch.cuda.is_available() else 'cpu')\n",
    "# model.to(device)\n",
    "\n",
    "# # Create smaller sample for source and target\n",
    "# # mbart_source_texts = source_texts[:sample_size]\n",
    "# # mbart_target_texts = target_texts[:sample_size]\n",
    "# mbart_source_texts = filtered_source_texts[:sample_size]\n",
    "# mbart_target_texts = filtered_target_texts[:sample_size]\n",
    "# src_lang = \"en_XX\"\n",
    "# tgt_lang = \"af_ZA\"\n",
    "# model_name = 'mbart'\n",
    "\n",
    "# # Translate texts in batches\n",
    "# translated_texts, reference_texts = translate_texts_in_batches(mbart_source_texts, mbart_target_texts, src_lang, tgt_lang, batch_size, model_name)\n",
    "\n",
    "# # Calculate BLEU scores\n",
    "# # calculate_bleu_scores(translated_texts, reference_texts)\n",
    "\n",
    "# # CCMatrix corpus\n",
    "# # (Sample sizes of 1000)\n",
    "# # Average BLEU score with smoothing method 1: 0.16496337341403627\n",
    "# # Average BLEU score with smoothing method 7: 0.2561803105866665\n",
    "\n",
    "# # (Sample size of 10000)\n",
    "# # Average BLEU score with smoothing: 0.2733591707777348\n",
    "# # Average METEOR score: 0.542054318746275\n",
    "\n",
    "# # NLLB corpus\n",
    "# # Average BLEU score with smoothing: 0.29793287408823554\n",
    "# # Average METEOR score: 0.580091473417674\n",
    "\n",
    "# # Calculate METEOR scores\n",
    "# # calculate_meteor_scores(translated_texts, reference_texts)\n",
    "\n",
    "# # Calculate BLEU and METEOR scores and plot comparison of sentence lengths\n",
    "# compare_scores_by_length(translated_texts, reference_texts)\n",
    "\n",
    "# # Compare scores across different sample sizes (5000 - 10000)\n",
    "# # sample_sizes = [5000, 6000, 7000, 8000, 9000, 10000]\n",
    "# # compare_scores_across_different_sample_sizes(source_texts, target_texts, sample_sizes, src_lang, tgt_lang, batch_size, model_name)\n",
    "\n",
    "# # Calculate average precision, recall, and f1-scores (this is done at a sentence-by-sentence approach and then the averages are calculated)\n",
    "# avg_precision, avg_recall, avg_f1_score = calculate_average_metrics(translated_texts, reference_texts)\n",
    "\n",
    "# print(f\"Average Precision: {avg_precision}\")\n",
    "# print(f\"Average Recall: {avg_recall}\")\n",
    "# print(f\"Average F1 Score: {avg_f1_score}\")\n",
    "\n",
    "# # Calculate scores for entire set (not sentence-by-sentence, instead word-by-word)\n",
    "# # Flatten the lists\n",
    "# flattened_translated = flatten_list(translated_texts)\n",
    "# flattened_reference = flatten_list(flatten_list(reference_texts))\n",
    "\n",
    "# # Calculate precision, recall, and F1-score\n",
    "# precision, recall, f1_score = calculate_precision_recall_f1_scores(flattened_translated, flattened_reference)\n",
    "# print('\\nScores across entire data:')\n",
    "# print(f\"Precision: {precision}\")\n",
    "# print(f\"Recall: {recall}\")\n",
    "# print(f\"F1 Score: {f1_score}\")"
   ]
  },
  {
   "cell_type": "markdown",
   "metadata": {},
   "source": [
    "_(Note: Look at above code's comments for the following)_\n",
    "\n",
    "The BLEU score seems to increase by approximately 9% (for samples of 1000) when using method 7 of the SmoothingFunction. We therefore choose to make use of method 7 instead of method 2. More information regarding the different methods can be found [here](https://www.nltk.org/api/nltk.translate.bleu_score.html). We also note that by using 10000 samples the model also achieves higher BLEU scores."
   ]
  },
  {
   "cell_type": "markdown",
   "metadata": {
    "id": "bK1FhWPaes_9"
   },
   "source": [
    "## Second Model: Helsinki-NLP/opus-mt-en-af\n",
    "\n",
    "**Source:** [Helsinki-NLP/opus-mt-en-af](https://huggingface.co/Helsinki-NLP/opus-mt-en-af#opus-mt-en-af)\n",
    "\n",
    "**Model Documentation:** [MarianMTModel](https://huggingface.co/docs/transformers/main/en/model_doc/marian#transformers.MarianMTModel)"
   ]
  },
  {
   "cell_type": "code",
   "execution_count": null,
   "metadata": {
    "executionInfo": {
     "elapsed": 546944,
     "status": "ok",
     "timestamp": 1720522856000,
     "user": {
      "displayName": "Arno Jooste",
      "userId": "05752115645354869392"
     },
     "user_tz": -120
    },
    "id": "oB2CDKAn6Dlr",
    "outputId": "c8082bff-d33f-48e5-81c3-1b153f205b87",
    "trusted": true
   },
   "outputs": [],
   "source": [
    "# # Load tokenizer and model\n",
    "# tokenizer = AutoTokenizer.from_pretrained(\"Helsinki-NLP/opus-mt-en-af\")\n",
    "# model = AutoModelForSeq2SeqLM.from_pretrained(\"Helsinki-NLP/opus-mt-en-af\")\n",
    "\n",
    "# # Move model to GPU if available\n",
    "# device = torch.device('cuda' if torch.cuda.is_available() else 'cpu')\n",
    "# model.to(device)\n",
    "\n",
    "# # Create smaller sample for source and target\n",
    "# # helsinki_source_texts = source_texts[:sample_size]\n",
    "# # helsinki_target_texts = target_texts[:sample_size]\n",
    "# helsinki_source_texts = filtered_source_texts[:sample_size]\n",
    "# helsinki_target_texts = filtered_target_texts[:sample_size]\n",
    "# src_lang = \"en_XX\"\n",
    "# tgt_lang = \"af_ZA\"\n",
    "# model_name = 'helsinki'\n",
    "\n",
    "# # Translate texts in batches\n",
    "# translated_texts, reference_texts = translate_texts_in_batches(helsinki_source_texts, helsinki_target_texts, src_lang, tgt_lang, batch_size, model_name)\n",
    "\n",
    "# # Calculate BLEU scores\n",
    "# # calculate_bleu_scores(translated_texts, reference_texts)\n",
    "\n",
    "# # CCMatrix corpus\n",
    "# # Average BLEU score with smoothing: 0.41708068654870123 (for 1000 samples)\n",
    "# # Average BLEU score with smoothing: 0.4491457347266204  (for 10000 samples)\n",
    "# # Average METEOR score: 0.6991471365857981\n",
    "\n",
    "# # NLLB Corpus\n",
    "# # Average BLEU score with smoothing: 0.5187543696660483\n",
    "# # Average METEOR score: 0.7471310045393491\n",
    "\n",
    "# # Calculate METEOR scores\n",
    "# # calculate_meteor_scores(translated_texts, reference_texts)\n",
    "\n",
    "# # Calculate BLEU and METEOR scores and plot comparison of sentence lengths\n",
    "# compare_scores_by_length(translated_texts, reference_texts)\n",
    "\n",
    "# # Compare scores across different sample sizes (5000 - 10000)\n",
    "# # sample_sizes = [5000, 6000, 7000, 8000, 9000, 10000]\n",
    "# # compare_scores_across_different_sample_sizes(source_texts, target_texts, sample_sizes, src_lang, tgt_lang, batch_size, model_name)\n",
    "\n",
    "# # Calculate average precision, recall, and f1-scores (this is done at a sentence-by-sentence approach and then the averages are calculated)\n",
    "# avg_precision, avg_recall, avg_f1_score = calculate_average_metrics(translated_texts, reference_texts)\n",
    "\n",
    "# print(f\"Average Precision: {avg_precision}\")\n",
    "# print(f\"Average Recall: {avg_recall}\")\n",
    "# print(f\"Average F1 Score: {avg_f1_score}\")\n",
    "\n",
    "# # Calculate scores for entire set (not sentence-by-sentence, instead word-by-word)\n",
    "# # Flatten the lists\n",
    "# flattened_translated = flatten_list(translated_texts)\n",
    "# flattened_reference = flatten_list(flatten_list(reference_texts))\n",
    "\n",
    "# # Calculate precision, recall, and F1-score\n",
    "# precision, recall, f1_score = calculate_precision_recall_f1_scores(flattened_translated, flattened_reference)\n",
    "# print('\\nScores across entire data:')\n",
    "# print(f\"Precision: {precision}\")\n",
    "# print(f\"Recall: {recall}\")\n",
    "# print(f\"F1 Score: {f1_score}\")"
   ]
  },
  {
   "cell_type": "markdown",
   "metadata": {},
   "source": [
    "### BLEU Scores comparison"
   ]
  },
  {
   "cell_type": "code",
   "execution_count": null,
   "metadata": {
    "trusted": true
   },
   "outputs": [],
   "source": [
    "# # Data\n",
    "# data = {\n",
    "#     'mBART50-MM': [0.2733591707777348, 0.29793287408823554],\n",
    "#     'Helsinki-NLP/opus-mt-en-af': [0.4491457347266204, 0.5187543696660483]\n",
    "# }\n",
    "# corpora = ['CCMatrix', 'NLLB']\n",
    "# models = list(data.keys())\n",
    "# scores = np.array(list(data.values()))\n",
    "# fig, ax = plt.subplots(figsize=(10, 5))\n",
    "\n",
    "# # Get the number of bars\n",
    "# n_bars = len(corpora)\n",
    "# bar_width = 0.4\n",
    "# index = np.arange(len(models))\n",
    "\n",
    "# # Create bars\n",
    "# for i, corpus in enumerate(corpora):\n",
    "#     ax.bar(index + i * bar_width, scores[:, i], bar_width, label=corpus)\n",
    "\n",
    "# ax.set_xlabel(\"Models\", fontsize=14)\n",
    "# ax.set_ylabel(\"Averages of BLEU Scores\", fontsize=14)\n",
    "# ax.set_title(\"Comparing BLEU Scores Across Models and Corpora\", fontsize=16)\n",
    "# ax.set_ylim(0, 1)\n",
    "# ax.set_xticks(index + bar_width / 2)\n",
    "# ax.set_xticklabels(models)\n",
    "# ax.legend(title='Corpora')\n",
    "\n",
    "# # Gridlines\n",
    "# ax.grid(axis='y', linestyle='--', alpha=0.7)\n",
    "\n",
    "# # Value labels on top of the bars\n",
    "# for i in range(n_bars):\n",
    "#     for j in range(len(models)):\n",
    "#         height = scores[j, i]\n",
    "#         ax.annotate(f'{height:.4f}',\n",
    "#                     xy=(j + i * bar_width, height),\n",
    "#                     xytext=(0, 3),  # 3 points vertical offset\n",
    "#                     textcoords=\"offset points\",\n",
    "#                     ha='center', va='bottom')\n",
    "# # Show plot\n",
    "# plt.show()"
   ]
  },
  {
   "cell_type": "markdown",
   "metadata": {
    "id": "eB9rrXv3Ajin"
   },
   "source": [
    "**mBART50-MM model:**  We note that the NLLB corpus achieves 2.45% higher BLEU score than that of the CCMatrix corpus.\n",
    "\n",
    "**Helsinki opus-mt-en-af model:** The BLEU score increases by 6.97% when using the NLLB coprus compared to the BLEU score when using the CCMatrix corpus."
   ]
  },
  {
   "cell_type": "markdown",
   "metadata": {},
   "source": [
    "### METEOR Scores Comparison"
   ]
  },
  {
   "cell_type": "code",
   "execution_count": null,
   "metadata": {
    "trusted": true
   },
   "outputs": [],
   "source": [
    "# # Data\n",
    "# data = {\n",
    "#     'mBART50-MM': [0.542054318746275, 0.580091473417674],\n",
    "#     'Helsinki-NLP/opus-mt-en-af': [0.6991471365857981, 0.7471310045393491]\n",
    "# }\n",
    "# corpora = ['CCMatrix', 'NLLB']\n",
    "# models = list(data.keys())\n",
    "# scores = np.array(list(data.values()))\n",
    "# fig, ax = plt.subplots(figsize=(10, 5))\n",
    "\n",
    "# # Get the number of bars\n",
    "# n_bars = len(corpora)\n",
    "# bar_width = 0.4\n",
    "# index = np.arange(len(models))\n",
    "\n",
    "# # Create bars\n",
    "# for i, corpus in enumerate(corpora):\n",
    "#     ax.bar(index + i * bar_width, scores[:, i], bar_width, label=corpus)\n",
    "\n",
    "# ax.set_xlabel(\"Models\", fontsize=14)\n",
    "# ax.set_ylabel(\"Averages of METEOR Scores\", fontsize=14)\n",
    "# ax.set_title(\"Comparing METEOR Scores Across Models and Corpora\", fontsize=16)\n",
    "# ax.set_ylim(0, 1)\n",
    "# ax.set_xticks(index + bar_width / 2)\n",
    "# ax.set_xticklabels(models)\n",
    "# ax.legend(title='Corpora')\n",
    "\n",
    "# # Gridlines\n",
    "# ax.grid(axis='y', linestyle='--', alpha=0.7)\n",
    "\n",
    "# # Value labels on top of the bars\n",
    "# for i in range(n_bars):\n",
    "#     for j in range(len(models)):\n",
    "#         height = scores[j, i]\n",
    "#         ax.annotate(f'{height:.4f}',\n",
    "#                     xy=(j + i * bar_width, height),\n",
    "#                     xytext=(0, 3),  # 3 points vertical offset\n",
    "#                     textcoords=\"offset points\",\n",
    "#                     ha='center', va='bottom')\n",
    "# # Show plot\n",
    "# plt.show()"
   ]
  },
  {
   "cell_type": "markdown",
   "metadata": {},
   "source": [
    "**mBART50-MM model:**  We note that the NLLB corpus achieves 3.8% higher METEOR score than that of the CCMatrix corpus.\n",
    "\n",
    "**Helsinki opus-mt-en-af model:** The METEOR score increases by 4.8% when using the NLLB coprus compared to the BLEU score when using the CCMatrix corpus.\n",
    "\n",
    "From these plots we can conclude that the _opus-mt-en-af_ model is the better model, because it achieves higher BLEU and METEOR scores for both corpora. We also conclude that the NLLB corpora is the best corpus to use."
   ]
  },
  {
   "cell_type": "markdown",
   "metadata": {},
   "source": [
    "### Precision, Recall, F1-score comparisons\n",
    "\n",
    "<details>\n",
    "    <summary>Autshumato data</summary>\n",
    "    <ul>\n",
    "        <li>\n",
    "            <details>\n",
    "                <summary>Averages for scores based on number of samples</summary>\n",
    "                <ul>\n",
    "                    <li>515 samples</li>\n",
    "                    <ul>\n",
    "                        <li>Averages from sentence-by-sentence calculation (mbart-large-50-many-to-many-mmt Model)</li>\n",
    "                        <ul>\n",
    "                            <li>Average Precision: 0.4040257568153354</li>\n",
    "                            <li>Average Recall: 0.4096848097179678</li>\n",
    "                            <li>Average F1 Score: 0.40529227058983275</li>\n",
    "                        </ul>\n",
    "                        <li>Averages from sentence-by-sentence calculation (Helsinki-NLP/opus-mt-en-af Model)</li>\n",
    "                        <ul>\n",
    "                            <li>Average Precision: 0.6095740577228763</li>\n",
    "                            <li>Average Recall: 0.6096672696789154</li>\n",
    "                            <li>Average F1 Score: 0.6071812733135397</li>\n",
    "                        </ul>\n",
    "                    </ul>\n",
    "                    <li>2056 samples</li>\n",
    "                    <ul>\n",
    "                        <li>Averages from sentence-by-sentence calculation (mbart-large-50-many-to-many-mmt Model)</li>\n",
    "                        <ul>\n",
    "                            <li>Average Precision: 0.37778857103466296</li>\n",
    "                            <li>Average Recall: 0.39188428795129127</li>\n",
    "                            <li>Average F1 Score: 0.38247238620262686</li>\n",
    "                        </ul>\n",
    "                        <li>Averages from sentence-by-sentence calculation (Helsinki-NLP/opus-mt-en-af Model)</li>\n",
    "                        <ul>\n",
    "                            <li>Average Precision: 0.5478196105597876</li>\n",
    "                            <li>Average Recall: 0.5622557903145736</li>\n",
    "                            <li>Average F1 Score: 0.5514461082231031</li>\n",
    "                        </ul>\n",
    "                    </ul>\n",
    "                </ul>\n",
    "            </details>\n",
    "        </li>\n",
    "        <li>\n",
    "            <details>\n",
    "                <summary>Word-by-word translation results for scores based on number of samples</summary>\n",
    "                <ul>\n",
    "                    <li>515 samples</li>\n",
    "                    <ul>\n",
    "                        <li>Comparison between mbart-large-50-many-to-many-mmt and Helsinki-NLP/opus-mt-en-af models</li>\n",
    "                        <ul>\n",
    "                            <li>Precision: 0.5215498938428875 | 0.7346719639214002</li>\n",
    "                            <li>Recall: 0.5286206154508285 | 0.7361738756186788</li>\n",
    "                            <li>F1-score: 0.5250614513198675 | 0.7354221529531897</li>\n",
    "                        </ul>\n",
    "                    </ul>\n",
    "                    <li>2056 samples</li>\n",
    "                    <ul>\n",
    "                        <li>Comparison between mbart-large-50-many-to-many-mmt and Helsinki-NLP/opus-mt-en-af models</li>\n",
    "                        <ul>\n",
    "                            <li>Precision: 0.522256192351539 | 0.7375381485249237</li>\n",
    "                            <li>Recall: 0.5465119431716509 | 0.7666133449014451</li>\n",
    "                            <li>F1-score: 0.534108824971184 | 0.7517947354427013</li>\n",
    "                        </ul>\n",
    "                    </ul>\n",
    "                </ul>\n",
    "            </details>\n",
    "        </li>\n",
    "    </ul>\n",
    "</details>\n",
    "\n",
    "<br>\n",
    "\n",
    "<details>\n",
    "    <summary>NLLB data</summary>\n",
    "    <ul>\n",
    "        <li>\n",
    "            <details>\n",
    "                <summary>Averages for scores based on number of samples</summary>\n",
    "                <ul>\n",
    "                    <li>515 samples</li>\n",
    "                    <ul>\n",
    "                        <li>Averages from sentence-by-sentence calculation (First Model)</li>\n",
    "                        <ul>\n",
    "                            <li>Average Precision: 0.469658005732534</li>\n",
    "                            <li>Average Recall: 0.464323891604956</li>\n",
    "                            <li>Average F1 Score: 0.4638025113063482</li>\n",
    "                        </ul>\n",
    "                        <li>Averages from sentence-by-sentence calculation (Second Model)</li>\n",
    "                        <ul>\n",
    "                            <li>Average Precision: 0.6213071665929798</li>\n",
    "                            <li>Average Recall: 0.6196209046575761</li>\n",
    "                            <li>Average F1 Score: 0.6167345729355416</li>\n",
    "                        </ul>\n",
    "                    </ul>\n",
    "                    <li>2056 samples</li>\n",
    "                    <ul>\n",
    "                        <li>Averages from sentence-by-sentence calculation (First Model)</li>\n",
    "                        <ul>\n",
    "                            <li>Average Precision: 0.5025727130293473</li>\n",
    "                            <li>Average Recall: 0.49716938963778645</li>\n",
    "                            <li>Average F1 Score: 0.49757002377149867</li>\n",
    "                        </ul>\n",
    "                        <li>Averages from sentence-by-sentence calculation (Second Model)</li>\n",
    "                        <ul>\n",
    "                            <li>Average Precision: 0.6672137261248707</li>\n",
    "                            <li>Average Recall: 0.66353343962085</li>\n",
    "                            <li>Average F1 Score: 0.662622171371128</li>\n",
    "                        </ul>\n",
    "                    </ul>\n",
    "                    <li>10000 samples</li>\n",
    "                    <ul>\n",
    "                        <li>Averages from sentence-by-sentence calculation (First Model)</li>\n",
    "                        <ul>\n",
    "                            <li>Average Precision: 0.5309666291721107</li>\n",
    "                            <li>Average Recall: 0.5246444732217005</li>\n",
    "                            <li>Average F1 Score: 0.5259214634683504</li>\n",
    "                        </ul>\n",
    "                        <li>Averages from sentence-by-sentence calculation (Second Model)</li>\n",
    "                        <ul>\n",
    "                            <li>Average Precision: 0.7012873313244611</li>\n",
    "                            <li>Average Recall: 0.6950882863906609</li>\n",
    "                            <li>Average F1 Score: 0.6957937673535969</li>\n",
    "                        </ul>\n",
    "                    </ul>\n",
    "                </ul>\n",
    "            </details>\n",
    "        </li>\n",
    "        <li>\n",
    "            <details>\n",
    "                <summary>Word-by-word translation results for scores based on number of samples</summary>\n",
    "                <ul>\n",
    "                    <li>515 samples</li>\n",
    "                    <ul>\n",
    "                        <li>Comparison between first and second model</li>\n",
    "                        <ul>\n",
    "                            <li>Precision: 0.5966582824290334 | 0.7541938901642239</li>\n",
    "                            <li>Recall: 0.595695067264574 | 0.7660986547085202</li>\n",
    "                            <li>F1-score: 0.5961762857912216 | 0.7600996618615411</li>\n",
    "                        </ul>\n",
    "                    </ul>\n",
    "                    <li>2056 samples</li>\n",
    "                    <ul>\n",
    "                        <li>Comparison between first and second model</li>\n",
    "                        <ul>\n",
    "                            <li>Precision: 0.635401614959626 | 0.805597515944948</li>\n",
    "                            <li>Recall: 0.6285630202640209 | 0.8071554696039687</li>\n",
    "                            <li>F1-score: 0.6319638177360724 | 0.8063757402662859</li>\n",
    "                        </ul>\n",
    "                    </ul>\n",
    "                    <li>10000 samples</li>\n",
    "                    <ul>\n",
    "                        <li>Comparison between first and second model</li>\n",
    "                        <ul>\n",
    "                            <li>Precision: 0.6615406957981024 | 0.8437942652272382</li>\n",
    "                            <li>Recall: 0.6538075113627303 | 0.840746351965553</li>\n",
    "                            <li>F1-score: 0.6576513711430336 | 0.8422675512347874</li>\n",
    "                        </ul>\n",
    "                    </ul>\n",
    "                </ul>\n",
    "            </details>\n",
    "        </li>\n",
    "    </ul>\n",
    "</details>\n"
   ]
  },
  {
   "cell_type": "markdown",
   "metadata": {},
   "source": [
    "### Score information in table format\n",
    "\n",
    "First Model: **mbart-large-50-many-to-many-mmt**\n",
    "\n",
    "Second Model: **Helsinki-NLP/opus-mt-en-af**\n",
    "\n",
    "#### Sentence-by-sentence calculations\n",
    "These metric scores were calculated for each sentence and then the average across all sentence were taken.\n",
    "\n",
    "| Dataset      | Samples | Calculation Type                           | Model         | Precision                  | Recall                     | F1-Score                  |\n",
    "|---------------|---------|--------------------------------------------|---------------|----------------------------|----------------------------|---------------------------|\n",
    "| Autshumato    | 515     | Sentence-by-sentence                       | First Model   | 0.4040257568153354         | 0.4096848097179678         | 0.40529227058983275       |\n",
    "| Autshumato    | 515     | Sentence-by-sentence                       | Second Model  | 0.6095740577228763         | 0.6096672696789154         | 0.6071812733135397        |\n",
    "| Autshumato    | 2056    | Sentence-by-sentence                       | First Model   | 0.37778857103466296        | 0.39188428795129127        | 0.38247238620262686       |\n",
    "| Autshumato    | 2056    | Sentence-by-sentence                       | Second Model  | 0.5478196105597876         | 0.5622557903145736         | 0.5514461082231031        |\n",
    "| NLLB          | 515     | Sentence-by-sentence                       | First Model   | 0.469658005732534         | 0.464323891604956         | 0.4638025113063482       |\n",
    "| NLLB          | 515     | Sentence-by-sentence                       | Second Model  | 0.6213071665929798         | 0.6196209046575761         | 0.6167345729355416        |\n",
    "| NLLB          | 2056    | Sentence-by-sentence                       | First Model   | 0.5025727130293473         | 0.49716938963778645         | 0.49757002377149867        |\n",
    "| NLLB          | 2056    | Sentence-by-sentence                       | Second Model  | 0.6672137261248707         | 0.66353343962085         | 0.662622171371128        |\n",
    "| NLLB          | 10000    | Sentence-by-sentence                       | First Model  | 0.5309666291721107         | 0.5246444732217005         | 0.5259214634683504        |\n",
    "| NLLB          | 10000    | Sentence-by-sentence                       | Second Model  | 0.7012873313244611         | 0.6950882863906609         | 0.6957937673535969        | \n",
    "\n",
    "#### Word-by-word calculations\n",
    "These metric scores were calculated word-by-word so these scores represent the scores for the entire sample\n",
    "\n",
    "| Dataset      | Samples | Calculation Type                           | Model         | Precision                  | Recall                     | F1-Score                  |\n",
    "|---------------|---------|--------------------------------------------|---------------|----------------------------|----------------------------|---------------------------|\n",
    "| Autshumato    | 515     | Word-by-word                               | First Model   | 0.5215498938428875         | 0.5286206154508285         | 0.5250614513198675        |\n",
    "| Autshumato    | 515     | Word-by-word                               | Second Model  | 0.7346719639214002         | 0.7361738756186788         | 0.7354221529531897        |\n",
    "| Autshumato    | 2056    | Word-by-word                               | First Model   | 0.522256192351539          | 0.5465119431716509         | 0.534108824971184         |\n",
    "| Autshumato    | 2056    | Word-by-word                               | Second Model  | 0.7375381485249237         | 0.7666133449014451         | 0.7517947354427013        |\n",
    "| NLLB          | 515   | Word-by-word                               | First Model   | 0.5966582824290334         | 0.595695067264574         | 0.5961762857912216        |\n",
    "| NLLB          | 515   | Word-by-word                               | Second Model   | 0.7541938901642239         | 0.7660986547085202         | 0.7600996618615411        |\n",
    "| NLLB          | 2056   | Word-by-word                               | First Model   | 0.635401614959626         | 0.6285630202640209         | 0.6319638177360724        |\n",
    "| NLLB          | 2056   | Word-by-word                               | Second Model   | 0.805597515944948         | 0.8071554696039687         | 0.8063757402662859        |\n",
    "| NLLB          | 10000   | Word-by-word                               | First Model   | 0.6615406957981024         | 0.6538075113627303         | 0.6576513711430336        |\n",
    "| NLLB          | 10000   | Word-by-word                               | Second Model  | 0.8437942652272382         | 0.840746351965553          | 0.8422675512347874        |"
   ]
  },
  {
   "cell_type": "code",
   "execution_count": null,
   "metadata": {
    "trusted": true
   },
   "outputs": [],
   "source": [
    "# # Metric comparisons\n",
    "\n",
    "# # Precisions\n",
    "# sbs_precisions = {\n",
    "#     'Autshumato': {\n",
    "#         'first': [0.4040257568153354, 0.37778857103466296, 0],\n",
    "#         'second': [0.6095740577228763, 0.5478196105597876, 0]        \n",
    "#     },\n",
    "#     'NLLB': {\n",
    "#         'first': [0.469658005732534, 0.5025727130293473, 0.5309666291721107],        \n",
    "#         'second': [0.6213071665929798, 0.6672137261248707, 0.7012873313244611]\n",
    "#     }\n",
    "# }\n",
    "\n",
    "# wbw_precisions = {\n",
    "#     'Autshumato': {\n",
    "#         'first': [0.5215498938428875, 0.522256192351539, 0],\n",
    "#         'second': [0.7346719639214002, 0.7375381485249237, 0]        \n",
    "#     },\n",
    "#     'NLLB': {\n",
    "#         'first': [0.5966582824290334, 0.635401614959626, 0.6615406957981024],        \n",
    "#         'second': [0.7541938901642239, 0.805597515944948, 0.8437942652272382]\n",
    "#     }\n",
    "# }\n",
    "\n",
    "# # Recall\n",
    "# sbs_recalls = {\n",
    "#     'Autshumato': {\n",
    "#         'first': [0.4096848097179678, 0.39188428795129127, 0],\n",
    "#         'second': [0.7361738756186788, 0.5622557903145736, 0]        \n",
    "#     },\n",
    "#     'NLLB': {\n",
    "#         'first': [0.464323891604956, 0.49716938963778645, 0.5246444732217005],        \n",
    "#         'second': [0.6196209046575761, 0.66353343962085, 0.6950882863906609]\n",
    "#     }\n",
    "# }\n",
    "\n",
    "# wbw_recalls = {\n",
    "#     'Autshumato': {\n",
    "#         'first': [0.5286206154508285, 0.5465119431716509, 0],\n",
    "#         'second': [0.7361738756186788, 0.7666133449014451, 0]        \n",
    "#     },\n",
    "#     'NLLB': {\n",
    "#         'first': [0.595695067264574, 0.6285630202640209, 0.6538075113627303],        \n",
    "#         'second': [0.6285630202640209, 0.8071554696039687, 0.840746351965553]\n",
    "#     }\n",
    "# }\n",
    "\n",
    "\n",
    "# # F1-score\n",
    "# sbs_f1 = {\n",
    "#     'Autshumato': {\n",
    "#         'first': [0.40529227058983275, 0.38247238620262686, 0],\n",
    "#         'second': [0.6071812733135397, 0.5514461082231031, 0]        \n",
    "#     },\n",
    "#     'NLLB': {\n",
    "#         'first': [0.4638025113063482, 0.49757002377149867, 0.5259214634683504],        \n",
    "#         'second': [0.6167345729355416, 0.662622171371128, 0.6957937673535969]\n",
    "#     }\n",
    "# }\n",
    "\n",
    "# wbw_f1 = {\n",
    "#     'Autshumato': {\n",
    "#         'first': [0.5250614513198675, 0.534108824971184, 0],\n",
    "#         'second': [0.7354221529531897, 0.7517947354427013, 0]        \n",
    "#     },\n",
    "#     'NLLB': {\n",
    "#         'first': [0.5961762857912216, 0.6319638177360724, 0.6576513711430336],        \n",
    "#         'second': [0.7600996618615411, 0.8063757402662859, 0.8422675512347874]\n",
    "#     }\n",
    "# }\n",
    "\n",
    "# sample_sizes = ['515', '2056', '10000']\n",
    "# corpora = ['Autshumato', 'NLLB']\n",
    "# x = np.arange(len(sample_sizes))\n",
    "# width = 0.15\n",
    "\n",
    "# def plot_metric_comparison(sample_sizes, corpora, width, metrics, metric_name, type_of_comparison):\n",
    "#     fig, ax = plt.subplots(figsize=(10, 6))\n",
    "\n",
    "#     for i, corpus in enumerate(corpora):\n",
    "#         first_precisions = metrics[corpus]['first']\n",
    "#         second_precisions = metrics[corpus]['second']\n",
    "#         ax.bar(x + (i * 2 * width) - width, first_precisions, width, label=f'{corpus} mBART-MM', alpha=0.7)\n",
    "#         ax.bar(x + (i * 2 * width), second_precisions, width, label=f'{corpus} Helsinki-opus-mt-en-af', alpha=0.7)\n",
    "\n",
    "#     # Adding labels, title, and custom x-axis tick labels, etc.\n",
    "#     ax.set_xlabel('Sample Sizes')\n",
    "#     if type_of_comparison == 'sentence-by-sentence':\n",
    "#         ax.set_ylabel(f'Average {str(metric_name).capitalize()}')\n",
    "#     else:\n",
    "#         ax.set_ylabel(f'{str(metric_name).capitalize()}')\n",
    "        \n",
    "#     ax.set_title(f'{type_of_comparison.capitalize()} comparison for corpus, {metric_name}, and sample size')\n",
    "#     ax.set_xticks(x + width / 2)\n",
    "#     ax.set_xticklabels(sample_sizes)\n",
    "#     ax.legend()\n",
    "\n",
    "#     # Set y-axis limit\n",
    "#     ax.set_ylim(0, 1)\n",
    "    \n",
    "#     # Automatically add values for bars\n",
    "#     def autolabel(rects):\n",
    "#         for rect in rects:\n",
    "#             height = rect.get_height()\n",
    "#             ax.annotate(f'{height:.2f}',\n",
    "#                         xy=(rect.get_x() + rect.get_width() / 2, height),\n",
    "#                         xytext=(0, 3),  # 3 points vertical offset\n",
    "#                         textcoords=\"offset points\",\n",
    "#                         ha='center', va='bottom')\n",
    "        \n",
    "#     autolabel(ax.patches[:len(corpora)*len(sample_sizes)])\n",
    "#     autolabel(ax.patches[len(corpora)*len(sample_sizes):])\n",
    "\n",
    "#     fig.tight_layout()\n",
    "#     plt.show()\n",
    "    \n",
    "# # Compare sentence-by-sentence precisions\n",
    "# # Precision\n",
    "# plot_metric_comparison(sample_sizes, corpora, width, sbs_precisions, 'precision', 'sentence-by-sentence')\n",
    "# plot_metric_comparison(sample_sizes, corpora, width, wbw_precisions, 'precision', 'word-by-word')\n",
    "\n",
    "# # Recall\n",
    "# plot_metric_comparison(sample_sizes, corpora, width, sbs_recalls, 'recall', 'sentence-by-sentence')\n",
    "# plot_metric_comparison(sample_sizes, corpora, width, wbw_recalls, 'recall', 'word-by-word')\n",
    "\n",
    "# # F1-score\n",
    "# plot_metric_comparison(sample_sizes, corpora, width, sbs_f1, 'f1-score', 'sentence-by-sentence')\n",
    "# plot_metric_comparison(sample_sizes, corpora, width, wbw_f1, 'f1-score', 'word-by-word')\n"
   ]
  },
  {
   "cell_type": "code",
   "execution_count": null,
   "metadata": {
    "trusted": true
   },
   "outputs": [],
   "source": [
    "# # Data\n",
    "# data = {\n",
    "#     'Precision': [0.6615406957981024, 0.8437942652272382],\n",
    "#     'Recall': [0.6538075113627303, 0.840746351965553],\n",
    "#     'F1-score': [0.6576513711430336, 0.8422675512347874]\n",
    "# }\n",
    "    \n",
    "# models = ['mBART50-MM', 'Helsinki-NLP/opus-mt-en-af']\n",
    "# metrics = list(data.keys())\n",
    "# scores = np.array(list(data.values()))\n",
    "# fig, ax = plt.subplots(figsize=(10, 5))\n",
    "\n",
    "# # Get the number of bars\n",
    "# n_bars = len(models)\n",
    "# bar_width = 0.4\n",
    "# index = np.arange(len(metrics))\n",
    "\n",
    "# # Create bars\n",
    "# for i, model in enumerate(models):\n",
    "#     ax.bar(index + i * bar_width, scores[:, i], bar_width, label=model)\n",
    "\n",
    "# ax.set_xlabel(\"Metrics\", fontsize=14)\n",
    "# ax.set_ylabel(\"Score Value\", fontsize=14)\n",
    "# ax.set_title(\"Comparing Precision, Recall, and F1 Scores Across Models\", fontsize=16)\n",
    "# ax.set_ylim(0, 1)\n",
    "# ax.set_xticks(index + bar_width / 2)\n",
    "# ax.set_xticklabels(metrics)\n",
    "# ax.legend(title='Models', loc='center left', bbox_to_anchor=(1, 0.5))\n",
    "# # Gridlines\n",
    "# ax.grid(axis='y', linestyle='--', alpha=0.7)\n",
    "\n",
    "# # Value labels on top of the bars\n",
    "# for i in range(n_bars):\n",
    "#     for j in range(len(metrics)):\n",
    "#         height = scores[j, i]\n",
    "#         ax.annotate(f'{height:.4f}',\n",
    "#                     xy=(j + i * bar_width, height),\n",
    "#                     xytext=(0, 3),  # 3 points vertical offset\n",
    "#                     textcoords=\"offset points\",\n",
    "#                     ha='center', va='bottom')\n",
    "# # Show plot\n",
    "# plt.show()"
   ]
  },
  {
   "cell_type": "markdown",
   "metadata": {
    "id": "b00aaYzff0SP"
   },
   "source": [
    "# Machine Translation for Misinformation Data"
   ]
  },
  {
   "cell_type": "code",
   "execution_count": null,
   "metadata": {
    "execution": {
     "iopub.execute_input": "2024-10-06T06:45:49.447842Z",
     "iopub.status.busy": "2024-10-06T06:45:49.447310Z",
     "iopub.status.idle": "2024-10-06T06:45:49.463019Z",
     "shell.execute_reply": "2024-10-06T06:45:49.461862Z",
     "shell.execute_reply.started": "2024-10-06T06:45:49.447811Z"
    },
    "trusted": true
   },
   "outputs": [],
   "source": [
    "# # Function to create a comparison table\n",
    "# def create_comparison_table(original_texts, translations, back_translations=None, second_translations=None):\n",
    "#     if original_texts is None or translations is None:\n",
    "#         print('Invalid. Please ensure the original and translated texts are not empty or null.')\n",
    "#         return\n",
    "    \n",
    "#     if back_translations is None or second_translations is None:\n",
    "#         data = {\n",
    "#             \"Original Text\": original_texts,\n",
    "#             \"Translated Text\": translations            \n",
    "#         }\n",
    "#         df = pd.DataFrame(data)\n",
    "#         return df\n",
    "#     else:\n",
    "#         data = {\n",
    "#             \"Original Text\": original_texts,\n",
    "#             \"Translated Text\": translations,\n",
    "#             \"Back-Translation\": back_translations,\n",
    "#             \"Second Translation\": second_translations\n",
    "#         }\n",
    "#         df = pd.DataFrame(data)\n",
    "#         return df\n",
    "    \n",
    "# # Function to get synonyms\n",
    "# def get_synonyms(word):\n",
    "#     synonyms = set()\n",
    "#     for syn in wordnet.synsets(word):\n",
    "#         for lemma in syn.lemmas():\n",
    "#             synonyms.add(lemma.name().lower())\n",
    "#     return synonyms\n",
    "\n",
    "# def back_translate_texts(translated_texts, src_lang, tgt_lang, model_name):\n",
    "#     back_translated_texts = translate_texts([\" \".join(text) for text in translated_texts], src_lang, tgt_lang, model_name)\n",
    "#     return [text.split() for text in back_translated_texts]"
   ]
  },
  {
   "cell_type": "markdown",
   "metadata": {},
   "source": [
    "### Fakeddit"
   ]
  },
  {
   "cell_type": "code",
   "execution_count": null,
   "metadata": {
    "id": "8EqtF1uyfzxN",
    "trusted": true
   },
   "outputs": [],
   "source": [
    "# # Uncomment if not downloaded\n",
    "# # nltk.download('wordnet')\n",
    "# # nltk.download('omw-1.4')\n",
    "\n",
    "# # # Example usage\n",
    "# # original_texts = [\"This is a test sentence.\", \"Another example.\"]\n",
    "# # translations = [\"Hierdie is 'n toets.\", \"Nog 'n voorbeeld.\"]\n",
    "# # back_translations = [\"This is a test.\", \"Another example.\"]\n",
    "\n",
    "# # Load tokenizer and model\n",
    "# tokenizer = AutoTokenizer.from_pretrained(\"Helsinki-NLP/opus-mt-en-af\")\n",
    "# model = AutoModelForSeq2SeqLM.from_pretrained(\"Helsinki-NLP/opus-mt-en-af\")\n",
    "\n",
    "# # Move model to GPU if available\n",
    "# device = torch.device('cuda' if torch.cuda.is_available() else 'cpu')\n",
    "# model.to(device)\n",
    "\n",
    "# # Create smaller sample for source and target\n",
    "# src_lang = \"en_XX\"\n",
    "# tgt_lang = \"af_ZA\"\n",
    "# model_name = 'helsinki'\n",
    "# batch_size=8\n",
    "\n",
    "# # Load data from a TSV file\n",
    "# def load_tsv_data(file_path):\n",
    "#     return pd.read_csv(file_path, sep='\\t')\n",
    "\n",
    "# # Load the training, validation, and test data\n",
    "# train_df = load_tsv_data('/kaggle/input/fakeddit/multimodal_train.tsv')\n",
    "# val_df = load_tsv_data('/kaggle/input/fakeddit/multimodal_validate.tsv')\n",
    "# test_df = load_tsv_data('/kaggle/input/fakeddit/multimodal_test_public.tsv')\n",
    "\n",
    "# # Extract text data\n",
    "# train_texts = train_df['clean_title'].tolist()\n",
    "# val_texts = val_df['clean_title'].tolist()\n",
    "# test_texts = test_df['clean_title'].tolist()\n",
    "\n",
    "# # Due to above sets being large and we have limited computing resources, we will use 10000 samples\n",
    "# sample_train_texts = train_texts[:10]\n",
    "# sample_val_texts = val_texts[:10000]\n",
    "# sample_test_texts = test_texts[:10000]\n",
    "\n",
    "# # Translate texts in batches\n",
    "# print('Translating text...\\n')\n",
    "# translated_texts = translate_texts_in_batches(sample_train_texts, None, src_lang, tgt_lang, batch_size, model_name)\n",
    "# print('Performing back translations...\\n')\n",
    "\n",
    "# joined_trans = translated_texts\n",
    "# for i, words in enumerate(joined_trans):\n",
    "#     joined_trans[i] = ' '.join(words)\n",
    "\n",
    "# comparison_df = create_comparison_table(sample_train_texts, joined_trans, None, None)\n",
    "\n",
    "# print(comparison_df)\n",
    "# print(len(train_texts))"
   ]
  },
  {
   "cell_type": "code",
   "execution_count": null,
   "metadata": {
    "trusted": true
   },
   "outputs": [],
   "source": [
    "# ---------------------------------------------------\n",
    "# The code below is for viewing the back translations\n",
    "# ---------------------------------------------------\n",
    "\n",
    "# # Load tokenizer and model\n",
    "# tokenizer = AutoTokenizer.from_pretrained(\"Helsinki-NLP/opus-mt-af-en\")\n",
    "# model = AutoModelForSeq2SeqLM.from_pretrained(\"Helsinki-NLP/opus-mt-af-en\")\n",
    "\n",
    "# # Move model to GPU if available\n",
    "# device = torch.device('cuda' if torch.cuda.is_available() else 'cpu')\n",
    "# model.to(device)\n",
    "\n",
    "# # back_translations = translate_texts_in_batches(translated_texts, None, tgt_lang, src_lang, batch_size, model_name)\n",
    "# back_translations = back_translate_texts(translated_texts, tgt_lang, src_lang, model_name)\n",
    "    \n",
    "# joined_backs = back_translations\n",
    "# for i, words in enumerate(joined_backs):\n",
    "#     joined_backs[i] = ' '.join(words)\n",
    "    \n",
    "# # Load tokenizer and model\n",
    "# tokenizer = AutoTokenizer.from_pretrained(\"Helsinki-NLP/opus-mt-en-af\")\n",
    "# model = AutoModelForSeq2SeqLM.from_pretrained(\"Helsinki-NLP/opus-mt-en-af\")\n",
    "\n",
    "# # Move model to GPU if available\n",
    "# device = torch.device('cuda' if torch.cuda.is_available() else 'cpu')\n",
    "# model.to(device)\n",
    "\n",
    "# second_translations = translate_texts_in_batches(joined_backs, None, src_lang, tgt_lang, batch_size, model_name)\n",
    "\n",
    "# joined_second_trans = second_translations\n",
    "# for i, words in enumerate(joined_second_trans):\n",
    "#     joined_second_trans[i] = ' '.join(words)\n",
    "\n",
    "# comparison_df = create_comparison_table(sample_train_texts, joined_trans, joined_backs, joined_second_trans)\n",
    "\n",
    "# comparison_df"
   ]
  },
  {
   "cell_type": "code",
   "execution_count": null,
   "metadata": {
    "trusted": true
   },
   "outputs": [],
   "source": [
    "# sentence = 'Hackers leak emails from UAE ambassador to US'\n",
    "# sentence = 'Hackers lek e- pos van UAE ambassadeur na US'\n",
    "\n",
    "# sentence.split()"
   ]
  },
  {
   "cell_type": "markdown",
   "metadata": {},
   "source": [
    "## Misinformation Dataset\n",
    "### Acknowledgements\n",
    "\n",
    "**[LIAR: A BENCHMARK DATASET FOR FAKE NEWS DETECTION](https://paperswithcode.com/dataset/liar)**\n",
    "\n",
    "Download from [here](https://github.com/tfs4/liar_dataset).\n",
    "\n",
    "**Description:** LIAR is a publicly accessible dataset designed for fake news detection. It comprises 12,800 manually labeled short statements collected over ten years from POLITIFACT.COM, which provides detailed analysis reports and links to source documents for each case. This dataset is also valuable for fact-checking research. Significantly, it is much larger than previously available public fake news datasets of a similar type. The LIAR dataset includes 12,800 human-labeled short statements from POLITIFACT.COM's API, with each statement evaluated for its truthfulness by a POLITIFACT.COM editor.\n",
    "\n",
    "**Citation:**\n",
    "William Yang Wang, \"Liar, Liar Pants on Fire\": A New Benchmark Dataset for Fake News Detection, to appear in Proceedings of the 55th Annual Meeting of the Association for Computational Linguistics (ACL 2017), short paper, Vancouver, BC, Canada, July 30-August 4, ACL."
   ]
  },
  {
   "cell_type": "code",
   "execution_count": null,
   "metadata": {
    "execution": {
     "iopub.execute_input": "2024-10-17T10:12:20.601414Z",
     "iopub.status.busy": "2024-10-17T10:12:20.600807Z",
     "iopub.status.idle": "2024-10-17T10:12:23.842036Z",
     "shell.execute_reply": "2024-10-17T10:12:23.841247Z",
     "shell.execute_reply.started": "2024-10-17T10:12:20.601383Z"
    },
    "trusted": true
   },
   "outputs": [],
   "source": [
    "# Load tokenizer and model\n",
    "tokenizer = AutoTokenizer.from_pretrained(\"Helsinki-NLP/opus-mt-en-af\")\n",
    "model = AutoModelForSeq2SeqLM.from_pretrained(\"Helsinki-NLP/opus-mt-en-af\")\n",
    "\n",
    "# Move model to GPU if available\n",
    "device = torch.device('cuda' if torch.cuda.is_available() else 'cpu')\n",
    "model.to(device)\n",
    "\n",
    "# Create smaller sample for source and target\n",
    "src_lang = \"en_XX\"\n",
    "tgt_lang = \"af_ZA\"\n",
    "model_name = 'helsinki'\n",
    "batch_size=8\n",
    "\n",
    "# Load data from a TSV file\n",
    "def load_tsv_data(file_path):\n",
    "    return pd.read_csv(file_path, sep='\\t', header=None)\n",
    "\n",
    "# Remove unwanted columns\n",
    "def drop_unwanted_columns(dataframe):\n",
    "#     dataframe = dataframe.drop(dataframe.iloc[:, 3:], axis=1) # we only want the statement along with the label, this will be translated to Afrikaans\n",
    "    column_names = ['ID', 'Label', 'Statement', 'Subject(s)',\n",
    "                    'Speaker', 'Job Title', 'State Info',\n",
    "                    'Party Affiliation', 'Barely True Counts',\n",
    "                    'False Counts', 'Half True Counts', 'Mostly True Counts',\n",
    "                    'Pants on fire Counts', 'Context'\n",
    "                   ]\n",
    "    dataframe = pd.DataFrame(dataframe)\n",
    "    dataframe.columns = column_names\n",
    "    return dataframe\n",
    "\n",
    "# Load the training, validation, and test data\n",
    "train_df = load_tsv_data('/kaggle/input/liar-dataset/train.tsv')\n",
    "val_df = load_tsv_data('/kaggle/input/liar-dataset/valid.tsv')\n",
    "test_df = load_tsv_data('/kaggle/input/liar-dataset/test.tsv')\n",
    "\n",
    "# Remove unwanted data\n",
    "train_df = drop_unwanted_columns(train_df)\n",
    "val_df = drop_unwanted_columns(val_df)\n",
    "test_df = drop_unwanted_columns(test_df)\n",
    "\n",
    "# Extract text data\n",
    "train_texts = train_df['Statement'].tolist()\n",
    "val_texts = val_df['Statement'].tolist()\n",
    "test_texts = test_df['Statement'].tolist()"
   ]
  },
  {
   "cell_type": "code",
   "execution_count": null,
   "metadata": {
    "execution": {
     "iopub.execute_input": "2024-10-17T10:12:29.011245Z",
     "iopub.status.busy": "2024-10-17T10:12:29.010891Z",
     "iopub.status.idle": "2024-10-17T10:12:29.020343Z",
     "shell.execute_reply": "2024-10-17T10:12:29.019467Z",
     "shell.execute_reply.started": "2024-10-17T10:12:29.011208Z"
    },
    "trusted": true
   },
   "outputs": [],
   "source": [
    "train_df['Label'].unique()"
   ]
  },
  {
   "cell_type": "code",
   "execution_count": null,
   "metadata": {
    "execution": {
     "iopub.execute_input": "2024-10-17T10:13:07.556538Z",
     "iopub.status.busy": "2024-10-17T10:13:07.555840Z",
     "iopub.status.idle": "2024-10-17T10:13:07.575660Z",
     "shell.execute_reply": "2024-10-17T10:13:07.574577Z",
     "shell.execute_reply.started": "2024-10-17T10:13:07.556503Z"
    },
    "trusted": true
   },
   "outputs": [],
   "source": [
    "counter = 0\n",
    "bad_train_sentences = []\n",
    "bad_val_sentences = []\n",
    "bad_test_sentences = []\n",
    "\n",
    "def append_bad_sentences(bad_sentences, texts, counter):\n",
    "    for sentence in texts:\n",
    "        if '.json' in sentence:\n",
    "            counter += 1\n",
    "            bad_sentences.append(sentence)\n",
    "            print(len(sentence.split()))\n",
    "            \n",
    "    return bad_sentences\n",
    "\n",
    "# handle train sentences\n",
    "bad_train_sentences = append_bad_sentences(bad_train_sentences, train_texts, counter)\n",
    "print(counter)\n",
    "bad_train_df = pd.DataFrame(bad_train_sentences, columns=['Bad Sentences'])\n",
    "print(bad_train_df)\n",
    "print()\n",
    "\n",
    "# handle val sentences\n",
    "counter = 0\n",
    "bad_val_sentences = append_bad_sentences(bad_val_sentences, val_texts, counter)\n",
    "print(counter)\n",
    "bad_val_df = pd.DataFrame(bad_val_sentences, columns=['Bad Sentences'])\n",
    "print(bad_val_df)\n",
    "print()\n",
    "\n",
    "# handle test sentences\n",
    "counter = 0\n",
    "bad_test_sentences = append_bad_sentences(bad_test_sentences, test_texts, counter)\n",
    "print(counter)\n",
    "bad_test_df = pd.DataFrame(bad_test_sentences, columns=['Bad Sentences'])\n",
    "print(bad_test_df)"
   ]
  },
  {
   "cell_type": "markdown",
   "metadata": {},
   "source": [
    "Since there are only a few records being faulty we can remove them."
   ]
  },
  {
   "cell_type": "code",
   "execution_count": null,
   "metadata": {
    "execution": {
     "iopub.execute_input": "2024-10-17T11:06:23.223851Z",
     "iopub.status.busy": "2024-10-17T11:06:23.223017Z",
     "iopub.status.idle": "2024-10-17T11:06:23.234986Z",
     "shell.execute_reply": "2024-10-17T11:06:23.234055Z",
     "shell.execute_reply.started": "2024-10-17T11:06:23.223816Z"
    },
    "trusted": true
   },
   "outputs": [],
   "source": [
    "# Remove records containing the bad sentence in the \"Statement\" column\n",
    "train_df = train_df[~train_df['Statement'].isin(bad_train_sentences)]\n",
    "train_texts = train_df['Statement'].tolist()\n",
    "print(len(train_texts))\n",
    "\n",
    "val_df = val_df[~val_df['Statement'].isin(bad_val_sentences)]\n",
    "val_texts = val_df['Statement'].tolist()\n",
    "print(len(val_texts))\n",
    "\n",
    "test_df = test_df[~test_df['Statement'].isin(bad_test_sentences)]\n",
    "test_texts = test_df['Statement'].tolist()\n",
    "print(len(test_texts))"
   ]
  },
  {
   "cell_type": "code",
   "execution_count": null,
   "metadata": {
    "execution": {
     "iopub.execute_input": "2024-10-17T11:06:23.789589Z",
     "iopub.status.busy": "2024-10-17T11:06:23.789311Z",
     "iopub.status.idle": "2024-10-17T11:06:25.190032Z",
     "shell.execute_reply": "2024-10-17T11:06:25.189173Z",
     "shell.execute_reply.started": "2024-10-17T11:06:23.789567Z"
    },
    "trusted": true
   },
   "outputs": [],
   "source": [
    "def visualise_sentence_lengths_distribution(texts, split='Training'):\n",
    "    # Extract sentence lengths (in words) into list\n",
    "    sentence_lengths = [len(sentence.split()) for sentence in texts]\n",
    "\n",
    "    # Calculate frequency distributions\n",
    "    sentence_length_counts = Counter(sentence_lengths)\n",
    "\n",
    "    # Sort the lengths for consistent plotting\n",
    "    sorted_sentence_lengths = sorted(sentence_length_counts.keys())\n",
    "    sorted_length_counts = [sentence_length_counts[length] for length in sorted_sentence_lengths]\n",
    "\n",
    "    plt.figure(figsize=(10,10))\n",
    "\n",
    "    # 1st plot - Box plot for sentence lengths\n",
    "    plt.subplot(2, 2, 1)\n",
    "    plt.boxplot(sentence_lengths, vert=False, patch_artist=True,\n",
    "                boxprops=dict(facecolor='skyblue', color='blue', alpha=0.7),\n",
    "                medianprops=dict(color='red'))\n",
    "    plt.title(f'{split}:\\n Box Plot of Sentence Lengths (in words) for Text')\n",
    "    plt.xlabel('Sentence Length (number of words)')\n",
    "    plt.yticks([])\n",
    "\n",
    "    # 2nd plot - Bar plot for source sentence lengths\n",
    "    plt.subplot(2, 2, 2)\n",
    "    plt.bar(sorted_sentence_lengths, sorted_length_counts, color='blue', alpha=0.7)\n",
    "    plt.title(f'{split}:\\n Distribution of Sentence Lengths (in words) for Source Text')\n",
    "    plt.xlabel('Sentence Length (number of words)')\n",
    "    plt.ylabel('Number of Occurrences')\n",
    "    plt.xticks(rotation=45)\n",
    "\n",
    "    # Adjust layout to prevent overlapping\n",
    "    plt.tight_layout()\n",
    "\n",
    "    # Show plot\n",
    "    plt.show()\n",
    "    \n",
    "    return sentence_lengths\n",
    "    \n",
    "train_sentence_lengths = visualise_sentence_lengths_distribution(train_texts)\n",
    "val_sentence_lengths = visualise_sentence_lengths_distribution(val_texts, 'Validation')\n",
    "test_sentence_lengths = visualise_sentence_lengths_distribution(test_texts, 'Testing')"
   ]
  },
  {
   "cell_type": "code",
   "execution_count": null,
   "metadata": {
    "execution": {
     "iopub.execute_input": "2024-10-17T11:06:29.460906Z",
     "iopub.status.busy": "2024-10-17T11:06:29.460551Z",
     "iopub.status.idle": "2024-10-17T11:06:29.467481Z",
     "shell.execute_reply": "2024-10-17T11:06:29.466538Z",
     "shell.execute_reply.started": "2024-10-17T11:06:29.460879Z"
    },
    "trusted": true
   },
   "outputs": [],
   "source": [
    "print('Training:')\n",
    "print(max(train_sentence_lengths))\n",
    "print(min(train_sentence_lengths))\n",
    "\n",
    "print('\\nValidation:')\n",
    "print(max(val_sentence_lengths))\n",
    "print(min(val_sentence_lengths))\n",
    "\n",
    "print('\\nTesting:')\n",
    "print(max(test_sentence_lengths))\n",
    "print(min(test_sentence_lengths))"
   ]
  },
  {
   "cell_type": "markdown",
   "metadata": {},
   "source": [
    "### Handle Outliers"
   ]
  },
  {
   "cell_type": "code",
   "execution_count": null,
   "metadata": {
    "execution": {
     "iopub.execute_input": "2024-10-17T11:06:30.341136Z",
     "iopub.status.busy": "2024-10-17T11:06:30.340836Z",
     "iopub.status.idle": "2024-10-17T11:06:31.941077Z",
     "shell.execute_reply": "2024-10-17T11:06:31.940231Z",
     "shell.execute_reply.started": "2024-10-17T11:06:30.341111Z"
    },
    "trusted": true
   },
   "outputs": [],
   "source": [
    "def handle_outliers(texts, sentence_lengths, split='Training'):\n",
    "    # IQR\n",
    "    Q1 = np.percentile(sentence_lengths, 25, method='midpoint')\n",
    "    Q3 = np.percentile(sentence_lengths, 75, method='midpoint')\n",
    "    IQR = Q3 - Q1\n",
    "    print(f'{split} set:')\n",
    "    print(IQR)\n",
    "\n",
    "    # Above Upper bound\n",
    "    upper_bound = Q3+1.5*IQR\n",
    "    upper_array = np.array(sentence_lengths >= upper_bound)\n",
    "    print(\"Upper Bound:\", upper_bound)\n",
    "    print(upper_array.sum())\n",
    "\n",
    "    # Below Lower bound\n",
    "    lower_bound = Q1-1.5*IQR\n",
    "    lower_array = np.array(sentence_lengths <= lower_bound)\n",
    "    print(\"Lower Bound:\", lower_bound)\n",
    "    print(lower_array.sum())\n",
    "\n",
    "    # Remove outliers\n",
    "    filtered_texts = []\n",
    "\n",
    "    for sentence, length in zip(texts, sentence_lengths):\n",
    "        if lower_bound <= length <= upper_bound:\n",
    "            filtered_texts.append(sentence)\n",
    "            \n",
    "    visualise_sentence_lengths_distribution(filtered_texts, split)\n",
    "    \n",
    "# Training set outliers\n",
    "handle_outliers(train_texts, train_sentence_lengths)\n",
    "\n",
    "# Validation set outliers\n",
    "handle_outliers(val_texts, val_sentence_lengths, 'Validation')\n",
    "\n",
    "# Testing set outliers\n",
    "handle_outliers(test_texts, test_sentence_lengths, 'Testing')"
   ]
  },
  {
   "cell_type": "code",
   "execution_count": null,
   "metadata": {
    "execution": {
     "iopub.execute_input": "2024-10-17T11:06:31.942879Z",
     "iopub.status.busy": "2024-10-17T11:06:31.942597Z",
     "iopub.status.idle": "2024-10-17T11:06:31.953817Z",
     "shell.execute_reply": "2024-10-17T11:06:31.952777Z",
     "shell.execute_reply.started": "2024-10-17T11:06:31.942854Z"
    },
    "trusted": true
   },
   "outputs": [],
   "source": [
    "# Create dataframe from train_texts and make the column header \"Sentence\"\n",
    "train_texts_df = pd.DataFrame(train_texts, columns=['Sentence'])\n",
    "train_texts_df"
   ]
  },
  {
   "cell_type": "code",
   "execution_count": null,
   "metadata": {
    "execution": {
     "iopub.execute_input": "2024-10-17T11:06:31.955327Z",
     "iopub.status.busy": "2024-10-17T11:06:31.954976Z",
     "iopub.status.idle": "2024-10-17T11:06:31.967064Z",
     "shell.execute_reply": "2024-10-17T11:06:31.966007Z",
     "shell.execute_reply.started": "2024-10-17T11:06:31.955299Z"
    },
    "trusted": true
   },
   "outputs": [],
   "source": [
    "# Create dataframe from val_texts and make the column header \"Sentence\"\n",
    "val_texts_df = pd.DataFrame(val_texts, columns=['Sentence'])\n",
    "val_texts_df"
   ]
  },
  {
   "cell_type": "code",
   "execution_count": null,
   "metadata": {
    "execution": {
     "iopub.execute_input": "2024-10-17T11:06:31.969511Z",
     "iopub.status.busy": "2024-10-17T11:06:31.968906Z",
     "iopub.status.idle": "2024-10-17T11:06:31.979118Z",
     "shell.execute_reply": "2024-10-17T11:06:31.978129Z",
     "shell.execute_reply.started": "2024-10-17T11:06:31.969486Z"
    },
    "trusted": true
   },
   "outputs": [],
   "source": [
    "# Create dataframe from test_texts and make the column header \"Sentence\"\n",
    "test_texts_df = pd.DataFrame(test_texts, columns=['Sentence'])\n",
    "test_texts_df"
   ]
  },
  {
   "cell_type": "markdown",
   "metadata": {},
   "source": [
    "### Use Gemini for translations"
   ]
  },
  {
   "cell_type": "code",
   "execution_count": null,
   "metadata": {
    "execution": {
     "iopub.execute_input": "2024-10-17T11:06:32.380971Z",
     "iopub.status.busy": "2024-10-17T11:06:32.380712Z",
     "iopub.status.idle": "2024-10-17T11:06:32.401121Z",
     "shell.execute_reply": "2024-10-17T11:06:32.400245Z",
     "shell.execute_reply.started": "2024-10-17T11:06:32.380950Z"
    },
    "trusted": true
   },
   "outputs": [],
   "source": [
    "import google.generativeai as genai\n",
    "from google.generativeai.types import HarmCategory, HarmBlockThreshold\n",
    "from google.api_core.exceptions import ResourceExhausted, InternalServerError\n",
    "import time\n",
    "from datetime import timedelta\n",
    "\n",
    "harmful = []\n",
    "\n",
    "# Define the Gemini class\n",
    "class Gemini:\n",
    "    def __init__(self, model_name):\n",
    "        self.all_translations = []\n",
    "        self.fitness_scores = []\n",
    "        self.invalidIndices = []\n",
    "        self.translation_indexes = []\n",
    "        # Configure the Google Gemini API key\n",
    "        genai.configure(api_key=\"{os.environ['GEMINI_API_KEY']}\")\n",
    "\n",
    "        # Define the model\n",
    "        self.model = genai.GenerativeModel(model_name) # 'gemini-1.5-flash' or \"gemini-1.0-pro\"\n",
    "\n",
    "    def generate_Gemini_translations(self, df, output_file, indexes_output_file):\n",
    "        source_sentences = df['Sentence']\n",
    "        count = 0\n",
    "        interval_count = 0\n",
    "\n",
    "        while len(source_sentences) != 0:\n",
    "            try:\n",
    "                # The API seems to only handle 16 requests per minute (RPM)\n",
    "                if interval_count >= 15:\n",
    "                    wait_time = 61  # 1 minute and 1 second\n",
    "                    print()\n",
    "                    print('We\\'ve hit the maximum RPM. Waiting for 1 minute...')\n",
    "\n",
    "                    for remaining in range(wait_time, 0, -1):\n",
    "                        print(f'\\rWaiting... {timedelta(seconds=remaining)} remaining', end='')\n",
    "                        time.sleep(1)\n",
    "                    print('\\nResuming...')\n",
    "                    interval_count = 0\n",
    "                else:\n",
    "                    # Generate translation\n",
    "                    response = self.model.generate_content(f\"Translate the sentence to Afrikaans: {source_sentences.iloc[0]}\",\n",
    "                                    safety_settings={\n",
    "                                        HarmCategory.HARM_CATEGORY_HATE_SPEECH: HarmBlockThreshold.BLOCK_NONE,\n",
    "                                        HarmCategory.HARM_CATEGORY_HARASSMENT: HarmBlockThreshold.BLOCK_NONE,\n",
    "                                        HarmCategory.HARM_CATEGORY_SEXUALLY_EXPLICIT: HarmBlockThreshold.BLOCK_NONE,\n",
    "                                        HarmCategory.HARM_CATEGORY_DANGEROUS_CONTENT: HarmBlockThreshold.BLOCK_NONE\n",
    "                                    })\n",
    "\n",
    "                    # Extract the translated text\n",
    "#                     translated_text = response.text\n",
    "#                     self.all_translations.append(translated_text)\n",
    "#                     count += 1\n",
    "#                     interval_count += 1\n",
    "#                     print('\\rTranslations completed: ', count, end='')\n",
    "#                     source_sentences = source_sentences[1:] # remove the first element which we just translated\n",
    "\n",
    "                    # Error handling for faulty response.text\n",
    "                    try:\n",
    "                        # Extract the translated text\n",
    "                        translated_text = response.text\n",
    "\n",
    "                        # Check if response.text is valid\n",
    "                        if translated_text:\n",
    "                            self.all_translations.append(translated_text)\n",
    "                            count += 1\n",
    "                            interval_count += 1\n",
    "                            self.translation_indexes.append(df.index[df['Sentence'] == source_sentences.iloc[0]][0])\n",
    "                            print('\\rTranslations completed: ', count, end='')\n",
    "                            source_sentences = source_sentences[1:]  # remove the first element which we just translated\n",
    "                        else:\n",
    "                            print(f'Invalid response.text for the text: \"{source_sentences[0]}\"')\n",
    "                            source_sentences = source_sentences[1:]  # skip this translation\n",
    "                            continue  # Skip to the next iteration of the loop\n",
    "                    except ValueError as e:\n",
    "                        print(f\"Error accessing response.text: {e}\")\n",
    "                        print(f\"Response Feedback: {response.prompt_feedback}\")\n",
    "                        source_sentences = source_sentences[1:]  # Skip to the next iteration of the loop\n",
    "            except ValueError: # Add check if model does not return a text property\n",
    "                print()\n",
    "                invalidIndex = list(source_sentences).index(source_sentences[0])\n",
    "                self.invalidIndices.append(invalidIndex)\n",
    "                print(f'response.text most likely caused an error for the text: \"{source_sentences[0]}\"')\n",
    "                source_sentences = source_sentences[1:] # we skip this translation since it cannot be handled by Gemini\n",
    "            except ResourceExhausted:\n",
    "                wait_time = 61  # 1 minute and 1 second\n",
    "                print()\n",
    "                print('Resource exhausted. Waiting for 1 minute...')\n",
    "\n",
    "                for remaining in range(wait_time, 0, -1):\n",
    "                    print(f'\\rWaiting... {timedelta(seconds=remaining)} remaining', end='')\n",
    "                    time.sleep(1)\n",
    "                print('\\nResuming...')\n",
    "            except InternalServerError:\n",
    "                # Save translations to a text file\n",
    "                with open(output_file, 'w') as f:\n",
    "                    for translation in self.all_translations:\n",
    "                        f.write(\"%s\\n\" % translation)\n",
    "                        \n",
    "                # Save indexes of translations\n",
    "                with open(indexes_output_file, 'w') as f:\n",
    "                    for index in self.translation_indexes:\n",
    "                        f.write(\"%s\\n\" % index)\n",
    "                \n",
    "                print(f'InternalServerError encountered...translations completed and saved: {count}')\n",
    "            # print(f\"Generated Translation: {translated_text}\")\n",
    "\n",
    "        # Save translations to a text file\n",
    "        with open(output_file, 'w') as f:\n",
    "            for translation in self.all_translations:\n",
    "                f.write(\"%s\\n\" % translation)\n",
    "        \n",
    "        # Save indexes of translations\n",
    "        with open(indexes_output_file, 'w') as f:\n",
    "            for index in self.translation_indexes:\n",
    "                f.write(\"%s\\n\" % index)\n",
    "\n",
    "        return self.all_translations\n",
    "\n",
    "def run_GEMINI_program(df, model, output_file, indexes_output_file):\n",
    "    return model.generate_Gemini_translations(df, output_file, indexes_output_file)\n",
    "\n",
    "# Define Models\n",
    "GEMINI_model = Gemini('gemini-1.0-pro')"
   ]
  },
  {
   "cell_type": "code",
   "execution_count": null,
   "metadata": {
    "execution": {
     "iopub.execute_input": "2024-10-17T11:06:32.849648Z",
     "iopub.status.busy": "2024-10-17T11:06:32.849022Z",
     "iopub.status.idle": "2024-10-17T11:06:32.853082Z",
     "shell.execute_reply": "2024-10-17T11:06:32.852156Z",
     "shell.execute_reply.started": "2024-10-17T11:06:32.849623Z"
    },
    "trusted": true
   },
   "outputs": [],
   "source": [
    "# GEMINI_translations = run_GEMINI_program(val_texts_df[0:-1], model=GEMINI_model, output_file='val-set-gemini-af-translations.txt', indexes_output_file='val-set-indexes-af-translations.txt')\n",
    "# GEMINI_translations"
   ]
  },
  {
   "cell_type": "code",
   "execution_count": null,
   "metadata": {
    "execution": {
     "iopub.execute_input": "2024-10-17T11:06:33.279109Z",
     "iopub.status.busy": "2024-10-17T11:06:33.278798Z",
     "iopub.status.idle": "2024-10-17T11:06:33.283295Z",
     "shell.execute_reply": "2024-10-17T11:06:33.282358Z",
     "shell.execute_reply.started": "2024-10-17T11:06:33.279086Z"
    },
    "trusted": true
   },
   "outputs": [],
   "source": [
    "# # If run failed, run this to save output file\n",
    "# with open('corrected-gemini-af-translations[0-999].txt', 'w') as f:\n",
    "#     for translation in GEMINI_model.all_translations:\n",
    "#         f.write(\"%s\\n\" % translation)\n",
    "        \n",
    "# with open('indexes-af-translations[0-999].txt', 'w') as f:\n",
    "#     for index in GEMINI_model.translation_indexes:\n",
    "#         f.write(\"%s\\n\" % index)"
   ]
  },
  {
   "cell_type": "code",
   "execution_count": null,
   "metadata": {
    "execution": {
     "iopub.execute_input": "2024-10-17T11:06:34.189679Z",
     "iopub.status.busy": "2024-10-17T11:06:34.189111Z",
     "iopub.status.idle": "2024-10-17T11:06:34.193302Z",
     "shell.execute_reply": "2024-10-17T11:06:34.192256Z",
     "shell.execute_reply.started": "2024-10-17T11:06:34.189652Z"
    },
    "trusted": true
   },
   "outputs": [],
   "source": [
    "# len(GEMINI_model.all_translations)"
   ]
  },
  {
   "cell_type": "markdown",
   "metadata": {},
   "source": [
    "## Calculating similarity score\n",
    "\n",
    "#### Model: LaBSE\n",
    "Source: [here](https://huggingface.co/Blaxzter/LaBSE-sentence-embeddings)\n",
    "\n",
    "**Model description** (from source page)\n",
    "\n",
    "Language-agnostic BERT Sentence Encoder (LaBSE) is a BERT-based model trained for sentence embedding for 109 languages. The pre-training process combines masked language modeling with translation language modeling. The model is useful for getting multilingual sentence embeddings and for bi-text retrieval.\n",
    "\n",
    "- Model: [HuggingFace's model hub](https://huggingface.co/setu4993/LaBSE).\n",
    "- Paper: [arXiv](https://arxiv.org/abs/2007.01852).\n",
    "- Original model: [TensorFlow Hub](https://tfhub.dev/google/LaBSE/2).\n",
    "- Blog post: [Google AI Blog](https://ai.googleblog.com/2020/08/language-agnostic-bert-sentence.html).\n",
    "- Conversion from TensorFlow to PyTorch: [GitHub](https://github.com/setu4993/convert-labse-tf-pt).\n",
    "\n",
    "This is migrated from the v2 model on the TF Hub, which uses dict-based input. The embeddings produced by both the versions of the model are [equivalent](https://github.com/setu4993/convert-labse-tf-pt/blob/ec3a019159a54ed6493181a64486c2808c01f216/tests/test_conversion.py#L31)."
   ]
  },
  {
   "cell_type": "code",
   "execution_count": null,
   "metadata": {
    "execution": {
     "iopub.execute_input": "2024-10-17T11:06:39.352679Z",
     "iopub.status.busy": "2024-10-17T11:06:39.351830Z",
     "iopub.status.idle": "2024-10-17T11:06:39.389543Z",
     "shell.execute_reply": "2024-10-17T11:06:39.388762Z",
     "shell.execute_reply.started": "2024-10-17T11:06:39.352644Z"
    },
    "trusted": true
   },
   "outputs": [],
   "source": [
    "# Training set\n",
    "train_gemini_af_translations = []\n",
    "train_translation_indexes = []\n",
    "with open('/kaggle/input/gemini-af-translations-with-indices/gemini-af-translations.txt', 'r') as f:\n",
    "    for sentence in f:\n",
    "        train_gemini_af_translations.append(sentence)\n",
    "        \n",
    "with open('/kaggle/input/gemini-af-translations-with-indices/translation-indices.txt', 'r') as f:\n",
    "    for index in f:\n",
    "        train_translation_indexes.append(index)\n",
    "\n",
    "# Validation set\n",
    "val_gemini_af_translations = []\n",
    "val_translation_indexes = []\n",
    "with open('/kaggle/input/val-set-gemini-af-translations/val-set-gemini-af-translations.txt', 'r') as f:\n",
    "    for sentence in f:\n",
    "        val_gemini_af_translations.append(sentence)\n",
    "        \n",
    "with open('/kaggle/input/val-set-gemini-af-translations/val-set-indexes-af-translations.txt', 'r') as f:\n",
    "    for index in f:\n",
    "        val_translation_indexes.append(index)\n",
    "\n",
    "# Testing set\n",
    "test_gemini_af_translations = []\n",
    "test_translation_indexes = []\n",
    "with open('/kaggle/input/test-set-gemini-af-translations/test-set-gemini-af-translations.txt', 'r') as f:\n",
    "    for sentence in f:\n",
    "        test_gemini_af_translations.append(sentence)\n",
    "        \n",
    "with open('/kaggle/input/test-set-gemini-af-translations/test-set-indexes-af-translations.txt', 'r') as f:\n",
    "    for index in f:\n",
    "        test_translation_indexes.append(index)"
   ]
  },
  {
   "cell_type": "code",
   "execution_count": null,
   "metadata": {
    "execution": {
     "iopub.execute_input": "2024-10-17T11:48:42.933036Z",
     "iopub.status.busy": "2024-10-17T11:48:42.932633Z",
     "iopub.status.idle": "2024-10-17T11:48:42.950703Z",
     "shell.execute_reply": "2024-10-17T11:48:42.949278Z",
     "shell.execute_reply.started": "2024-10-17T11:48:42.932989Z"
    },
    "trusted": true
   },
   "outputs": [],
   "source": [
    "train_gemini_af_translations_df = pd.DataFrame(train_gemini_af_translations, columns=['Afrikaans Sentence'])\n",
    "val_gemini_af_translations_df = pd.DataFrame(val_gemini_af_translations, columns=['Afrikaans Sentence'])\n",
    "test_gemini_af_translations_df = pd.DataFrame(test_gemini_af_translations, columns=['Afrikaans Sentence'])\n",
    "train_gemini_af_translations_df"
   ]
  },
  {
   "cell_type": "code",
   "execution_count": null,
   "metadata": {
    "execution": {
     "iopub.execute_input": "2024-10-17T11:48:44.440980Z",
     "iopub.status.busy": "2024-10-17T11:48:44.440296Z",
     "iopub.status.idle": "2024-10-17T11:48:44.453236Z",
     "shell.execute_reply": "2024-10-17T11:48:44.452239Z",
     "shell.execute_reply.started": "2024-10-17T11:48:44.440950Z"
    },
    "trusted": true
   },
   "outputs": [],
   "source": [
    "train_translation_indexes_df = pd.DataFrame(train_translation_indexes, columns=['Index'])\n",
    "val_translation_indexes_df = pd.DataFrame(val_translation_indexes, columns=['Index'])\n",
    "test_translation_indexes_df = pd.DataFrame(test_translation_indexes, columns=['Index'])\n",
    "train_translation_indexes_df"
   ]
  },
  {
   "cell_type": "code",
   "execution_count": null,
   "metadata": {
    "execution": {
     "iopub.execute_input": "2024-10-17T11:48:45.459900Z",
     "iopub.status.busy": "2024-10-17T11:48:45.459204Z",
     "iopub.status.idle": "2024-10-17T11:48:45.496760Z",
     "shell.execute_reply": "2024-10-17T11:48:45.495811Z",
     "shell.execute_reply.started": "2024-10-17T11:48:45.459869Z"
    },
    "trusted": true
   },
   "outputs": [],
   "source": [
    "def replace_newline_chars(translations_df, indices_df):\n",
    "    translations_df = translations_df.replace('\\n', '', regex=True)\n",
    "    indices_df = indices_df.replace('\\n', '', regex=True)\n",
    "    indices_df['Index'] = indices_df['Index'].astype(int)\n",
    "    return translations_df, indices_df\n",
    "\n",
    "train_gemini_af_translations_df, train_translation_indexes_df = replace_newline_chars(train_gemini_af_translations_df, train_translation_indexes_df)\n",
    "val_gemini_af_translations_df, val_translation_indexes_df = replace_newline_chars(val_gemini_af_translations_df, val_translation_indexes_df)\n",
    "test_gemini_af_translations_df, test_translation_indexes_df = replace_newline_chars(test_gemini_af_translations_df, test_translation_indexes_df)"
   ]
  },
  {
   "cell_type": "code",
   "execution_count": null,
   "metadata": {
    "execution": {
     "iopub.execute_input": "2024-10-17T11:50:13.735735Z",
     "iopub.status.busy": "2024-10-17T11:50:13.735332Z",
     "iopub.status.idle": "2024-10-17T11:50:13.750947Z",
     "shell.execute_reply": "2024-10-17T11:50:13.749843Z",
     "shell.execute_reply.started": "2024-10-17T11:50:13.735704Z"
    },
    "trusted": true
   },
   "outputs": [],
   "source": [
    "def merge(indexes_df, translations_df):\n",
    "    merged_df = pd.concat([indexes_df, translations_df], axis=1)\n",
    "    return merged_df\n",
    "\n",
    "train_merged_df = merge(train_translation_indexes_df, train_gemini_af_translations_df)\n",
    "val_merged_df = merge(val_translation_indexes_df, val_gemini_af_translations_df)\n",
    "test_merged_df = merge(test_translation_indexes_df, test_gemini_af_translations_df)\n",
    "# val_merged_df\n",
    "train_merged_df"
   ]
  },
  {
   "cell_type": "code",
   "execution_count": null,
   "metadata": {
    "execution": {
     "iopub.execute_input": "2024-10-17T11:50:14.192619Z",
     "iopub.status.busy": "2024-10-17T11:50:14.191956Z",
     "iopub.status.idle": "2024-10-17T11:50:14.210806Z",
     "shell.execute_reply": "2024-10-17T11:50:14.210030Z",
     "shell.execute_reply.started": "2024-10-17T11:50:14.192587Z"
    },
    "trusted": true
   },
   "outputs": [],
   "source": [
    "def add_original_sentences_and_labels(original_df, merged_df):\n",
    "    # Find indices present in both merged_df['Index'] and original_df.index\n",
    "    valid_indices = merged_df['Index'][merged_df['Index'].isin(original_df.index)]\n",
    "    \n",
    "    # Retrieve the original sentences using the valid indices\n",
    "    matching_sentences = original_df.loc[valid_indices, 'Statement']\n",
    "    \n",
    "    # Retrieve the original labels using the valid indices\n",
    "    matching_labels = original_df.loc[valid_indices, 'Label']\n",
    "    \n",
    "    # Reset the index of the matching sentences and labels to ensure alignment with merged_df\n",
    "    matching_sentences = matching_sentences.reset_index(drop=True)\n",
    "    matching_labels = matching_labels.reset_index(drop=True)\n",
    "    \n",
    "    # Filter merged_df to keep only the valid rows that matched\n",
    "    merged_df = merged_df[merged_df['Index'].isin(original_df.index)].reset_index(drop=True)\n",
    "    \n",
    "    # Add the matching sentences and labels to the filtered merged_df\n",
    "    merged_df['English Sentence'] = matching_sentences\n",
    "    merged_df['English Labels'] = matching_labels\n",
    "    \n",
    "    # Return the merged DataFrame\n",
    "    return merged_df\n",
    "\n",
    "train_merged_df = add_original_sentences_and_labels(train_df, train_merged_df)\n",
    "val_merged_df = add_original_sentences_and_labels(val_df, val_merged_df)\n",
    "test_merged_df = add_original_sentences_and_labels(test_df, test_merged_df)"
   ]
  },
  {
   "cell_type": "code",
   "execution_count": null,
   "metadata": {
    "execution": {
     "iopub.execute_input": "2024-10-17T11:50:15.435212Z",
     "iopub.status.busy": "2024-10-17T11:50:15.434835Z",
     "iopub.status.idle": "2024-10-17T11:50:15.447705Z",
     "shell.execute_reply": "2024-10-17T11:50:15.446508Z",
     "shell.execute_reply.started": "2024-10-17T11:50:15.435170Z"
    },
    "trusted": true
   },
   "outputs": [],
   "source": [
    "train_merged_df"
   ]
  },
  {
   "cell_type": "markdown",
   "metadata": {},
   "source": [
    "The sentences seem to be matched even though some were skipped during the translation process due to those being faulty."
   ]
  },
  {
   "cell_type": "markdown",
   "metadata": {},
   "source": [
    "#### Add Afrikaans Labels"
   ]
  },
  {
   "cell_type": "code",
   "execution_count": null,
   "metadata": {
    "execution": {
     "iopub.execute_input": "2024-10-17T11:50:19.347766Z",
     "iopub.status.busy": "2024-10-17T11:50:19.347405Z",
     "iopub.status.idle": "2024-10-17T11:50:19.367156Z",
     "shell.execute_reply": "2024-10-17T11:50:19.366055Z",
     "shell.execute_reply.started": "2024-10-17T11:50:19.347736Z"
    },
    "trusted": true
   },
   "outputs": [],
   "source": [
    "# Dictionary to help map English labels to Afrikaans labels\n",
    "label_translation = {\n",
    "    'false': 'vals',\n",
    "    'half-true': 'half-waar',\n",
    "    'mostly-true': 'meestal-waar',\n",
    "    'true': 'waar',\n",
    "    'barely-true': 'skaars-waar',\n",
    "    'pants-fire': 'broek-vuur'\n",
    "}\n",
    "\n",
    "\n",
    "train_merged_df['Afrikaans Labels'] = train_merged_df['English Labels'].map(label_translation)\n",
    "val_merged_df['Afrikaans Labels'] = val_merged_df['English Labels'].map(label_translation)\n",
    "test_merged_df['Afrikaans Labels'] = test_merged_df['English Labels'].map(label_translation)\n",
    "\n",
    "print(train_merged_df[['English Labels', 'Afrikaans Labels']])\n",
    "print(val_merged_df[['English Labels', 'Afrikaans Labels']])\n",
    "print(test_merged_df[['English Labels', 'Afrikaans Labels']])"
   ]
  },
  {
   "cell_type": "markdown",
   "metadata": {},
   "source": [
    "#### Now we continue to calculate the similarity scores"
   ]
  },
  {
   "cell_type": "code",
   "execution_count": null,
   "metadata": {
    "execution": {
     "iopub.execute_input": "2024-10-17T11:50:19.751068Z",
     "iopub.status.busy": "2024-10-17T11:50:19.750717Z",
     "iopub.status.idle": "2024-10-17T11:50:59.446653Z",
     "shell.execute_reply": "2024-10-17T11:50:59.445709Z",
     "shell.execute_reply.started": "2024-10-17T11:50:19.751041Z"
    },
    "trusted": true
   },
   "outputs": [],
   "source": [
    "def prepare_english_afrikaans_sentences(merged_df):\n",
    "    # Extract english sentences\n",
    "    english_sentences = list(merged_df['English Sentence'][:100])\n",
    "\n",
    "    # Extract afrikaans sentences\n",
    "    afrikaans_sentences = list(merged_df['Afrikaans Sentence'][:100])\n",
    "\n",
    "    # Remove newline characters from afrikaans_sentences\n",
    "    afrikaans_sentences = [sentence.strip() for sentence in afrikaans_sentences]\n",
    "    \n",
    "    return english_sentences, afrikaans_sentences\n",
    "\n",
    "def calculate_similarity_scores(english_sentences, afrikaans_sentences):\n",
    "    # Initialise model and tokeniser\n",
    "    tokenizer = BertTokenizerFast.from_pretrained(\"setu4993/LaBSE\")\n",
    "    model = BertModel.from_pretrained(\"setu4993/LaBSE\")\n",
    "    model = model.eval()\n",
    "\n",
    "    # Get inputs\n",
    "    english_inputs = tokenizer(english_sentences, return_tensors=\"pt\", padding=True)\n",
    "    afrikaans_inputs = tokenizer(afrikaans_sentences, return_tensors=\"pt\", padding=True)\n",
    "\n",
    "    # Get outputs\n",
    "    with torch.no_grad():\n",
    "        english_outputs = model(**english_inputs)\n",
    "        afrikaans_outputs = model(**afrikaans_inputs)\n",
    "\n",
    "    # Get embeddings\n",
    "    english_embeddings = english_outputs.pooler_output\n",
    "    afrikaans_embeddings = afrikaans_outputs.pooler_output\n",
    "    \n",
    "    return english_embeddings, afrikaans_embeddings\n",
    "\n",
    "train_english_sentences, train_afrikaans_sentences = prepare_english_afrikaans_sentences(train_merged_df)\n",
    "val_english_sentences, val_afrikaans_sentences = prepare_english_afrikaans_sentences(val_merged_df)\n",
    "test_english_sentences, test_afrikaans_sentences = prepare_english_afrikaans_sentences(test_merged_df)\n",
    "\n",
    "train_english_embeddings, train_afrikaans_embeddings = calculate_similarity_scores(train_english_sentences, train_afrikaans_sentences)\n",
    "val_english_embeddings, val_afrikaans_embeddings = calculate_similarity_scores(val_english_sentences, val_afrikaans_sentences)\n",
    "test_english_embeddings, test_afrikaans_embeddings = calculate_similarity_scores(test_english_sentences, test_afrikaans_sentences)"
   ]
  },
  {
   "cell_type": "code",
   "execution_count": null,
   "metadata": {
    "execution": {
     "iopub.execute_input": "2024-10-17T11:50:59.449401Z",
     "iopub.status.busy": "2024-10-17T11:50:59.449007Z",
     "iopub.status.idle": "2024-10-17T11:50:59.462743Z",
     "shell.execute_reply": "2024-10-17T11:50:59.461989Z",
     "shell.execute_reply.started": "2024-10-17T11:50:59.449365Z"
    },
    "trusted": true
   },
   "outputs": [],
   "source": [
    "# Based on the source from HuggingFace, for similarity between sentences, an L2-norm is recommended before calculating the similarity\n",
    "def similarity(embeddings_1, embeddings_2):\n",
    "    normalized_embeddings_1 = F.normalize(embeddings_1, p=2)\n",
    "    normalized_embeddings_2 = F.normalize(embeddings_2, p=2)\n",
    "    return torch.matmul(\n",
    "        normalized_embeddings_1, normalized_embeddings_2.transpose(0, 1)\n",
    "    )\n",
    "\n",
    "train_set_sim_scores = similarity(train_english_embeddings, train_afrikaans_embeddings)\n",
    "val_set_sim_scores = similarity(val_english_embeddings, val_afrikaans_embeddings)\n",
    "test_set_sim_scores = similarity(test_english_embeddings, test_afrikaans_embeddings)\n",
    "print(train_set_sim_scores[0])\n",
    "print(val_set_sim_scores[0])\n",
    "print(test_set_sim_scores[0])"
   ]
  },
  {
   "cell_type": "markdown",
   "metadata": {},
   "source": [
    "The `scores` variable returns a 2D array where each index `i` represents an English sentence, and the `j` would represent the Afrikaans sentences. Meaning `scores[0][0]` would represent the similarity score between the first English sentences and its corresponding Afrikaans translation. Therefore, we are not interested in the scores between non-corresponding translations."
   ]
  },
  {
   "cell_type": "code",
   "execution_count": null,
   "metadata": {
    "execution": {
     "iopub.execute_input": "2024-10-17T11:50:59.464437Z",
     "iopub.status.busy": "2024-10-17T11:50:59.463973Z",
     "iopub.status.idle": "2024-10-17T11:50:59.468736Z",
     "shell.execute_reply": "2024-10-17T11:50:59.468031Z",
     "shell.execute_reply.started": "2024-10-17T11:50:59.464411Z"
    },
    "trusted": true
   },
   "outputs": [],
   "source": [
    "# Extract the diagonal elements (similarity between each English sentence and its corresponding Afrikaans translation)\n",
    "train_set_diagonal_scores = torch.diagonal(train_set_sim_scores)\n",
    "val_set_diagonal_scores = torch.diagonal(val_set_sim_scores)\n",
    "test_set_diagonal_scores = torch.diagonal(test_set_sim_scores)\n",
    "\n",
    "# Convert to a 1D array\n",
    "train_set_diagonal_scores_1d = train_set_diagonal_scores.tolist()\n",
    "val_set_diagonal_scores_1d = val_set_diagonal_scores.tolist()\n",
    "test_set_diagonal_scores_1d = test_set_diagonal_scores.tolist()"
   ]
  },
  {
   "cell_type": "code",
   "execution_count": null,
   "metadata": {
    "execution": {
     "iopub.execute_input": "2024-10-17T11:50:59.471170Z",
     "iopub.status.busy": "2024-10-17T11:50:59.470732Z",
     "iopub.status.idle": "2024-10-17T11:51:00.519704Z",
     "shell.execute_reply": "2024-10-17T11:51:00.518723Z",
     "shell.execute_reply.started": "2024-10-17T11:50:59.471144Z"
    },
    "trusted": true
   },
   "outputs": [],
   "source": [
    "def plot_similarity_distribution(diagonal_scores_1d, split='Training Set'):\n",
    "    plt.hist(diagonal_scores_1d, bins=20, color='skyblue', edgecolor='black')\n",
    "    plt.axvline(0.8, color='red', linestyle='--', label='Threshold = 0.8')\n",
    "    plt.xlabel('Similarity Score')\n",
    "    plt.ylabel('Number of Sentence Pairs')\n",
    "    plt.title(f'{split}: \\nDistribution of Similarity Scores')\n",
    "    plt.legend()\n",
    "    plt.show()\n",
    "    \n",
    "plot_similarity_distribution(train_set_diagonal_scores_1d)\n",
    "print(f'Max: {np.max(train_set_diagonal_scores_1d)}')\n",
    "print(f'Min: {np.min(train_set_diagonal_scores_1d)}')\n",
    "\n",
    "plot_similarity_distribution(val_set_diagonal_scores_1d, 'Validation Set')\n",
    "print(f'Max: {np.max(val_set_diagonal_scores_1d)}')\n",
    "print(f'Min: {np.min(val_set_diagonal_scores_1d)}')\n",
    "\n",
    "plot_similarity_distribution(test_set_diagonal_scores_1d, 'Testing Set')\n",
    "print(f'Max: {np.max(test_set_diagonal_scores_1d)}')\n",
    "print(f'Min: {np.min(test_set_diagonal_scores_1d)}')"
   ]
  },
  {
   "cell_type": "code",
   "execution_count": null,
   "metadata": {
    "execution": {
     "iopub.execute_input": "2024-10-17T11:51:00.521660Z",
     "iopub.status.busy": "2024-10-17T11:51:00.521088Z",
     "iopub.status.idle": "2024-10-17T11:51:00.527588Z",
     "shell.execute_reply": "2024-10-17T11:51:00.526617Z",
     "shell.execute_reply.started": "2024-10-17T11:51:00.521629Z"
    },
    "trusted": true
   },
   "outputs": [],
   "source": [
    "# Investigate scores below threshold\n",
    "for i, score in enumerate(train_set_diagonal_scores_1d):\n",
    "    if score < 0.8:\n",
    "        print(f'Index {i}: {score}')\n",
    "        print(f\"English Sentence at index {i}: {train_english_sentences[i]}\")\n",
    "        print(f\"Afrikaans Sentence at index {i}: {train_afrikaans_sentences[i]}\\n\")"
   ]
  },
  {
   "cell_type": "code",
   "execution_count": null,
   "metadata": {
    "execution": {
     "iopub.execute_input": "2024-10-17T11:51:00.529160Z",
     "iopub.status.busy": "2024-10-17T11:51:00.528874Z",
     "iopub.status.idle": "2024-10-17T11:51:06.342339Z",
     "shell.execute_reply": "2024-10-17T11:51:06.341303Z",
     "shell.execute_reply.started": "2024-10-17T11:51:00.529136Z"
    },
    "trusted": true
   },
   "outputs": [],
   "source": [
    " def create_word_cloud(english_sentences, afrikaans_sentences):\n",
    "    # Creating Word Cloud\n",
    "    english_text = \" \".join(english_sentences)\n",
    "    afrikaans_text = \" \".join(afrikaans_sentences)\n",
    "\n",
    "    # Generate the English word cloud\n",
    "    english_wordcloud = WordCloud(width=800, height=400, background_color='white').generate(english_text)\n",
    "\n",
    "    # Generate the Afrikaans word cloud\n",
    "    afrikaans_wordcloud = WordCloud(width=800, height=400, background_color='white').generate(afrikaans_text)\n",
    "\n",
    "    fig, axs = plt.subplots(1, 2, figsize=(15, 7))\n",
    "\n",
    "    axs[0].imshow(english_wordcloud, interpolation='bilinear')\n",
    "    axs[0].axis('off')\n",
    "    axs[0].set_title('English Word Cloud')\n",
    "\n",
    "    axs[1].imshow(afrikaans_wordcloud, interpolation='bilinear')\n",
    "    axs[1].axis('off')\n",
    "    axs[1].set_title('Afrikaans Word Cloud')\n",
    "\n",
    "    plt.show()\n",
    "    \n",
    "print('Training set Word Cloud:')\n",
    "create_word_cloud(train_english_sentences, train_afrikaans_sentences)\n",
    "    \n",
    "print('Validation set Word Cloud:')\n",
    "create_word_cloud(val_english_sentences, val_afrikaans_sentences)\n",
    "    \n",
    "print('Testing set Word Cloud:')\n",
    "create_word_cloud(test_english_sentences, test_afrikaans_sentences)"
   ]
  },
  {
   "cell_type": "markdown",
   "metadata": {},
   "source": [
    "#### Conclusion\n",
    "The word clouds show, in some cases, a fairly accurate distributions between the English words, and their Afrikaans translations, even though some words do occur more in English than Afrikaans. The sentences that had low similarity scores have fairly accurate translations. However, the low similarity scores might be because of the unusual sentence structures, especially the second sentence in the training set."
   ]
  },
  {
   "cell_type": "markdown",
   "metadata": {},
   "source": [
    "## Comparing Gemini with Helsinki/opus-mt-en-af\n",
    "Only the first 100 sentences will be compared. If there is already a clear 'winner' it is sufficient. However, if there is no clear 'winner', more sentences will be used."
   ]
  },
  {
   "cell_type": "code",
   "execution_count": null,
   "metadata": {
    "execution": {
     "iopub.execute_input": "2024-10-17T11:51:06.343945Z",
     "iopub.status.busy": "2024-10-17T11:51:06.343655Z",
     "iopub.status.idle": "2024-10-17T11:51:28.822511Z",
     "shell.execute_reply": "2024-10-17T11:51:28.821692Z",
     "shell.execute_reply.started": "2024-10-17T11:51:06.343920Z"
    },
    "trusted": true
   },
   "outputs": [],
   "source": [
    "# Load tokenizer and model\n",
    "tokenizer = AutoTokenizer.from_pretrained(\"Helsinki-NLP/opus-mt-en-af\")\n",
    "model = AutoModelForSeq2SeqLM.from_pretrained(\"Helsinki-NLP/opus-mt-en-af\")\n",
    "\n",
    "# Move model to GPU if available\n",
    "device = torch.device('cuda' if torch.cuda.is_available() else 'cpu')\n",
    "model.to(device)\n",
    "src_lang = \"en_XX\"\n",
    "tgt_lang = \"af_ZA\"\n",
    "model_name = 'helsinki'\n",
    "\n",
    "# Translate texts in batches\n",
    "train_helsinki_af_translations = translate_texts_in_batches(train_english_sentences, None, src_lang, tgt_lang, batch_size, model_name)\n",
    "train_helsinki_af_translations = [\" \".join(words) for words in train_helsinki_af_translations]\n",
    "\n",
    "val_helsinki_af_translations = translate_texts_in_batches(val_english_sentences, None, src_lang, tgt_lang, batch_size, model_name)\n",
    "val_helsinki_af_translations = [\" \".join(words) for words in val_helsinki_af_translations]\n",
    "\n",
    "test_helsinki_af_translations = translate_texts_in_batches(test_english_sentences, None, src_lang, tgt_lang, batch_size, model_name)\n",
    "test_helsinki_af_translations = [\" \".join(words) for words in test_helsinki_af_translations]"
   ]
  },
  {
   "cell_type": "code",
   "execution_count": null,
   "metadata": {
    "execution": {
     "iopub.execute_input": "2024-10-17T11:51:28.823958Z",
     "iopub.status.busy": "2024-10-17T11:51:28.823654Z",
     "iopub.status.idle": "2024-10-17T11:52:04.345992Z",
     "shell.execute_reply": "2024-10-17T11:52:04.345013Z",
     "shell.execute_reply.started": "2024-10-17T11:51:28.823932Z"
    },
    "trusted": true
   },
   "outputs": [],
   "source": [
    "train_english_embeddings, train_afrikaans_embeddings = calculate_similarity_scores(train_english_sentences, train_helsinki_af_translations)\n",
    "val_english_embeddings, val_afrikaans_embeddings = calculate_similarity_scores(val_english_sentences, val_helsinki_af_translations)\n",
    "test_english_embeddings, test_afrikaans_embeddings = calculate_similarity_scores(test_english_sentences, test_helsinki_af_translations)\n",
    "\n",
    "train_set_sim_scores = similarity(train_english_embeddings, train_afrikaans_embeddings)\n",
    "val_set_sim_scores = similarity(val_english_embeddings, val_afrikaans_embeddings)\n",
    "test_set_sim_scores = similarity(test_english_embeddings, test_afrikaans_embeddings)\n",
    "\n",
    "print('Training set with Helsinki model:')\n",
    "print(train_set_sim_scores[0])\n",
    "\n",
    "print('Validation set with Helsinki model:')\n",
    "print(val_set_sim_scores[0])\n",
    "\n",
    "print('Testing set with Helsinki model:')\n",
    "print(test_set_sim_scores[0])"
   ]
  },
  {
   "cell_type": "code",
   "execution_count": null,
   "metadata": {
    "execution": {
     "iopub.execute_input": "2024-10-17T11:52:04.348083Z",
     "iopub.status.busy": "2024-10-17T11:52:04.347488Z",
     "iopub.status.idle": "2024-10-17T11:52:04.354402Z",
     "shell.execute_reply": "2024-10-17T11:52:04.353479Z",
     "shell.execute_reply.started": "2024-10-17T11:52:04.348048Z"
    },
    "trusted": true
   },
   "outputs": [],
   "source": [
    "# Extract the diagonal elements (similarity between each English sentence and its corresponding Afrikaans translation)\n",
    "train_set_diagonal_scores = torch.diagonal(train_set_sim_scores)\n",
    "val_set_diagonal_scores = torch.diagonal(val_set_sim_scores)\n",
    "test_set_diagonal_scores = torch.diagonal(test_set_sim_scores)\n",
    "\n",
    "# Convert to a 1D array\n",
    "train_set_diagonal_scores_1d = train_set_diagonal_scores.tolist()\n",
    "val_set_diagonal_scores_1d = val_set_diagonal_scores.tolist()\n",
    "test_set_diagonal_scores_1d = test_set_diagonal_scores.tolist()"
   ]
  },
  {
   "cell_type": "code",
   "execution_count": null,
   "metadata": {
    "execution": {
     "iopub.execute_input": "2024-10-17T11:52:04.358668Z",
     "iopub.status.busy": "2024-10-17T11:52:04.358200Z",
     "iopub.status.idle": "2024-10-17T11:52:05.341212Z",
     "shell.execute_reply": "2024-10-17T11:52:05.340331Z",
     "shell.execute_reply.started": "2024-10-17T11:52:04.358643Z"
    },
    "trusted": true
   },
   "outputs": [],
   "source": [
    "plot_similarity_distribution(train_set_diagonal_scores_1d)\n",
    "print(f'Max: {np.max(train_set_diagonal_scores_1d)}')\n",
    "print(f'Min: {np.min(train_set_diagonal_scores_1d)}')\n",
    "\n",
    "plot_similarity_distribution(val_set_diagonal_scores_1d, 'Validation Set')\n",
    "print(f'Max: {np.max(val_set_diagonal_scores_1d)}')\n",
    "print(f'Min: {np.min(val_set_diagonal_scores_1d)}')\n",
    "\n",
    "plot_similarity_distribution(test_set_diagonal_scores_1d, 'Testing Set')\n",
    "print(f'Max: {np.max(test_set_diagonal_scores_1d)}')\n",
    "print(f'Min: {np.min(test_set_diagonal_scores_1d)}')"
   ]
  },
  {
   "cell_type": "code",
   "execution_count": null,
   "metadata": {
    "execution": {
     "iopub.execute_input": "2024-10-17T11:52:05.343382Z",
     "iopub.status.busy": "2024-10-17T11:52:05.342669Z",
     "iopub.status.idle": "2024-10-17T11:52:05.349949Z",
     "shell.execute_reply": "2024-10-17T11:52:05.348969Z",
     "shell.execute_reply.started": "2024-10-17T11:52:05.343343Z"
    },
    "trusted": true
   },
   "outputs": [],
   "source": [
    "# Investigate scores below threshold\n",
    "for i, score in enumerate(train_set_diagonal_scores_1d):\n",
    "    if score < 0.8:\n",
    "        print(f'Index {i}: {score}')\n",
    "        print(f\"English Sentence at index {i}: {train_english_sentences[i]}\")\n",
    "        print(f\"Afrikaans Sentence at index {i}: {train_helsinki_af_translations[i]}\\n\")"
   ]
  },
  {
   "cell_type": "markdown",
   "metadata": {},
   "source": [
    "### Conclusion\n",
    "Some of these translations from the Helsinki model is truly bad, because the one sentence is only translated halfway through. Other translations also seem to translate the words directly and not translating it to its proper Afrikaans form. Therefore, the Helsinki model performs worse than Gemini for these translations. It is important to note that the Helsinki model might perform better on other corpora, but in this case it did not perform too well compared to the Gemini model."
   ]
  },
  {
   "cell_type": "markdown",
   "metadata": {},
   "source": [
    "<hr>"
   ]
  },
  {
   "cell_type": "markdown",
   "metadata": {},
   "source": [
    "# BERT\n",
    "### Acknowledgements\n",
    "\n",
    "#### **Source/Model:** [google-bert/bert-base-multilingual-cased](https://huggingface.co/google-bert/bert-base-multilingual-cased)\n",
    "\n",
    "#### **Description:** _(more details available on the source page)_\n",
    "\n",
    "BERT is a language model trained on a massive amount of text data. It's unique because it doesn't need humans to label the data. Instead, it learns from the text itself using a process called self-supervised learning.\n",
    "\n",
    "BERT learns in two ways:\n",
    "- Masked Language Modeling: It hides some words in a sentence and tries to guess what they are. This helps it understand the context and relationships between words.\n",
    "- Next Sentence Prediction: It determines if two sentences are connected or not. This helps it understand sentence structure and relationships.\n",
    "\n",
    "After training, BERT can be used to analyze and understand new text. For example, you can use it to classify text into different categories or extract important information.\n",
    "\n",
    "**Reference:**  \"BERT: Pre-training of Deep Bidirectional Transformers for Language Understanding\" by Devlin et al. (2018)."
   ]
  },
  {
   "cell_type": "markdown",
   "metadata": {},
   "source": [
    "### Encode labels"
   ]
  },
  {
   "cell_type": "code",
   "execution_count": null,
   "metadata": {
    "execution": {
     "iopub.execute_input": "2024-10-17T11:52:05.351475Z",
     "iopub.status.busy": "2024-10-17T11:52:05.351129Z",
     "iopub.status.idle": "2024-10-17T11:52:05.368120Z",
     "shell.execute_reply": "2024-10-17T11:52:05.367195Z",
     "shell.execute_reply.started": "2024-10-17T11:52:05.351449Z"
    },
    "trusted": true
   },
   "outputs": [],
   "source": [
    "# Initialise the encoder\n",
    "label_encoder = LabelEncoder()\n",
    "\n",
    "# Fit the encoder on the training set and transform all sets\n",
    "train_merged_df['Afrikaans Labels Encoded'] = label_encoder.fit_transform(train_merged_df['Afrikaans Labels'])\n",
    "val_merged_df['Afrikaans Labels Encoded'] = label_encoder.transform(val_merged_df['Afrikaans Labels'])\n",
    "test_merged_df['Afrikaans Labels Encoded'] = label_encoder.transform(test_merged_df['Afrikaans Labels'])\n",
    "\n",
    "# Display the updated DataFrame with encoded labels\n",
    "print(train_merged_df[['Afrikaans Labels', 'Afrikaans Labels Encoded']])"
   ]
  },
  {
   "cell_type": "code",
   "execution_count": null,
   "metadata": {
    "execution": {
     "iopub.execute_input": "2024-10-17T11:52:05.369734Z",
     "iopub.status.busy": "2024-10-17T11:52:05.369407Z",
     "iopub.status.idle": "2024-10-17T11:52:06.429512Z",
     "shell.execute_reply": "2024-10-17T11:52:06.428449Z",
     "shell.execute_reply.started": "2024-10-17T11:52:05.369696Z"
    },
    "trusted": true
   },
   "outputs": [],
   "source": [
    "def preprocess_text(text):\n",
    "    encoded_input = tokenizer(text, return_tensors='pt')\n",
    "    return encoded_input\n",
    "\n",
    "def extract_embeddings(encoded_input):\n",
    "    with torch.no_grad():\n",
    "        outputs = model(**encoded_input)\n",
    "        embeddings = outputs.last_hidden_state.mean(dim=1).squeeze().cpu().numpy()\n",
    "    return embeddings\n",
    "\n",
    "# Load BERT model and tokenizer via HuggingFace Transformers\n",
    "tokenizer = BertTokenizerFast.from_pretrained('bert-base-multilingual-cased')\n",
    "model = BertModel.from_pretrained(\"bert-base-multilingual-cased\")"
   ]
  },
  {
   "cell_type": "code",
   "execution_count": null,
   "metadata": {
    "execution": {
     "iopub.execute_input": "2024-10-17T11:52:06.431347Z",
     "iopub.status.busy": "2024-10-17T11:52:06.431015Z",
     "iopub.status.idle": "2024-10-17T11:52:09.811003Z",
     "shell.execute_reply": "2024-10-17T11:52:09.809959Z",
     "shell.execute_reply.started": "2024-10-17T11:52:06.431320Z"
    },
    "trusted": true
   },
   "outputs": [],
   "source": [
    "# Preprocess text\n",
    "training_inputs = [preprocess_text(str(text)) for text in train_merged_df['Afrikaans Sentence']]\n",
    "validation_inputs = [preprocess_text(str(text)) for text in val_merged_df['Afrikaans Sentence']]\n",
    "testing_inputs = [preprocess_text(str(text)) for text in test_merged_df['Afrikaans Sentence']]"
   ]
  },
  {
   "cell_type": "code",
   "execution_count": null,
   "metadata": {
    "execution": {
     "iopub.execute_input": "2024-10-17T11:52:09.812653Z",
     "iopub.status.busy": "2024-10-17T11:52:09.812362Z",
     "iopub.status.idle": "2024-10-17T11:52:09.837056Z",
     "shell.execute_reply": "2024-10-17T11:52:09.836108Z",
     "shell.execute_reply.started": "2024-10-17T11:52:09.812628Z"
    },
    "trusted": true
   },
   "outputs": [],
   "source": [
    "# Preprocess and extract embeddings\n",
    "def get_embeddings(texts):\n",
    "    inputs = [preprocess_text(text) for text in texts]\n",
    "    embeddings = [extract_embeddings(sample) for sample in inputs]\n",
    "    return np.array(embeddings)\n",
    "\n",
    "# Check if the \"bert_af_embeddings\" folder exists\n",
    "if not os.path.exists(\"bert-af-embeddings\"):\n",
    "    os.makedirs(\"bert-af-embeddings\")\n",
    "\n",
    "# Check if the embedding files exist\n",
    "train_embedding_file = \"/kaggle/input/bert-af-embeddings/train_af_embeddings.npy\"\n",
    "val_embedding_file = \"/kaggle/input/bert-af-embeddings/val_af_embeddings.npy\"\n",
    "test_embedding_file = \"/kaggle/input/bert-af-embeddings/test_af_embeddings.npy\"\n",
    "\n",
    "if not os.path.exists(train_embedding_file) or not os.path.exists(val_embedding_file) or not os.path.exists(test_embedding_file):\n",
    "    # Extract embeddings\n",
    "    training_embeddings = get_embeddings(train_merged_df['Afrikaans Sentence'])\n",
    "    validation_embeddings = get_embeddings(val_merged_df['Afrikaans Sentence'])\n",
    "    testing_embeddings = get_embeddings(test_merged_df['Afrikaans Sentence'])\n",
    "    \n",
    "    # Change file path\n",
    "    train_embedding_output_file = \"/kaggle/working/bert-af-embeddings/train_af_embeddings.npy\"\n",
    "    val_embedding_output_file = \"/kaggle/working/bert-af-embeddings/val_af_embeddings.npy\"\n",
    "    test_embedding_output_file = \"/kaggle/working/bert-af-embeddings/test_af_embeddings.npy\"\n",
    "\n",
    "    # Save embeddings to files\n",
    "    np.save(train_embedding_output_file, training_embeddings)\n",
    "    np.save(val_embedding_output_file, validation_embeddings)\n",
    "    np.save(test_embedding_output_file, testing_embeddings)\n",
    "\n",
    "# Load embeddings from files if they exist\n",
    "else:\n",
    "    training_embeddings = np.load(train_embedding_file)\n",
    "    validation_embeddings = np.load(val_embedding_file)\n",
    "    testing_embeddings = np.load(test_embedding_file)\n",
    "\n",
    "# Extract features\n",
    "X_train = training_embeddings\n",
    "X_val = validation_embeddings\n",
    "X_test = testing_embeddings"
   ]
  },
  {
   "cell_type": "code",
   "execution_count": null,
   "metadata": {
    "execution": {
     "iopub.execute_input": "2024-10-17T11:52:09.838514Z",
     "iopub.status.busy": "2024-10-17T11:52:09.838232Z",
     "iopub.status.idle": "2024-10-17T11:52:09.843283Z",
     "shell.execute_reply": "2024-10-17T11:52:09.842478Z",
     "shell.execute_reply.started": "2024-10-17T11:52:09.838490Z"
    },
    "trusted": true
   },
   "outputs": [],
   "source": [
    "# Extract labels\n",
    "y_train = train_merged_df['Afrikaans Labels Encoded']\n",
    "y_val = val_merged_df['Afrikaans Labels Encoded']\n",
    "y_test = test_merged_df['Afrikaans Labels Encoded']"
   ]
  },
  {
   "cell_type": "code",
   "execution_count": null,
   "metadata": {
    "execution": {
     "iopub.execute_input": "2024-10-17T11:52:09.844487Z",
     "iopub.status.busy": "2024-10-17T11:52:09.844220Z",
     "iopub.status.idle": "2024-10-17T11:52:09.856369Z",
     "shell.execute_reply": "2024-10-17T11:52:09.855463Z",
     "shell.execute_reply.started": "2024-10-17T11:52:09.844447Z"
    },
    "trusted": true
   },
   "outputs": [],
   "source": [
    "print(\"Training labels distribution:\", Counter(y_train))\n",
    "print(\"Validation labels distribution:\", Counter(y_val))\n",
    "print(\"Test labels distribution:\", Counter(y_test))"
   ]
  },
  {
   "cell_type": "markdown",
   "metadata": {},
   "source": [
    "# Random Forest Classification"
   ]
  },
  {
   "cell_type": "code",
   "execution_count": null,
   "metadata": {
    "execution": {
     "iopub.execute_input": "2024-10-09T09:20:40.726198Z",
     "iopub.status.busy": "2024-10-09T09:20:40.725941Z",
     "iopub.status.idle": "2024-10-09T09:20:40.733302Z",
     "shell.execute_reply": "2024-10-09T09:20:40.732411Z",
     "shell.execute_reply.started": "2024-10-09T09:20:40.726175Z"
    },
    "trusted": true
   },
   "outputs": [],
   "source": [
    "# # Initialise Random Forest Classifier\n",
    "# rf_clf = RandomForestClassifier(n_estimators=100, random_state=seed)\n",
    "\n",
    "# # Train the classifier\n",
    "# rf_clf.fit(X_train, y_train)\n",
    "\n",
    "# # Predict on validation set\n",
    "# rf_pred = rf_clf.predict(X_val)\n",
    "\n",
    "# # Evaluate\n",
    "# print(\"Random Forest Validation Accuracy:\", accuracy_score(y_val, rf_pred))\n",
    "# print(\"Validation Classification Report:\\n\", classification_report(y_val, rf_pred))\n",
    "\n",
    "# # Predict on testing set\n",
    "# rf_test = rf_clf.predict(X_test)\n",
    "\n",
    "# # Test\n",
    "# print(\"Random Forest Testing Accuracy:\", accuracy_score(y_test, rf_test))\n",
    "# print(\"Testing Classification Report:\\n\", classification_report(y_test, rf_test))"
   ]
  },
  {
   "attachments": {
    "4e90e8dc-127e-4480-b553-4436c36d7668.png": {
     "image/png": "[encoded data removed]"
    },
    "6a164f82-8419-4a0c-b3b9-408896969cc4.png": {
     "image/png": "[encoded data removed]"
    }
   },
   "cell_type": "markdown",
   "metadata": {},
   "source": [
    "![download.png](attachment:6a164f82-8419-4a0c-b3b9-408896969cc4.png)_Note the following is an image from the Random Forest classification report. This allows us to not having to run the classifier every time to view the results._\n",
    "![random_forest_six_way_classification_report.png](attachment:4e90e8dc-127e-4480-b553-4436c36d7668.png)"
   ]
  },
  {
   "cell_type": "markdown",
   "metadata": {},
   "source": [
    "# Logistic Regression Classification\n",
    "Logistic Regression with Standard Scaling"
   ]
  },
  {
   "cell_type": "code",
   "execution_count": null,
   "metadata": {
    "execution": {
     "iopub.execute_input": "2024-10-09T09:20:40.734480Z",
     "iopub.status.busy": "2024-10-09T09:20:40.734218Z",
     "iopub.status.idle": "2024-10-09T09:20:40.743088Z",
     "shell.execute_reply": "2024-10-09T09:20:40.742309Z",
     "shell.execute_reply.started": "2024-10-09T09:20:40.734459Z"
    },
    "trusted": true
   },
   "outputs": [],
   "source": [
    "# # Initialise Logistic Regression Classifier\n",
    "# lr_clf = make_pipeline(StandardScaler(), LogisticRegression(max_iter=1000, random_state=seed, multi_class='multinomial', solver='lbfgs'))\n",
    "\n",
    "# # Train the classifier\n",
    "# lr_clf.fit(X_train, y_train)\n",
    "\n",
    "# # Predict on validation set\n",
    "# lr_pred = lr_clf.predict(X_val)\n",
    "\n",
    "# # Evaluate\n",
    "# print(\"Logistic Regression Validation Accuracy:\", accuracy_score(y_val, lr_pred))\n",
    "# print(\"Validation Classification Report:\\n\", classification_report(y_val, lr_pred))\n",
    "\n",
    "# # Predict on testing set\n",
    "# lr_test = lr_clf.predict(X_test)\n",
    "\n",
    "# # Test\n",
    "# print(\"Logistic Regression Testing Accuracy:\", accuracy_score(y_test, lr_test))\n",
    "# print(\"Testing Classification Report:\\n\", classification_report(y_test, lr_test))"
   ]
  },
  {
   "attachments": {
    "a711afce-a42a-46ae-885d-6672073716c4.png": {
     "image/png": "[encoded data removed]"
    }
   },
   "cell_type": "markdown",
   "metadata": {},
   "source": [
    "_Note the following is an image from the Random Forest classification report. This allows us to not having to run the classifier every time to view the results._\n",
    "![logistic_regression_six_way_classification_report.png](attachment:a711afce-a42a-46ae-885d-6672073716c4.png)"
   ]
  },
  {
   "cell_type": "markdown",
   "metadata": {},
   "source": [
    "# SVM Classification\n",
    "SVM with Standard Scaling"
   ]
  },
  {
   "cell_type": "code",
   "execution_count": null,
   "metadata": {
    "execution": {
     "iopub.execute_input": "2024-10-09T09:20:40.744819Z",
     "iopub.status.busy": "2024-10-09T09:20:40.744195Z",
     "iopub.status.idle": "2024-10-09T09:20:40.753079Z",
     "shell.execute_reply": "2024-10-09T09:20:40.752291Z",
     "shell.execute_reply.started": "2024-10-09T09:20:40.744788Z"
    },
    "trusted": true
   },
   "outputs": [],
   "source": [
    "# from sklearn.svm import SVC\n",
    "\n",
    "# # Initialise SVM Classifier\n",
    "# svm_clf = make_pipeline(StandardScaler(), SVC(kernel='linear', random_state=seed))\n",
    "\n",
    "# # Train the classifier\n",
    "# svm_clf.fit(X_train, y_train)\n",
    "\n",
    "# # Predict on validation set\n",
    "# svm_pred = svm_clf.predict(X_val)\n",
    "\n",
    "# # Evaluate\n",
    "# print(\"SVM Validation Accuracy:\", accuracy_score(y_val, svm_pred))\n",
    "# print(\"Validation Classification Report:\\n\", classification_report(y_val, svm_pred))\n",
    "\n",
    "# # Predict on testing set\n",
    "# svm_test = svm_clf.predict(X_test)\n",
    "\n",
    "# # Test\n",
    "# print(\"SVM Testing Accuracy:\", accuracy_score(y_test, svm_test))\n",
    "# print(\"Testing Classification Report:\\n\", classification_report(y_test, svm_test))"
   ]
  },
  {
   "attachments": {
    "f5b63cd8-6cb5-4d66-a641-3834ba4be420.png": {
     "image/png": "[encoded data removed]"
    }
   },
   "cell_type": "markdown",
   "metadata": {},
   "source": [
    "_Note the following is an image from the Random Forest classification report. This allows us to not having to run the classifier every time to view the results._\n",
    "![svm_six_way_classification_report.png](attachment:f5b63cd8-6cb5-4d66-a641-3834ba4be420.png)"
   ]
  },
  {
   "cell_type": "markdown",
   "metadata": {},
   "source": [
    "# Data Update\n",
    "\n",
    "The classification models seem to struggle with the six-way classification. The accuracy scores are only around 20% which seems to be a common theme when using the LIAR dataset with all 6 labels. A recent paper (September 2024, Are Strong Baselines Enough? False News Detection with Machine Learning) by Aslan et. al experimented with this dataset by manipulating the class labels from six classes to two classes. They've done it using 5 different approaches:\n",
    "\n",
    "1. All labels except \"true\" are labeled as \"false\".\n",
    "2. Labels \"pants-fire\" and \"false\" are labeled as \"false\" and the rest as \"true\".\n",
    "3. All labels except \"pants-fire\" are labeled as \"true\".\n",
    "4. Labels are split from the middle into \"true\" and \"false\".\n",
    "5. Labels \"true\" and \"mostly-true\" are labeled as \"true\" and the rest as \"false\".\n",
    "\n",
    "They found that option 3 were the best approach as it achieved 91% accuracy. Therefore, for this study we will be using their approach (only using the corresponding Afrikaans labels) to classify the Afrikaans data using only two classes (True or False), as specified in option 3.\n",
    "\n",
    "**Source:** [Are Strong Baselines Enough? False News Detection with Machine Learning](https://doi.org/10.3390/fi16090322)\n",
    "\n",
    "**BibTeX Citation:**\n",
    "```\n",
    "@Article{fi16090322,\n",
    "AUTHOR = {Aslan, Lara and Ptaszynski, Michal and Jauhiainen, Jukka},\n",
    "TITLE = {Are Strong Baselines Enough? False News Detection with Machine Learning},\n",
    "JOURNAL = {Future Internet},\n",
    "VOLUME = {16},\n",
    "YEAR = {2024},\n",
    "NUMBER = {9},\n",
    "ARTICLE-NUMBER = {322},\n",
    "URL = {https://www.mdpi.com/1999-5903/16/9/322},\n",
    "ISSN = {1999-5903},\n",
    "ABSTRACT = {False news refers to false, fake, or misleading information presented as real news. In recent years, there has been a noticeable increase in false news on the Internet. The goal of this paper was to study the automatic detection of such false news using machine learning and natural language processing techniques and to determine which techniques work the most effectively. This article first studies what constitutes false news and how it differs from other types of misleading information. We also study the results achieved by other researchers on the same topic. After building a foundation to understand false news and the various ways of automatically detecting it, this article provides its own experiments. These experiments were carried out on four different datasets, one that was made just for this article, using 10 different machine learning methods. The results of this article were satisfactory and provided answers to the original research questions set up at the beginning of this article. This article could determine from the experiments that passive aggressive algorithms, support vector machines, and random forests are the most efficient methods for automatic false news detection. This article also concluded that more complex experiments, such as using multiple levels of identifying false news or detecting computer-generated false news, require more complex machine learning models.},\n",
    "DOI = {10.3390/fi16090322}\n",
    "}\n",
    "```\n"
   ]
  },
  {
   "cell_type": "markdown",
   "metadata": {},
   "source": [
    "#### Change and Encode the new labels using binary encoding"
   ]
  },
  {
   "cell_type": "code",
   "execution_count": null,
   "metadata": {
    "execution": {
     "iopub.execute_input": "2024-10-17T11:52:09.858417Z",
     "iopub.status.busy": "2024-10-17T11:52:09.857448Z",
     "iopub.status.idle": "2024-10-17T11:52:09.880762Z",
     "shell.execute_reply": "2024-10-17T11:52:09.879926Z",
     "shell.execute_reply.started": "2024-10-17T11:52:09.858386Z"
    },
    "trusted": true
   },
   "outputs": [],
   "source": [
    "# Copy existing dataframes\n",
    "new_train_merged_df = train_merged_df.copy()\n",
    "new_val_merged_df = val_merged_df.copy()\n",
    "new_test_merged_df = test_merged_df.copy()\n",
    "\n",
    "# Change the existing labels to binary (1 for if it's not 'broek-vuur', 0 for 'broek-vuur') (OPTION 3)\n",
    "new_train_merged_df['New Afrikaans Labels'] = (new_train_merged_df['Afrikaans Labels'] != 'broek-vuur').astype(int)\n",
    "new_val_merged_df['New Afrikaans Labels'] = (new_val_merged_df['Afrikaans Labels'] != 'broek-vuur').astype(int)\n",
    "new_test_merged_df['New Afrikaans Labels'] = (new_test_merged_df['Afrikaans Labels'] != 'broek-vuur').astype(int)\n",
    "new_train_merged_df"
   ]
  },
  {
   "cell_type": "code",
   "execution_count": null,
   "metadata": {
    "execution": {
     "iopub.execute_input": "2024-10-17T11:52:27.837172Z",
     "iopub.status.busy": "2024-10-17T11:52:27.836097Z",
     "iopub.status.idle": "2024-10-17T11:52:27.856752Z",
     "shell.execute_reply": "2024-10-17T11:52:27.855784Z",
     "shell.execute_reply.started": "2024-10-17T11:52:27.837138Z"
    },
    "trusted": true
   },
   "outputs": [],
   "source": [
    "new_train_merged_df['New Afrikaans Labels Encoded'] = (new_train_merged_df['Afrikaans Labels'] != 'broek-vuur').astype(int)\n",
    "new_val_merged_df['New Afrikaans Labels Encoded'] = (new_val_merged_df['Afrikaans Labels'] != 'broek-vuur').astype(int)\n",
    "new_test_merged_df['New Afrikaans Labels Encoded'] = (new_test_merged_df['Afrikaans Labels'] != 'broek-vuur').astype(int)\n",
    "new_train_merged_df"
   ]
  },
  {
   "cell_type": "code",
   "execution_count": null,
   "metadata": {
    "execution": {
     "iopub.execute_input": "2024-10-17T11:52:31.017201Z",
     "iopub.status.busy": "2024-10-17T11:52:31.016366Z",
     "iopub.status.idle": "2024-10-17T11:52:31.037980Z",
     "shell.execute_reply": "2024-10-17T11:52:31.037051Z",
     "shell.execute_reply.started": "2024-10-17T11:52:31.017153Z"
    },
    "trusted": true
   },
   "outputs": [],
   "source": [
    "# Update 'New Afrikaans Labels' column in all three dataframes based on the condition\n",
    "new_train_merged_df['New Afrikaans Labels'] = np.where(new_train_merged_df['New Afrikaans Labels'] == 1, 'waar', 'vals')\n",
    "new_val_merged_df['New Afrikaans Labels'] = np.where(new_val_merged_df['New Afrikaans Labels'] == 1, 'waar', 'vals')\n",
    "new_test_merged_df['New Afrikaans Labels'] = np.where(new_test_merged_df['New Afrikaans Labels'] == 1, 'waar', 'vals')\n",
    "\n",
    "# Display the updated DataFrame\n",
    "new_train_merged_df"
   ]
  },
  {
   "cell_type": "code",
   "execution_count": null,
   "metadata": {
    "execution": {
     "iopub.execute_input": "2024-10-17T11:52:32.311879Z",
     "iopub.status.busy": "2024-10-17T11:52:32.311235Z",
     "iopub.status.idle": "2024-10-17T11:52:32.336130Z",
     "shell.execute_reply": "2024-10-17T11:52:32.335228Z",
     "shell.execute_reply.started": "2024-10-17T11:52:32.311849Z"
    },
    "trusted": true
   },
   "outputs": [],
   "source": [
    "# Update 'New Afrikaans Labels' column in all three dataframes based on the condition\n",
    "new_train_merged_df['New English Labels'] = np.where(new_train_merged_df['New Afrikaans Labels'] == 'waar', 'true', 'false')\n",
    "new_val_merged_df['New English Labels'] = np.where(new_val_merged_df['New Afrikaans Labels'] == 'waar', 'true', 'false')\n",
    "new_test_merged_df['New English Labels'] = np.where(new_test_merged_df['New Afrikaans Labels'] == 'waar', 'true', 'false')\n",
    "\n",
    "# Display the updated DataFrame\n",
    "new_train_merged_df"
   ]
  },
  {
   "cell_type": "code",
   "execution_count": null,
   "metadata": {
    "execution": {
     "iopub.execute_input": "2024-10-17T11:54:01.077261Z",
     "iopub.status.busy": "2024-10-17T11:54:01.076389Z",
     "iopub.status.idle": "2024-10-17T11:54:01.094953Z",
     "shell.execute_reply": "2024-10-17T11:54:01.094024Z",
     "shell.execute_reply.started": "2024-10-17T11:54:01.077221Z"
    },
    "trusted": true
   },
   "outputs": [],
   "source": [
    "csv_new_train_merged_df = pd.merge(train_df, new_train_merged_df, how='left', left_index=True, right_index=True)\n",
    "csv_new_val_merged_df = pd.merge(val_df, new_val_merged_df, how='left', left_index=True, right_index=True)\n",
    "csv_new_test_merged_df = pd.merge(test_df, new_test_merged_df, how='left', left_index=True, right_index=True)"
   ]
  },
  {
   "cell_type": "code",
   "execution_count": null,
   "metadata": {
    "execution": {
     "iopub.execute_input": "2024-10-17T11:54:52.145283Z",
     "iopub.status.busy": "2024-10-17T11:54:52.144883Z",
     "iopub.status.idle": "2024-10-17T11:54:52.179543Z",
     "shell.execute_reply": "2024-10-17T11:54:52.178627Z",
     "shell.execute_reply.started": "2024-10-17T11:54:52.145250Z"
    },
    "trusted": true
   },
   "outputs": [],
   "source": [
    "csv_new_train_merged_df = csv_new_train_merged_df.drop(columns=['Index', 'English Sentence', 'English Labels', 'Afrikaans Labels Encoded', 'New Afrikaans Labels Encoded'])\n",
    "csv_new_val_merged_df = csv_new_val_merged_df.drop(columns=['Index', 'English Sentence', 'English Labels', 'Afrikaans Labels Encoded', 'New Afrikaans Labels Encoded'])\n",
    "csv_new_test_merged_df = csv_new_test_merged_df.drop(columns=['Index', 'English Sentence', 'English Labels', 'Afrikaans Labels Encoded', 'New Afrikaans Labels Encoded'])\n",
    "csv_new_train_merged_df"
   ]
  },
  {
   "cell_type": "code",
   "execution_count": null,
   "metadata": {
    "execution": {
     "iopub.execute_input": "2024-10-17T11:56:21.418455Z",
     "iopub.status.busy": "2024-10-17T11:56:21.418097Z",
     "iopub.status.idle": "2024-10-17T11:56:21.712228Z",
     "shell.execute_reply": "2024-10-17T11:56:21.711413Z",
     "shell.execute_reply.started": "2024-10-17T11:56:21.418429Z"
    },
    "trusted": true
   },
   "outputs": [],
   "source": [
    "os.makedirs('/kaggle/working/new_liar_dataset/train', exist_ok=True)\n",
    "os.makedirs('/kaggle/working/new_liar_dataset/val', exist_ok=True)\n",
    "os.makedirs('/kaggle/working/new_liar_dataset/test', exist_ok=True)\n",
    "\n",
    "# Save DataFrames as CSV files\n",
    "csv_new_train_merged_df.to_csv('/kaggle/working/new_liar_dataset/train/train_data.csv', header=False)\n",
    "csv_new_val_merged_df.to_csv('/kaggle/working/new_liar_dataset/val/val_data.csv', header=False)\n",
    "csv_new_test_merged_df.to_csv('/kaggle/working/new_liar_dataset/test/test_data.csv', header=False)"
   ]
  },
  {
   "cell_type": "code",
   "execution_count": null,
   "metadata": {
    "execution": {
     "iopub.execute_input": "2024-10-17T12:10:04.423082Z",
     "iopub.status.busy": "2024-10-17T12:10:04.422486Z",
     "iopub.status.idle": "2024-10-17T12:10:04.438835Z",
     "shell.execute_reply": "2024-10-17T12:10:04.437745Z",
     "shell.execute_reply.started": "2024-10-17T12:10:04.423053Z"
    },
    "trusted": true
   },
   "outputs": [],
   "source": [
    "new_train_merged_df"
   ]
  },
  {
   "cell_type": "code",
   "execution_count": null,
   "metadata": {
    "execution": {
     "iopub.execute_input": "2024-10-17T12:12:05.701568Z",
     "iopub.status.busy": "2024-10-17T12:12:05.701176Z",
     "iopub.status.idle": "2024-10-17T12:12:05.720478Z",
     "shell.execute_reply": "2024-10-17T12:12:05.719578Z",
     "shell.execute_reply.started": "2024-10-17T12:12:05.701537Z"
    },
    "trusted": true
   },
   "outputs": [],
   "source": [
    "unwanted_columns = ['New Afrikaans Labels', 'New English Labels']\n",
    "\n",
    "new_train_merged_df = new_train_merged_df.drop(columns=unwanted_columns, axis=1)\n",
    "new_val_merged_df = new_val_merged_df.drop(columns=unwanted_columns, axis=1)\n",
    "new_test_merged_df = new_test_merged_df.drop(columns=unwanted_columns, axis=1)\n",
    "\n",
    "new_train_merged_df"
   ]
  },
  {
   "cell_type": "markdown",
   "metadata": {},
   "source": [
    "#### Update extracted labels"
   ]
  },
  {
   "cell_type": "code",
   "execution_count": null,
   "metadata": {
    "execution": {
     "iopub.execute_input": "2024-10-17T12:12:26.166933Z",
     "iopub.status.busy": "2024-10-17T12:12:26.166583Z",
     "iopub.status.idle": "2024-10-17T12:12:26.175441Z",
     "shell.execute_reply": "2024-10-17T12:12:26.174526Z",
     "shell.execute_reply.started": "2024-10-17T12:12:26.166906Z"
    },
    "trusted": true
   },
   "outputs": [],
   "source": [
    "# Extract labels\n",
    "y_train = new_train_merged_df['New Afrikaans Labels Encoded']\n",
    "y_val = new_val_merged_df['New Afrikaans Labels Encoded']\n",
    "y_test = new_test_merged_df['New Afrikaans Labels Encoded']\n",
    "\n",
    "print(\"Training labels distribution:\", Counter(y_train))\n",
    "print(\"Validation labels distribution:\", Counter(y_val))\n",
    "print(\"Test labels distribution:\", Counter(y_test))"
   ]
  },
  {
   "cell_type": "markdown",
   "metadata": {},
   "source": [
    "#### Balance the training data"
   ]
  },
  {
   "cell_type": "code",
   "execution_count": null,
   "metadata": {
    "execution": {
     "iopub.execute_input": "2024-10-09T09:20:40.794862Z",
     "iopub.status.busy": "2024-10-09T09:20:40.794543Z",
     "iopub.status.idle": "2024-10-09T09:20:40.968379Z",
     "shell.execute_reply": "2024-10-09T09:20:40.967443Z",
     "shell.execute_reply.started": "2024-10-09T09:20:40.794834Z"
    },
    "trusted": true
   },
   "outputs": [],
   "source": [
    "# Instantiate SMOTE\n",
    "smote = SMOTE(random_state=seed)\n",
    "\n",
    "# Apply SMOTE to training data\n",
    "X_train_balanced, y_train_balanced = smote.fit_resample(X_train, y_train)\n",
    "\n",
    "# Check the new distribution\n",
    "from collections import Counter\n",
    "print(f'New training labels distribution: {Counter(y_train_balanced)}')"
   ]
  },
  {
   "cell_type": "markdown",
   "metadata": {},
   "source": [
    "# Random Forest Classification"
   ]
  },
  {
   "cell_type": "code",
   "execution_count": null,
   "metadata": {
    "execution": {
     "iopub.execute_input": "2024-10-09T09:20:40.969981Z",
     "iopub.status.busy": "2024-10-09T09:20:40.969626Z",
     "iopub.status.idle": "2024-10-09T09:22:32.676164Z",
     "shell.execute_reply": "2024-10-09T09:22:32.675221Z",
     "shell.execute_reply.started": "2024-10-09T09:20:40.969949Z"
    },
    "trusted": true
   },
   "outputs": [],
   "source": [
    "# Initialise Random Forest Classifier\n",
    "rf_clf = RandomForestClassifier(n_estimators=100, random_state=seed)\n",
    "\n",
    "# Train the classifier\n",
    "rf_clf.fit(X_train_balanced, y_train_balanced)\n",
    "\n",
    "# Predict on validation set\n",
    "rf_pred = rf_clf.predict(X_val)\n",
    "\n",
    "# Evaluate\n",
    "print(\"Random Forest Validation Accuracy:\", accuracy_score(y_val, rf_pred))\n",
    "print(\"Validation Classification Report:\\n\", classification_report(y_val, rf_pred))\n",
    "\n",
    "# Predict on testing set\n",
    "rf_test = rf_clf.predict(X_test)\n",
    "\n",
    "# Test\n",
    "print(\"Random Forest Testing Accuracy:\", accuracy_score(y_test, rf_test))\n",
    "print(\"Testing Classification Report:\\n\", classification_report(y_test, rf_test))"
   ]
  },
  {
   "attachments": {
    "14a01aac-6c23-403d-bd7c-bf01a1d3097e.png": {
     "image/png": "[encoded data removed]"
    }
   },
   "cell_type": "markdown",
   "metadata": {},
   "source": [
    "_Note the following is an image from the Random Forest classification report. This allows us to not having to run the classifier every time to view the results._\n",
    "![random_forest_classification_report.png](attachment:14a01aac-6c23-403d-bd7c-bf01a1d3097e.png)"
   ]
  },
  {
   "cell_type": "markdown",
   "metadata": {},
   "source": [
    "# Logistic Regression Classification\n",
    "Logistic Regression with Standard Scaling"
   ]
  },
  {
   "cell_type": "code",
   "execution_count": null,
   "metadata": {
    "execution": {
     "iopub.execute_input": "2024-10-09T09:22:32.677815Z",
     "iopub.status.busy": "2024-10-09T09:22:32.677467Z",
     "iopub.status.idle": "2024-10-09T09:22:32.683219Z",
     "shell.execute_reply": "2024-10-09T09:22:32.682169Z",
     "shell.execute_reply.started": "2024-10-09T09:22:32.677783Z"
    },
    "trusted": true
   },
   "outputs": [],
   "source": [
    "# # Initialise Logistic Regression Classifier\n",
    "# lr_clf = make_pipeline(StandardScaler(), LogisticRegression(max_iter=1000, random_state=seed, multi_class='multinomial', solver='lbfgs'))\n",
    "\n",
    "# # Train the classifier\n",
    "# lr_clf.fit(X_train_balanced, y_train_balanced)\n",
    "\n",
    "# # Predict on validation set\n",
    "# lr_pred = lr_clf.predict(X_val)\n",
    "\n",
    "# # Evaluate\n",
    "# print(\"Logistic Regression Validation Accuracy:\", accuracy_score(y_val, lr_pred))\n",
    "# print(\"Validation Classification Report:\\n\", classification_report(y_val, lr_pred))\n",
    "\n",
    "# # Predict on testing set\n",
    "# lr_test = lr_clf.predict(X_test)\n",
    "\n",
    "# # Test\n",
    "# print(\"Logistic Regression Testing Accuracy:\", accuracy_score(y_test, lr_test))\n",
    "# print(\"Testing Classification Report:\\n\", classification_report(y_test, lr_test))"
   ]
  },
  {
   "attachments": {
    "1be8ef08-3095-4865-876c-d2038804cd01.png": {
     "image/png": "[encoded data removed]"
    }
   },
   "cell_type": "markdown",
   "metadata": {},
   "source": [
    "_Note the following is an image from the Logistic Regression classification report. This allows us to not having to run the classifier every time to view the results._\n",
    "![logistic_regression_classification_report.png](attachment:1be8ef08-3095-4865-876c-d2038804cd01.png)"
   ]
  },
  {
   "cell_type": "markdown",
   "metadata": {},
   "source": [
    "# SVM Classification\n",
    "SVM with Standard Scaling"
   ]
  },
  {
   "cell_type": "code",
   "execution_count": null,
   "metadata": {
    "execution": {
     "iopub.execute_input": "2024-10-09T09:22:32.684615Z",
     "iopub.status.busy": "2024-10-09T09:22:32.684351Z",
     "iopub.status.idle": "2024-10-09T09:22:32.695152Z",
     "shell.execute_reply": "2024-10-09T09:22:32.694266Z",
     "shell.execute_reply.started": "2024-10-09T09:22:32.684592Z"
    },
    "trusted": true
   },
   "outputs": [],
   "source": [
    "# # Initialise SVM Classifier\n",
    "# svm_clf = make_pipeline(StandardScaler(), SVC(kernel='linear', random_state=seed))\n",
    "\n",
    "# # Train the classifier\n",
    "# svm_clf.fit(X_train_balanced, y_train_balanced)\n",
    "\n",
    "# # Predict on validation set\n",
    "# svm_pred = svm_clf.predict(X_val)\n",
    "\n",
    "# # Evaluate\n",
    "# print(\"SVM Validation Accuracy:\", accuracy_score(y_val, svm_pred))\n",
    "# print(\"Validation Classification Report:\\n\", classification_report(y_val, svm_pred))\n",
    "\n",
    "# # Predict on testing set\n",
    "# svm_test = svm_clf.predict(X_test)\n",
    "\n",
    "# # Test\n",
    "# print(\"SVM Testing Accuracy:\", accuracy_score(y_test, svm_test))\n",
    "# print(\"Testing Classification Report:\\n\", classification_report(y_test, svm_test))"
   ]
  },
  {
   "attachments": {
    "9016f2fd-47ce-4d16-a21f-d409f89b32c1.png": {
     "image/png": "[encoded data removed]"
    }
   },
   "cell_type": "markdown",
   "metadata": {},
   "source": [
    "_Note the following is an image from the SVM classification report. This allows us to not having to run the classifier every time to view the results._\n",
    "![svm_classification_report.png](attachment:9016f2fd-47ce-4d16-a21f-d409f89b32c1.png)"
   ]
  },
  {
   "cell_type": "markdown",
   "metadata": {},
   "source": [
    "From the classification results we clearly see that the Random Forest classifier achieved the best scores. Therefore, we will use its predictions."
   ]
  },
  {
   "cell_type": "markdown",
   "metadata": {},
   "source": [
    "# LIME ( Local Interpretable Model-agnostic Explanations )"
   ]
  },
  {
   "cell_type": "code",
   "execution_count": null,
   "metadata": {
    "execution": {
     "iopub.execute_input": "2024-10-09T09:22:32.696445Z",
     "iopub.status.busy": "2024-10-09T09:22:32.696171Z",
     "iopub.status.idle": "2024-10-09T09:22:32.718110Z",
     "shell.execute_reply": "2024-10-09T09:22:32.717312Z",
     "shell.execute_reply.started": "2024-10-09T09:22:32.696421Z"
    },
    "trusted": true
   },
   "outputs": [],
   "source": [
    "lime_train_df = new_train_merged_df.copy()\n",
    "lime_train_df = lime_train_df.drop(['Index', 'English Sentence', 'English Labels', 'Afrikaans Labels', 'Afrikaans Labels Encoded'], axis=1)\n",
    "lime_train_df"
   ]
  },
  {
   "cell_type": "code",
   "execution_count": null,
   "metadata": {
    "execution": {
     "iopub.execute_input": "2024-10-09T09:22:32.719358Z",
     "iopub.status.busy": "2024-10-09T09:22:32.719100Z",
     "iopub.status.idle": "2024-10-09T09:22:32.731970Z",
     "shell.execute_reply": "2024-10-09T09:22:32.731098Z",
     "shell.execute_reply.started": "2024-10-09T09:22:32.719335Z"
    },
    "trusted": true
   },
   "outputs": [],
   "source": [
    "lime_val_df = new_val_merged_df.copy()\n",
    "lime_val_df = lime_val_df.drop(['Index', 'English Sentence', 'English Labels', 'Afrikaans Labels', 'Afrikaans Labels Encoded'], axis=1)\n",
    "lime_val_df"
   ]
  },
  {
   "cell_type": "code",
   "execution_count": null,
   "metadata": {
    "execution": {
     "iopub.execute_input": "2024-10-09T09:22:32.733823Z",
     "iopub.status.busy": "2024-10-09T09:22:32.733473Z",
     "iopub.status.idle": "2024-10-09T09:22:32.746539Z",
     "shell.execute_reply": "2024-10-09T09:22:32.745599Z",
     "shell.execute_reply.started": "2024-10-09T09:22:32.733775Z"
    },
    "trusted": true
   },
   "outputs": [],
   "source": [
    "lime_test_df = new_test_merged_df.copy()\n",
    "lime_test_df = lime_test_df.drop(['Index', 'English Sentence', 'English Labels', 'Afrikaans Labels', 'Afrikaans Labels Encoded'], axis=1)\n",
    "lime_test_df"
   ]
  },
  {
   "cell_type": "code",
   "execution_count": null,
   "metadata": {
    "execution": {
     "iopub.execute_input": "2024-10-09T09:22:32.747938Z",
     "iopub.status.busy": "2024-10-09T09:22:32.747630Z",
     "iopub.status.idle": "2024-10-09T09:22:32.755909Z",
     "shell.execute_reply": "2024-10-09T09:22:32.755109Z",
     "shell.execute_reply.started": "2024-10-09T09:22:32.747915Z"
    },
    "trusted": true
   },
   "outputs": [],
   "source": [
    "def get_feature_names(dataframe_row):\n",
    "    return dataframe_row.split(' ')   "
   ]
  },
  {
   "cell_type": "code",
   "execution_count": null,
   "metadata": {
    "execution": {
     "iopub.execute_input": "2024-10-09T09:22:32.757494Z",
     "iopub.status.busy": "2024-10-09T09:22:32.756925Z",
     "iopub.status.idle": "2024-10-09T09:22:32.768203Z",
     "shell.execute_reply": "2024-10-09T09:22:32.767277Z",
     "shell.execute_reply.started": "2024-10-09T09:22:32.757465Z"
    },
    "trusted": true
   },
   "outputs": [],
   "source": [
    "get_feature_names(lime_train_df.iloc[0, 0])"
   ]
  },
  {
   "cell_type": "markdown",
   "metadata": {},
   "source": [
    "#### Create a pipeline from the previous models (i.e. BERT, Random Forest) with the LIME model"
   ]
  },
  {
   "cell_type": "code",
   "execution_count": null,
   "metadata": {
    "execution": {
     "iopub.execute_input": "2024-10-09T09:22:32.769261Z",
     "iopub.status.busy": "2024-10-09T09:22:32.769006Z",
     "iopub.status.idle": "2024-10-09T09:22:32.784638Z",
     "shell.execute_reply": "2024-10-09T09:22:32.783717Z",
     "shell.execute_reply.started": "2024-10-09T09:22:32.769220Z"
    },
    "trusted": true
   },
   "outputs": [],
   "source": [
    "class BertEmbeddingExtractor(BaseEstimator, TransformerMixin):\n",
    "    def __init__(self, embedding_file=None, set_split=None, model_name='bert-base-multilingual-cased', random_state=99):\n",
    "        self.tokenizer = BertTokenizerFast.from_pretrained(model_name)\n",
    "        self.model = BertModel.from_pretrained(model_name)\n",
    "        self.model.eval()  # Set model to evaluation mode\n",
    "        self.embeddings = None\n",
    "        self.embedding_file = embedding_file\n",
    "        self.set_split = set_split\n",
    "        self.random_state = random_state\n",
    "\n",
    "    def transform(self, texts, y=None, embedding_file=None, set_split=None):\n",
    "        # If no embedding file is provided, raise an error\n",
    "        if self.embedding_file is None and embedding_file is None:\n",
    "            raise ValueError(\"An embedding file must be provided.\")\n",
    "            \n",
    "        # If no set split is specified, raise an error\n",
    "        if self.set_split is None and set_split is None:\n",
    "            raise ValueError(\"The dataset split should be specified (e.g. 'train').\")\n",
    "        \n",
    "        # Handle cases for validation and testing files\n",
    "        if self.embedding_file != embedding_file and embedding_file is not None:\n",
    "            self.embedding_file = embedding_file\n",
    "            \n",
    "        if self.set_split != set_split and set_split is not None:\n",
    "            self.set_split = set_split\n",
    "\n",
    "        # Check if the embedding file exists\n",
    "        if os.path.exists(self.embedding_file):            \n",
    "            self.embeddings = np.load(self.embedding_file)\n",
    "            print(f\"Loaded existing embeddings from {self.embedding_file}.\")\n",
    "            \n",
    "            # Apply SMOTE if in 'train' set\n",
    "            if self.set_split == 'train' and y is not None:\n",
    "                print(f\"Balancing embeddings for training set with SMOTE.\")\n",
    "                smote = SMOTE(random_state=self.random_state)\n",
    "                X_balanced, y_balanced = smote.fit_resample(self.embeddings, y)\n",
    "                self.embeddings = X_balanced\n",
    "                return X_balanced, y_balanced\n",
    "            \n",
    "            return self.embeddings\n",
    "\n",
    "        # If embeddings need to be extracted\n",
    "        embeddings = []\n",
    "        for text in texts:\n",
    "            encoded_input = self.tokenizer(text, return_tensors='pt', padding=True, truncation=True, max_length=512)\n",
    "            with torch.no_grad():  # Disable gradient calculation\n",
    "                outputs = self.model(**encoded_input)\n",
    "                # Extract the mean of the last hidden states\n",
    "                embedding = outputs.last_hidden_state.mean(dim=1).squeeze().cpu().numpy()\n",
    "            embeddings.append(embedding)\n",
    "        \n",
    "        self.embeddings = np.array(embeddings)\n",
    "        embedding_output_file = f\"/kaggle/working/bert-af-embeddings/{self.set_split}_af_embeddings.npy\"\n",
    "        np.save(embedding_output_file, self.embeddings)  # Save embeddings to file\n",
    "        print(f\"Extracted and saved new embeddings to {embedding_output_file}.\")\n",
    "        \n",
    "        # Apply SMOTE if in 'train' set\n",
    "        if self.set_split == 'train' and y is not None:\n",
    "            print(f\"Balancing embeddings for training set with SMOTE.\")\n",
    "            smote = SMOTE(random_state=self.random_state)\n",
    "            X_balanced, y_balanced = smote.fit_resample(self.embeddings, y)\n",
    "            self.embeddings = X_balanced\n",
    "            return X_balanced, y_balanced\n",
    "        \n",
    "        return self.embeddings\n",
    "\n",
    "    def fit(self, X, y=None):\n",
    "        return self  # No fitting necessary for this transformer"
   ]
  },
  {
   "cell_type": "code",
   "execution_count": null,
   "metadata": {
    "execution": {
     "iopub.execute_input": "2024-10-09T09:22:32.785807Z",
     "iopub.status.busy": "2024-10-09T09:22:32.785573Z",
     "iopub.status.idle": "2024-10-09T09:22:32.808039Z",
     "shell.execute_reply": "2024-10-09T09:22:32.807181Z",
     "shell.execute_reply.started": "2024-10-09T09:22:32.785787Z"
    },
    "trusted": true
   },
   "outputs": [],
   "source": [
    "# Copy existing dataframes\n",
    "new_train_merged_df = train_merged_df.copy()\n",
    "new_val_merged_df = val_merged_df.copy()\n",
    "new_test_merged_df = test_merged_df.copy()\n",
    "\n",
    "# Change the existing labels to binary (1 for if it's not 'broek-vuur', 0 for 'broek-vuur')\n",
    "new_train_merged_df['New Afrikaans Labels Encoded'] = (new_train_merged_df['Afrikaans Labels'] != 'broek-vuur').astype(int)\n",
    "new_val_merged_df['New Afrikaans Labels Encoded'] = (new_val_merged_df['Afrikaans Labels'] != 'broek-vuur').astype(int)\n",
    "new_test_merged_df['New Afrikaans Labels Encoded'] = (new_test_merged_df['Afrikaans Labels'] != 'broek-vuur').astype(int)\n",
    "\n",
    "# Extract labels\n",
    "y_train = new_train_merged_df['New Afrikaans Labels Encoded']\n",
    "y_val = new_val_merged_df['New Afrikaans Labels Encoded']\n",
    "y_test = new_test_merged_df['New Afrikaans Labels Encoded']\n",
    "\n",
    "print(\"Training labels distribution:\", Counter(y_train))\n",
    "print(\"Validation labels distribution:\", Counter(y_val))\n",
    "print(\"Test labels distribution:\", Counter(y_test))"
   ]
  },
  {
   "cell_type": "code",
   "execution_count": null,
   "metadata": {
    "execution": {
     "iopub.execute_input": "2024-10-09T09:22:32.809494Z",
     "iopub.status.busy": "2024-10-09T09:22:32.809196Z",
     "iopub.status.idle": "2024-10-09T09:22:33.818302Z",
     "shell.execute_reply": "2024-10-09T09:22:33.817402Z",
     "shell.execute_reply.started": "2024-10-09T09:22:32.809471Z"
    },
    "trusted": true
   },
   "outputs": [],
   "source": [
    "# Define embedding file paths\n",
    "train_embedding_input_file = \"/kaggle/input/bert-af-embeddings/train_af_embeddings.npy\"\n",
    "val_embedding_input_file = \"/kaggle/input/bert-af-embeddings/val_af_embeddings.npy\"\n",
    "test_embedding_input_file = \"/kaggle/input/bert-af-embeddings/test_af_embeddings.npy\"\n",
    "\n",
    "# Initialise the extractor\n",
    "bert_extractor = BertEmbeddingExtractor()\n",
    "\n",
    "# Ensure output directory exists\n",
    "output_dir = \"/kaggle/working/bert-af-embeddings\"\n",
    "os.makedirs(output_dir, exist_ok=True)\n",
    "\n",
    "# Extract embeddings for each dataset\n",
    "training_embeddings, y_train_balanced = bert_extractor.transform(new_train_merged_df['Afrikaans Sentence'], y_train, train_embedding_input_file, 'train')\n",
    "validation_embeddings = bert_extractor.transform(new_val_merged_df['Afrikaans Sentence'], None, val_embedding_input_file, 'val')\n",
    "testing_embeddings = bert_extractor.transform(new_test_merged_df['Afrikaans Sentence'], None, test_embedding_input_file, 'test')"
   ]
  },
  {
   "cell_type": "code",
   "execution_count": null,
   "metadata": {
    "execution": {
     "iopub.execute_input": "2024-10-09T09:22:33.820037Z",
     "iopub.status.busy": "2024-10-09T09:22:33.819670Z",
     "iopub.status.idle": "2024-10-09T09:22:33.830480Z",
     "shell.execute_reply": "2024-10-09T09:22:33.829584Z",
     "shell.execute_reply.started": "2024-10-09T09:22:33.820003Z"
    },
    "trusted": true
   },
   "outputs": [],
   "source": [
    "# Extract features\n",
    "X_train_balanced = training_embeddings\n",
    "X_val = validation_embeddings\n",
    "X_test = testing_embeddings\n",
    "\n",
    "print(\"Training labels distribution:\", Counter(y_train_balanced))\n",
    "print(\"Validation labels distribution:\", Counter(y_val))\n",
    "print(\"Test labels distribution:\", Counter(y_test))"
   ]
  },
  {
   "cell_type": "code",
   "execution_count": null,
   "metadata": {
    "execution": {
     "iopub.execute_input": "2024-10-09T09:22:33.832234Z",
     "iopub.status.busy": "2024-10-09T09:22:33.831967Z",
     "iopub.status.idle": "2024-10-09T09:24:22.787939Z",
     "shell.execute_reply": "2024-10-09T09:24:22.787005Z",
     "shell.execute_reply.started": "2024-10-09T09:22:33.832211Z"
    },
    "trusted": true
   },
   "outputs": [],
   "source": [
    "# Initialize Random Forest Classifier \n",
    "rf_clf = RandomForestClassifier(n_estimators=100, random_state=42)\n",
    "\n",
    "class BertEmbeddingPipeline:\n",
    "    def __init__(self, embedding_file, set_split, classifier):\n",
    "        self.bert_extractor = BertEmbeddingExtractor(embedding_file, set_split)\n",
    "        self.classifier = classifier\n",
    "        self.embedding_file = embedding_file\n",
    "        self.set_split = set_split\n",
    "\n",
    "    def fit(self, X, y, is_balanced=False):\n",
    "        # Set the embedding file and split for training\n",
    "        self.bert_extractor.embedding_file = self.bert_extractor.embedding_file\n",
    "        self.bert_extractor.set_split = self.bert_extractor.set_split\n",
    "        \n",
    "        if is_balanced == False:\n",
    "            # Extract embeddings for training data\n",
    "            self.embeddings, balanced_y = self.bert_extractor.transform(X, y)\n",
    "            self.classifier.fit(self.embeddings, balanced_y)\n",
    "        else:\n",
    "            self.embeddings = X\n",
    "            self.classifier.fit(self.embeddings, y)\n",
    "\n",
    "    def predict(self, X, embedding_file=None, set_split=None):\n",
    "        if embedding_file is None:\n",
    "            embedding_file = self.embedding_file\n",
    "        \n",
    "        if set_split is None:\n",
    "            set_split = self.set_split\n",
    "            \n",
    "        # Set the embedding file and split for prediction\n",
    "        self.bert_extractor.embedding_file = embedding_file\n",
    "        self.bert_extractor.set_split = set_split\n",
    "        embeddings = self.bert_extractor.transform(X)\n",
    "        return self.classifier.predict(embeddings)\n",
    "\n",
    "# Create a custom pipeline instance\n",
    "pipeline = BertEmbeddingPipeline(train_embedding_input_file, 'train', rf_clf)\n",
    "\n",
    "# Fit the classifier on training set\n",
    "pipeline.fit(X_train_balanced, y_train_balanced, is_balanced=True)\n",
    "\n",
    "# Predict on validation set\n",
    "rf_pred = pipeline.predict(new_val_merged_df['Afrikaans Sentence'], val_embedding_input_file, 'val')\n",
    "\n",
    "# Evaluate on validation set\n",
    "print(\"Random Forest Validation Accuracy:\", accuracy_score(y_val, rf_pred))\n",
    "print(\"Validation Classification Report:\\n\", classification_report(y_val, rf_pred))\n",
    "\n",
    "# Predict on testing set\n",
    "rf_test = pipeline.predict(new_test_merged_df['Afrikaans Sentence'], test_embedding_input_file, 'test')\n",
    "\n",
    "# Test on the test set\n",
    "print(\"Random Forest Testing Accuracy:\", accuracy_score(y_test, rf_test))\n",
    "print(\"Testing Classification Report:\\n\", classification_report(y_test, rf_test))"
   ]
  },
  {
   "cell_type": "code",
   "execution_count": null,
   "metadata": {
    "execution": {
     "iopub.execute_input": "2024-10-09T09:24:22.789727Z",
     "iopub.status.busy": "2024-10-09T09:24:22.789434Z",
     "iopub.status.idle": "2024-10-09T09:24:22.800920Z",
     "shell.execute_reply": "2024-10-09T09:24:22.799977Z",
     "shell.execute_reply.started": "2024-10-09T09:24:22.789702Z"
    },
    "trusted": true
   },
   "outputs": [],
   "source": [
    "def explain_prediction(pipeline, text, embedding_file, set_split, num_samples):\n",
    "    # Use LIME to explain the prediction\n",
    "    print('Getting LIME explanation...\\n')\n",
    "    \n",
    "    # Function to predict probabilities for LIME\n",
    "    def predict_proba_fn(texts):\n",
    "        # Generate embeddings\n",
    "        embeddings = pipeline.bert_extractor.transform(texts, embedding_file, set_split)\n",
    "        print(f\"Embeddings shape: {embeddings.shape}\")\n",
    "        \n",
    "        return pipeline.classifier.predict_proba(embeddings)\n",
    "\n",
    "    # Initialise LIME Text Explainer\n",
    "    explainer = LimeTextExplainer(class_names=['Misinformation', 'Truthful'])\n",
    "\n",
    "    # Call explain_instance with the original text and the prediction function\n",
    "    exp = explainer.explain_instance(text, predict_proba_fn, num_features=len(text), num_samples=num_samples, top_labels=1)\n",
    "\n",
    "    # Display the explanation\n",
    "    exp.show_in_notebook(text=True)\n",
    "    \n",
    "    return exp\n",
    "\n",
    "def bold_text(text):\n",
    "    return \"\\033[1m\" + text + \"\\033[0m\"\n",
    "\n",
    "def generate_human_readable_explanations(important_features, prediction, true_label):\n",
    "    predicted_class = 'Truthful' if prediction == 1 else 'Misinformation'\n",
    "    true_class = 'Truthful' if true_label == 1 else 'Misinformation'\n",
    "\n",
    "    # Check if the model predicted correctly or incorrectly\n",
    "    correct_prediction = prediction == true_label\n",
    "    result = \"correctly\" if correct_prediction else \"incorrectly\"\n",
    "    joiner = \"and\" if correct_prediction else \"while\"\n",
    "\n",
    "    # Generate the human-readable explanation\n",
    "    explanation_text = f\"The model {result} predicted this text as {bold_text(predicted_class)}, {joiner} the actual class was {bold_text(true_class)}.\\n\"\n",
    "    \n",
    "    # Add interpretation based on the weights\n",
    "    for feature, weight in important_features:\n",
    "        if prediction == 1:  # Predicted 'Truthful'\n",
    "            if weight > 0:\n",
    "                explanation_text += f\"• '{feature}' supported {bold_text('Truthful')} (positive weight: {weight:.5f}).\\n\"\n",
    "            else:\n",
    "                explanation_text += f\"• '{feature}' opposed {bold_text('Truthful')} (negative weight: {weight:.5f}), contributing to 'Misinformation'.\\n\"\n",
    "        else:  # Predicted 'Misinformation'\n",
    "            if weight > 0:\n",
    "                explanation_text += f\"• '{feature}' oppposed {bold_text('Misinformation')} (positive weight: {weight:.5f}), contributing to 'Truthful'.\\n\"\n",
    "            else:\n",
    "                explanation_text += f\"• '{feature}' supported {bold_text('Misinformation')} (negative weight: {weight:.5f}).\\n\"\n",
    "    \n",
    "    # Final conclusion\n",
    "    explanation_text += f\"\\nIn this instance, the model's important features led it to predict {bold_text(predicted_class)}.\"\n",
    "\n",
    "    if not correct_prediction:\n",
    "        explanation_text += f\" However, the true class was {bold_text(true_class)}, suggesting that the model misinterpreted some key features.\"\n",
    "\n",
    "    print(explanation_text)"
   ]
  },
  {
   "cell_type": "markdown",
   "metadata": {},
   "source": [
    "#### Let us view a correctly predicted instance\n",
    "(Should have been predicted as '1' (Truthful), and was predicted as '1' (Truthful))"
   ]
  },
  {
   "cell_type": "code",
   "execution_count": null,
   "metadata": {
    "execution": {
     "iopub.execute_input": "2024-10-09T09:24:22.802365Z",
     "iopub.status.busy": "2024-10-09T09:24:22.802028Z",
     "iopub.status.idle": "2024-10-09T09:25:40.462207Z",
     "shell.execute_reply": "2024-10-09T09:25:40.460950Z",
     "shell.execute_reply.started": "2024-10-09T09:24:22.802339Z"
    },
    "trusted": true
   },
   "outputs": [],
   "source": [
    "# Show explanation\n",
    "index_to_explain = 0\n",
    "text_to_explain = new_test_merged_df['Afrikaans Sentence'].iloc[index_to_explain]\n",
    "\n",
    "# Use the test embedding file and set split\n",
    "explanation = explain_prediction(\n",
    "    pipeline,\n",
    "    text_to_explain,\n",
    "    embedding_file=test_embedding_input_file,\n",
    "    set_split='test',\n",
    "    num_samples=new_test_merged_df.shape[0]\n",
    ")"
   ]
  },
  {
   "cell_type": "code",
   "execution_count": null,
   "metadata": {
    "execution": {
     "iopub.execute_input": "2024-10-09T09:25:40.464984Z",
     "iopub.status.busy": "2024-10-09T09:25:40.464196Z",
     "iopub.status.idle": "2024-10-09T09:25:40.474894Z",
     "shell.execute_reply": "2024-10-09T09:25:40.473897Z",
     "shell.execute_reply.started": "2024-10-09T09:25:40.464929Z"
    },
    "trusted": true
   },
   "outputs": [],
   "source": [
    "# Extract and format the explanation from LIME\n",
    "if rf_test[index_to_explain] == 0:\n",
    "    important_features = explanation.as_list(label=0)\n",
    "else:\n",
    "    important_features = explanation.as_list()\n",
    "    \n",
    "generate_human_readable_explanations(important_features, rf_test[index_to_explain], y_test[index_to_explain])"
   ]
  },
  {
   "cell_type": "markdown",
   "metadata": {},
   "source": [
    "#### Let us view a wrongly predicted instance\n",
    "(Should have been predicted as '0' (Misinformation), but was predicted as '1' (Truthful))"
   ]
  },
  {
   "cell_type": "code",
   "execution_count": null,
   "metadata": {
    "execution": {
     "iopub.execute_input": "2024-10-09T09:25:40.477921Z",
     "iopub.status.busy": "2024-10-09T09:25:40.477175Z",
     "iopub.status.idle": "2024-10-09T09:27:04.247691Z",
     "shell.execute_reply": "2024-10-09T09:27:04.246318Z",
     "shell.execute_reply.started": "2024-10-09T09:25:40.477876Z"
    },
    "trusted": true
   },
   "outputs": [],
   "source": [
    "# Show explanation\n",
    "index_to_explain = 4\n",
    "text_to_explain = new_test_merged_df['Afrikaans Sentence'].iloc[index_to_explain]\n",
    "\n",
    "# Use the test embedding file and set split\n",
    "explanation = explain_prediction(\n",
    "    pipeline,\n",
    "    text_to_explain,\n",
    "    embedding_file=test_embedding_input_file,\n",
    "    set_split='test',\n",
    "    num_samples=new_test_merged_df.shape[0]\n",
    ")"
   ]
  },
  {
   "cell_type": "code",
   "execution_count": null,
   "metadata": {
    "execution": {
     "iopub.execute_input": "2024-10-09T09:27:04.250885Z",
     "iopub.status.busy": "2024-10-09T09:27:04.249598Z",
     "iopub.status.idle": "2024-10-09T09:27:04.258821Z",
     "shell.execute_reply": "2024-10-09T09:27:04.257760Z",
     "shell.execute_reply.started": "2024-10-09T09:27:04.250835Z"
    },
    "trusted": true
   },
   "outputs": [],
   "source": [
    "# Extract and format the explanation from LIME\n",
    "if rf_test[index_to_explain] == 0:\n",
    "    important_features = explanation.as_list(label=0)\n",
    "else:\n",
    "    important_features = explanation.as_list()\n",
    "\n",
    "generate_human_readable_explanations(important_features, rf_test[index_to_explain], y_test[index_to_explain])"
   ]
  },
  {
   "cell_type": "markdown",
   "metadata": {},
   "source": [
    "#### Let's look at another wrongly predicted instance\n",
    "Should have predicted as '1' (Truthful) but was predicted as '0' (Misinformation)"
   ]
  },
  {
   "cell_type": "code",
   "execution_count": null,
   "metadata": {
    "execution": {
     "iopub.execute_input": "2024-10-09T09:27:04.261203Z",
     "iopub.status.busy": "2024-10-09T09:27:04.260585Z",
     "iopub.status.idle": "2024-10-09T09:28:29.591148Z",
     "shell.execute_reply": "2024-10-09T09:28:29.589927Z",
     "shell.execute_reply.started": "2024-10-09T09:27:04.261160Z"
    },
    "trusted": true
   },
   "outputs": [],
   "source": [
    "# Show explanation\n",
    "index_to_explain = 170\n",
    "text_to_explain = new_test_merged_df['Afrikaans Sentence'].iloc[index_to_explain]\n",
    "\n",
    "# Use the test embedding file and set split\n",
    "explanation = explain_prediction(\n",
    "    pipeline,\n",
    "    text_to_explain,\n",
    "    embedding_file=test_embedding_input_file,\n",
    "    set_split='test',\n",
    "    num_samples=new_test_merged_df.shape[0]\n",
    ")"
   ]
  },
  {
   "cell_type": "code",
   "execution_count": null,
   "metadata": {
    "execution": {
     "iopub.execute_input": "2024-10-09T09:28:29.593113Z",
     "iopub.status.busy": "2024-10-09T09:28:29.592723Z",
     "iopub.status.idle": "2024-10-09T09:28:29.602696Z",
     "shell.execute_reply": "2024-10-09T09:28:29.601389Z",
     "shell.execute_reply.started": "2024-10-09T09:28:29.593079Z"
    },
    "trusted": true
   },
   "outputs": [],
   "source": [
    "# Extract and format the explanation from LIME\n",
    "if rf_test[index_to_explain] == 0:\n",
    "    important_features = explanation.as_list(label=0)\n",
    "else:\n",
    "    important_features = explanation.as_list()\n",
    "\n",
    "generate_human_readable_explanations(important_features, rf_test[index_to_explain], y_test[index_to_explain])"
   ]
  },
  {
   "cell_type": "markdown",
   "metadata": {},
   "source": [
    "#### Reason for misclassification\n",
    "\n",
    "Despite balancing our training data, the model continued to misclassify some instances. This could be due to the potential bias created during the re-labeling of dataset classes with OPTION 3. Furthermore, this re-labeling approach could have been more effective with the original English data, resulting in better predictions.\n",
    "\n",
    "However, it is worth noting that the classification model had high accuracy scores across all datasets (training, validation, and testing). Furthermore, the creation of human-readable explanations revealed how the LIME model mostly understands the classifier's behaviour correctly, providing important insights into its decision-making process. A possible solution to solve the problem may be to combine several Afrikaans-translated fake news datasets to increase the number of resources available for training, validation, and testing sets. \n"
   ]
  },
  {
   "cell_type": "code",
   "execution_count": null,
   "metadata": {},
   "outputs": [],
   "source": []
  }
 ],
 "metadata": {
  "accelerator": "GPU",
  "colab": {
   "authorship_tag": "ABX9TyNhKpnlb3/N4GygYE0SWlCX",
   "gpuType": "T4",
   "mount_file_id": "1I-6RztSGyoNtU9cwil9QgaFO36Nw2lHk",
   "provenance": []
  },
  "kaggle": {
   "accelerator": "nvidiaTeslaT4",
   "dataSources": [
    {
     "datasetId": 5365325,
     "sourceId": 8920690,
     "sourceType": "datasetVersion"
    },
    {
     "datasetId": 5365390,
     "sourceId": 8920773,
     "sourceType": "datasetVersion"
    },
    {
     "datasetId": 5396518,
     "sourceId": 8965200,
     "sourceType": "datasetVersion"
    },
    {
     "datasetId": 5438323,
     "sourceId": 9024012,
     "sourceType": "datasetVersion"
    },
    {
     "datasetId": 5453389,
     "sourceId": 9045327,
     "sourceType": "datasetVersion"
    },
    {
     "datasetId": 5461609,
     "sourceId": 9057493,
     "sourceType": "datasetVersion"
    },
    {
     "datasetId": 5675521,
     "sourceId": 9360673,
     "sourceType": "datasetVersion"
    },
    {
     "datasetId": 5680998,
     "sourceId": 9367835,
     "sourceType": "datasetVersion"
    },
    {
     "datasetId": 5681002,
     "sourceId": 9367840,
     "sourceType": "datasetVersion"
    },
    {
     "datasetId": 5814993,
     "sourceId": 9544958,
     "sourceType": "datasetVersion"
    }
   ],
   "dockerImageVersionId": 30733,
   "isGpuEnabled": true,
   "isInternetEnabled": true,
   "language": "python",
   "sourceType": "notebook"
  },
  "kernelspec": {
   "display_name": "Python 3",
   "language": "python",
   "name": "python3"
  },
  "language_info": {
   "codemirror_mode": {
    "name": "ipython",
    "version": 3
   },
   "file_extension": ".py",
   "mimetype": "text/x-python",
   "name": "python",
   "nbconvert_exporter": "python",
   "pygments_lexer": "ipython3",
   "version": "3.10.13"
  }
 },
 "nbformat": 4,
 "nbformat_minor": 4
}
